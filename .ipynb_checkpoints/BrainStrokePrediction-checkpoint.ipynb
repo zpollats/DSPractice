{
 "cells": [
  {
   "cell_type": "code",
   "execution_count": 1,
   "id": "786d754c",
   "metadata": {},
   "outputs": [
    {
     "name": "stderr",
     "output_type": "stream",
     "text": [
      "/Users/zachpollatsek/opt/anaconda3/envs/capstone/lib/python3.10/site-packages/xgboost/compat.py:36: FutureWarning: pandas.Int64Index is deprecated and will be removed from pandas in a future version. Use pandas.Index with the appropriate dtype instead.\n",
      "  from pandas import MultiIndex, Int64Index\n"
     ]
    }
   ],
   "source": [
    "# import all relevant libraries for creation of model for brain stroke\n",
    "import pandas as pd\n",
    "import numpy as np\n",
    "import matplotlib.pyplot as plt\n",
    "import seaborn as sns\n",
    "\n",
    "from sklearn.dummy import DummyClassifier\n",
    "from sklearn.preprocessing import OneHotEncoder, StandardScaler\n",
    "from sklearn.linear_model import LogisticRegression\n",
    "from sklearn.model_selection import cross_val_score, GridSearchCV, train_test_split\n",
    "from sklearn.tree import DecisionTreeClassifier\n",
    "from sklearn.ensemble import RandomForestClassifier, StackingClassifier\n",
    "from sklearn.metrics import accuracy_score, recall_score, precision_score, confusion_matrix, \\\n",
    "                            plot_confusion_matrix, plot_roc_curve, roc_auc_score, classification_report, \\\n",
    "                            ConfusionMatrixDisplay, f1_score\n",
    "from sklearn.pipeline import Pipeline\n",
    "from sklearn.compose import ColumnTransformer\n",
    "from sklearn.neighbors import KNeighborsClassifier\n",
    "from sklearn.decomposition import PCA\n",
    "\n",
    "from imblearn.over_sampling import SMOTE\n",
    "from imblearn.pipeline import Pipeline as ImPipeline\n",
    "\n",
    "from xgboost import XGBClassifier\n"
   ]
  },
  {
   "cell_type": "code",
   "execution_count": 2,
   "id": "fdc74d3c",
   "metadata": {},
   "outputs": [],
   "source": [
    "# perform initial inspection of dataset\n",
    "df = pd.read_csv('brain_stroke.csv')"
   ]
  },
  {
   "cell_type": "code",
   "execution_count": 3,
   "id": "20219d2b",
   "metadata": {},
   "outputs": [
    {
     "data": {
      "text/html": [
       "<div>\n",
       "<style scoped>\n",
       "    .dataframe tbody tr th:only-of-type {\n",
       "        vertical-align: middle;\n",
       "    }\n",
       "\n",
       "    .dataframe tbody tr th {\n",
       "        vertical-align: top;\n",
       "    }\n",
       "\n",
       "    .dataframe thead th {\n",
       "        text-align: right;\n",
       "    }\n",
       "</style>\n",
       "<table border=\"1\" class=\"dataframe\">\n",
       "  <thead>\n",
       "    <tr style=\"text-align: right;\">\n",
       "      <th></th>\n",
       "      <th>gender</th>\n",
       "      <th>age</th>\n",
       "      <th>hypertension</th>\n",
       "      <th>heart_disease</th>\n",
       "      <th>ever_married</th>\n",
       "      <th>work_type</th>\n",
       "      <th>Residence_type</th>\n",
       "      <th>avg_glucose_level</th>\n",
       "      <th>bmi</th>\n",
       "      <th>smoking_status</th>\n",
       "      <th>stroke</th>\n",
       "    </tr>\n",
       "  </thead>\n",
       "  <tbody>\n",
       "    <tr>\n",
       "      <th>0</th>\n",
       "      <td>Male</td>\n",
       "      <td>67.0</td>\n",
       "      <td>0</td>\n",
       "      <td>1</td>\n",
       "      <td>Yes</td>\n",
       "      <td>Private</td>\n",
       "      <td>Urban</td>\n",
       "      <td>228.69</td>\n",
       "      <td>36.6</td>\n",
       "      <td>formerly smoked</td>\n",
       "      <td>1</td>\n",
       "    </tr>\n",
       "    <tr>\n",
       "      <th>1</th>\n",
       "      <td>Male</td>\n",
       "      <td>80.0</td>\n",
       "      <td>0</td>\n",
       "      <td>1</td>\n",
       "      <td>Yes</td>\n",
       "      <td>Private</td>\n",
       "      <td>Rural</td>\n",
       "      <td>105.92</td>\n",
       "      <td>32.5</td>\n",
       "      <td>never smoked</td>\n",
       "      <td>1</td>\n",
       "    </tr>\n",
       "    <tr>\n",
       "      <th>2</th>\n",
       "      <td>Female</td>\n",
       "      <td>49.0</td>\n",
       "      <td>0</td>\n",
       "      <td>0</td>\n",
       "      <td>Yes</td>\n",
       "      <td>Private</td>\n",
       "      <td>Urban</td>\n",
       "      <td>171.23</td>\n",
       "      <td>34.4</td>\n",
       "      <td>smokes</td>\n",
       "      <td>1</td>\n",
       "    </tr>\n",
       "    <tr>\n",
       "      <th>3</th>\n",
       "      <td>Female</td>\n",
       "      <td>79.0</td>\n",
       "      <td>1</td>\n",
       "      <td>0</td>\n",
       "      <td>Yes</td>\n",
       "      <td>Self-employed</td>\n",
       "      <td>Rural</td>\n",
       "      <td>174.12</td>\n",
       "      <td>24.0</td>\n",
       "      <td>never smoked</td>\n",
       "      <td>1</td>\n",
       "    </tr>\n",
       "    <tr>\n",
       "      <th>4</th>\n",
       "      <td>Male</td>\n",
       "      <td>81.0</td>\n",
       "      <td>0</td>\n",
       "      <td>0</td>\n",
       "      <td>Yes</td>\n",
       "      <td>Private</td>\n",
       "      <td>Urban</td>\n",
       "      <td>186.21</td>\n",
       "      <td>29.0</td>\n",
       "      <td>formerly smoked</td>\n",
       "      <td>1</td>\n",
       "    </tr>\n",
       "  </tbody>\n",
       "</table>\n",
       "</div>"
      ],
      "text/plain": [
       "   gender   age  hypertension  heart_disease ever_married      work_type  \\\n",
       "0    Male  67.0             0              1          Yes        Private   \n",
       "1    Male  80.0             0              1          Yes        Private   \n",
       "2  Female  49.0             0              0          Yes        Private   \n",
       "3  Female  79.0             1              0          Yes  Self-employed   \n",
       "4    Male  81.0             0              0          Yes        Private   \n",
       "\n",
       "  Residence_type  avg_glucose_level   bmi   smoking_status  stroke  \n",
       "0          Urban             228.69  36.6  formerly smoked       1  \n",
       "1          Rural             105.92  32.5     never smoked       1  \n",
       "2          Urban             171.23  34.4           smokes       1  \n",
       "3          Rural             174.12  24.0     never smoked       1  \n",
       "4          Urban             186.21  29.0  formerly smoked       1  "
      ]
     },
     "execution_count": 3,
     "metadata": {},
     "output_type": "execute_result"
    }
   ],
   "source": [
    "df.head()"
   ]
  },
  {
   "cell_type": "markdown",
   "id": "27cfb382",
   "metadata": {},
   "source": [
    "We can see that there are both categorical and numerical features, so we will need to perform feature engineering to get all the columns in the format that we would like. "
   ]
  },
  {
   "cell_type": "code",
   "execution_count": 4,
   "id": "fd66bfb2",
   "metadata": {},
   "outputs": [
    {
     "data": {
      "text/plain": [
       "(4981, 11)"
      ]
     },
     "execution_count": 4,
     "metadata": {},
     "output_type": "execute_result"
    }
   ],
   "source": [
    "df.shape"
   ]
  },
  {
   "cell_type": "code",
   "execution_count": 5,
   "id": "f073f37e",
   "metadata": {},
   "outputs": [
    {
     "data": {
      "text/html": [
       "<div>\n",
       "<style scoped>\n",
       "    .dataframe tbody tr th:only-of-type {\n",
       "        vertical-align: middle;\n",
       "    }\n",
       "\n",
       "    .dataframe tbody tr th {\n",
       "        vertical-align: top;\n",
       "    }\n",
       "\n",
       "    .dataframe thead th {\n",
       "        text-align: right;\n",
       "    }\n",
       "</style>\n",
       "<table border=\"1\" class=\"dataframe\">\n",
       "  <thead>\n",
       "    <tr style=\"text-align: right;\">\n",
       "      <th></th>\n",
       "      <th>age</th>\n",
       "      <th>hypertension</th>\n",
       "      <th>heart_disease</th>\n",
       "      <th>avg_glucose_level</th>\n",
       "      <th>bmi</th>\n",
       "      <th>stroke</th>\n",
       "    </tr>\n",
       "  </thead>\n",
       "  <tbody>\n",
       "    <tr>\n",
       "      <th>count</th>\n",
       "      <td>4981.000000</td>\n",
       "      <td>4981.000000</td>\n",
       "      <td>4981.000000</td>\n",
       "      <td>4981.000000</td>\n",
       "      <td>4981.000000</td>\n",
       "      <td>4981.000000</td>\n",
       "    </tr>\n",
       "    <tr>\n",
       "      <th>mean</th>\n",
       "      <td>43.419859</td>\n",
       "      <td>0.096165</td>\n",
       "      <td>0.055210</td>\n",
       "      <td>105.943562</td>\n",
       "      <td>28.498173</td>\n",
       "      <td>0.049789</td>\n",
       "    </tr>\n",
       "    <tr>\n",
       "      <th>std</th>\n",
       "      <td>22.662755</td>\n",
       "      <td>0.294848</td>\n",
       "      <td>0.228412</td>\n",
       "      <td>45.075373</td>\n",
       "      <td>6.790464</td>\n",
       "      <td>0.217531</td>\n",
       "    </tr>\n",
       "    <tr>\n",
       "      <th>min</th>\n",
       "      <td>0.080000</td>\n",
       "      <td>0.000000</td>\n",
       "      <td>0.000000</td>\n",
       "      <td>55.120000</td>\n",
       "      <td>14.000000</td>\n",
       "      <td>0.000000</td>\n",
       "    </tr>\n",
       "    <tr>\n",
       "      <th>25%</th>\n",
       "      <td>25.000000</td>\n",
       "      <td>0.000000</td>\n",
       "      <td>0.000000</td>\n",
       "      <td>77.230000</td>\n",
       "      <td>23.700000</td>\n",
       "      <td>0.000000</td>\n",
       "    </tr>\n",
       "    <tr>\n",
       "      <th>50%</th>\n",
       "      <td>45.000000</td>\n",
       "      <td>0.000000</td>\n",
       "      <td>0.000000</td>\n",
       "      <td>91.850000</td>\n",
       "      <td>28.100000</td>\n",
       "      <td>0.000000</td>\n",
       "    </tr>\n",
       "    <tr>\n",
       "      <th>75%</th>\n",
       "      <td>61.000000</td>\n",
       "      <td>0.000000</td>\n",
       "      <td>0.000000</td>\n",
       "      <td>113.860000</td>\n",
       "      <td>32.600000</td>\n",
       "      <td>0.000000</td>\n",
       "    </tr>\n",
       "    <tr>\n",
       "      <th>max</th>\n",
       "      <td>82.000000</td>\n",
       "      <td>1.000000</td>\n",
       "      <td>1.000000</td>\n",
       "      <td>271.740000</td>\n",
       "      <td>48.900000</td>\n",
       "      <td>1.000000</td>\n",
       "    </tr>\n",
       "  </tbody>\n",
       "</table>\n",
       "</div>"
      ],
      "text/plain": [
       "               age  hypertension  heart_disease  avg_glucose_level  \\\n",
       "count  4981.000000   4981.000000    4981.000000        4981.000000   \n",
       "mean     43.419859      0.096165       0.055210         105.943562   \n",
       "std      22.662755      0.294848       0.228412          45.075373   \n",
       "min       0.080000      0.000000       0.000000          55.120000   \n",
       "25%      25.000000      0.000000       0.000000          77.230000   \n",
       "50%      45.000000      0.000000       0.000000          91.850000   \n",
       "75%      61.000000      0.000000       0.000000         113.860000   \n",
       "max      82.000000      1.000000       1.000000         271.740000   \n",
       "\n",
       "               bmi       stroke  \n",
       "count  4981.000000  4981.000000  \n",
       "mean     28.498173     0.049789  \n",
       "std       6.790464     0.217531  \n",
       "min      14.000000     0.000000  \n",
       "25%      23.700000     0.000000  \n",
       "50%      28.100000     0.000000  \n",
       "75%      32.600000     0.000000  \n",
       "max      48.900000     1.000000  "
      ]
     },
     "execution_count": 5,
     "metadata": {},
     "output_type": "execute_result"
    }
   ],
   "source": [
    "df.describe()"
   ]
  },
  {
   "cell_type": "code",
   "execution_count": 6,
   "id": "24e5c48d",
   "metadata": {},
   "outputs": [
    {
     "data": {
      "text/plain": [
       "0    4733\n",
       "1     248\n",
       "Name: stroke, dtype: int64"
      ]
     },
     "execution_count": 6,
     "metadata": {},
     "output_type": "execute_result"
    }
   ],
   "source": [
    "df['stroke'].value_counts()"
   ]
  },
  {
   "cell_type": "markdown",
   "id": "f71c26bd",
   "metadata": {},
   "source": [
    "We have a relatively large class imbalance, so we will use SMOTE to balance our classes."
   ]
  },
  {
   "cell_type": "code",
   "execution_count": 7,
   "id": "5736f170",
   "metadata": {
    "scrolled": false
   },
   "outputs": [
    {
     "data": {
      "text/plain": [
       "gender               0\n",
       "age                  0\n",
       "hypertension         0\n",
       "heart_disease        0\n",
       "ever_married         0\n",
       "work_type            0\n",
       "Residence_type       0\n",
       "avg_glucose_level    0\n",
       "bmi                  0\n",
       "smoking_status       0\n",
       "stroke               0\n",
       "dtype: int64"
      ]
     },
     "execution_count": 7,
     "metadata": {},
     "output_type": "execute_result"
    }
   ],
   "source": [
    "df.isna().sum()"
   ]
  },
  {
   "cell_type": "markdown",
   "id": "4be2e198",
   "metadata": {},
   "source": [
    "### Modeling Set Up\n"
   ]
  },
  {
   "cell_type": "code",
   "execution_count": 21,
   "id": "06070719",
   "metadata": {},
   "outputs": [],
   "source": [
    "# Create our sub pipelines for numeric and categorial data\n",
    "\n",
    "subpipe_num = Pipeline(steps=[('ss', StandardScaler())])\n",
    "subpipe_cat = Pipeline(steps=[('ohe', OneHotEncoder(sparse=False,\n",
    "                                                    handle_unknown='ignore'))])\n",
    "\n",
    "subpipe_smote = SMOTE(sampling_strategy='minority', random_state=42)\n",
    "\n",
    "CT = ColumnTransformer(transformers=[('subpipe_num', subpipe_num, [1,7,8]), \n",
    "                                     ('subpipe_cat', subpipe_cat, [0,2,3,4,5,6,9])])"
   ]
  },
  {
   "cell_type": "code",
   "execution_count": 22,
   "id": "0196f7ef",
   "metadata": {},
   "outputs": [],
   "source": [
    "X = df.drop(columns='stroke')\n",
    "y = df['stroke']"
   ]
  },
  {
   "cell_type": "code",
   "execution_count": 23,
   "id": "26e6179d",
   "metadata": {},
   "outputs": [],
   "source": [
    "X_train, X_test, y_train, y_test = train_test_split(X, y, test_size=0.2, random_state=24)"
   ]
  },
  {
   "cell_type": "code",
   "execution_count": 24,
   "id": "1a2a399f",
   "metadata": {},
   "outputs": [],
   "source": [
    "X_train_fin, X_val, y_train_fin, y_val = train_test_split(X_train, y_train, test_size=0.2, random_state=24) "
   ]
  },
  {
   "cell_type": "code",
   "execution_count": 25,
   "id": "cbb24b32",
   "metadata": {},
   "outputs": [
    {
     "data": {
      "text/html": [
       "<style>#sk-container-id-2 {color: black;background-color: white;}#sk-container-id-2 pre{padding: 0;}#sk-container-id-2 div.sk-toggleable {background-color: white;}#sk-container-id-2 label.sk-toggleable__label {cursor: pointer;display: block;width: 100%;margin-bottom: 0;padding: 0.3em;box-sizing: border-box;text-align: center;}#sk-container-id-2 label.sk-toggleable__label-arrow:before {content: \"▸\";float: left;margin-right: 0.25em;color: #696969;}#sk-container-id-2 label.sk-toggleable__label-arrow:hover:before {color: black;}#sk-container-id-2 div.sk-estimator:hover label.sk-toggleable__label-arrow:before {color: black;}#sk-container-id-2 div.sk-toggleable__content {max-height: 0;max-width: 0;overflow: hidden;text-align: left;background-color: #f0f8ff;}#sk-container-id-2 div.sk-toggleable__content pre {margin: 0.2em;color: black;border-radius: 0.25em;background-color: #f0f8ff;}#sk-container-id-2 input.sk-toggleable__control:checked~div.sk-toggleable__content {max-height: 200px;max-width: 100%;overflow: auto;}#sk-container-id-2 input.sk-toggleable__control:checked~label.sk-toggleable__label-arrow:before {content: \"▾\";}#sk-container-id-2 div.sk-estimator input.sk-toggleable__control:checked~label.sk-toggleable__label {background-color: #d4ebff;}#sk-container-id-2 div.sk-label input.sk-toggleable__control:checked~label.sk-toggleable__label {background-color: #d4ebff;}#sk-container-id-2 input.sk-hidden--visually {border: 0;clip: rect(1px 1px 1px 1px);clip: rect(1px, 1px, 1px, 1px);height: 1px;margin: -1px;overflow: hidden;padding: 0;position: absolute;width: 1px;}#sk-container-id-2 div.sk-estimator {font-family: monospace;background-color: #f0f8ff;border: 1px dotted black;border-radius: 0.25em;box-sizing: border-box;margin-bottom: 0.5em;}#sk-container-id-2 div.sk-estimator:hover {background-color: #d4ebff;}#sk-container-id-2 div.sk-parallel-item::after {content: \"\";width: 100%;border-bottom: 1px solid gray;flex-grow: 1;}#sk-container-id-2 div.sk-label:hover label.sk-toggleable__label {background-color: #d4ebff;}#sk-container-id-2 div.sk-serial::before {content: \"\";position: absolute;border-left: 1px solid gray;box-sizing: border-box;top: 0;bottom: 0;left: 50%;z-index: 0;}#sk-container-id-2 div.sk-serial {display: flex;flex-direction: column;align-items: center;background-color: white;padding-right: 0.2em;padding-left: 0.2em;position: relative;}#sk-container-id-2 div.sk-item {position: relative;z-index: 1;}#sk-container-id-2 div.sk-parallel {display: flex;align-items: stretch;justify-content: center;background-color: white;position: relative;}#sk-container-id-2 div.sk-item::before, #sk-container-id-2 div.sk-parallel-item::before {content: \"\";position: absolute;border-left: 1px solid gray;box-sizing: border-box;top: 0;bottom: 0;left: 50%;z-index: -1;}#sk-container-id-2 div.sk-parallel-item {display: flex;flex-direction: column;z-index: 1;position: relative;background-color: white;}#sk-container-id-2 div.sk-parallel-item:first-child::after {align-self: flex-end;width: 50%;}#sk-container-id-2 div.sk-parallel-item:last-child::after {align-self: flex-start;width: 50%;}#sk-container-id-2 div.sk-parallel-item:only-child::after {width: 0;}#sk-container-id-2 div.sk-dashed-wrapped {border: 1px dashed gray;margin: 0 0.4em 0.5em 0.4em;box-sizing: border-box;padding-bottom: 0.4em;background-color: white;}#sk-container-id-2 div.sk-label label {font-family: monospace;font-weight: bold;display: inline-block;line-height: 1.2em;}#sk-container-id-2 div.sk-label-container {text-align: center;}#sk-container-id-2 div.sk-container {/* jupyter's `normalize.less` sets `[hidden] { display: none; }` but bootstrap.min.css set `[hidden] { display: none !important; }` so we also need the `!important` here to be able to override the default hidden behavior on the sphinx rendered scikit-learn.org. See: https://github.com/scikit-learn/scikit-learn/issues/21755 */display: inline-block !important;position: relative;}#sk-container-id-2 div.sk-text-repr-fallback {display: none;}</style><div id=\"sk-container-id-2\" class=\"sk-top-container\"><div class=\"sk-text-repr-fallback\"><pre>ColumnTransformer(transformers=[(&#x27;subpipe_num&#x27;,\n",
       "                                 Pipeline(steps=[(&#x27;ss&#x27;, StandardScaler())]),\n",
       "                                 [1, 7, 8]),\n",
       "                                (&#x27;subpipe_cat&#x27;,\n",
       "                                 Pipeline(steps=[(&#x27;ohe&#x27;,\n",
       "                                                  OneHotEncoder(handle_unknown=&#x27;ignore&#x27;,\n",
       "                                                                sparse=False))]),\n",
       "                                 [0, 2, 3, 4, 5, 6, 9])])</pre><b>In a Jupyter environment, please rerun this cell to show the HTML representation or trust the notebook. <br />On GitHub, the HTML representation is unable to render, please try loading this page with nbviewer.org.</b></div><div class=\"sk-container\" hidden><div class=\"sk-item sk-dashed-wrapped\"><div class=\"sk-label-container\"><div class=\"sk-label sk-toggleable\"><input class=\"sk-toggleable__control sk-hidden--visually\" id=\"sk-estimator-id-6\" type=\"checkbox\" ><label for=\"sk-estimator-id-6\" class=\"sk-toggleable__label sk-toggleable__label-arrow\">ColumnTransformer</label><div class=\"sk-toggleable__content\"><pre>ColumnTransformer(transformers=[(&#x27;subpipe_num&#x27;,\n",
       "                                 Pipeline(steps=[(&#x27;ss&#x27;, StandardScaler())]),\n",
       "                                 [1, 7, 8]),\n",
       "                                (&#x27;subpipe_cat&#x27;,\n",
       "                                 Pipeline(steps=[(&#x27;ohe&#x27;,\n",
       "                                                  OneHotEncoder(handle_unknown=&#x27;ignore&#x27;,\n",
       "                                                                sparse=False))]),\n",
       "                                 [0, 2, 3, 4, 5, 6, 9])])</pre></div></div></div><div class=\"sk-parallel\"><div class=\"sk-parallel-item\"><div class=\"sk-item\"><div class=\"sk-label-container\"><div class=\"sk-label sk-toggleable\"><input class=\"sk-toggleable__control sk-hidden--visually\" id=\"sk-estimator-id-7\" type=\"checkbox\" ><label for=\"sk-estimator-id-7\" class=\"sk-toggleable__label sk-toggleable__label-arrow\">subpipe_num</label><div class=\"sk-toggleable__content\"><pre>[1, 7, 8]</pre></div></div></div><div class=\"sk-serial\"><div class=\"sk-item\"><div class=\"sk-serial\"><div class=\"sk-item\"><div class=\"sk-estimator sk-toggleable\"><input class=\"sk-toggleable__control sk-hidden--visually\" id=\"sk-estimator-id-8\" type=\"checkbox\" ><label for=\"sk-estimator-id-8\" class=\"sk-toggleable__label sk-toggleable__label-arrow\">StandardScaler</label><div class=\"sk-toggleable__content\"><pre>StandardScaler()</pre></div></div></div></div></div></div></div></div><div class=\"sk-parallel-item\"><div class=\"sk-item\"><div class=\"sk-label-container\"><div class=\"sk-label sk-toggleable\"><input class=\"sk-toggleable__control sk-hidden--visually\" id=\"sk-estimator-id-9\" type=\"checkbox\" ><label for=\"sk-estimator-id-9\" class=\"sk-toggleable__label sk-toggleable__label-arrow\">subpipe_cat</label><div class=\"sk-toggleable__content\"><pre>[0, 2, 3, 4, 5, 6, 9]</pre></div></div></div><div class=\"sk-serial\"><div class=\"sk-item\"><div class=\"sk-serial\"><div class=\"sk-item\"><div class=\"sk-estimator sk-toggleable\"><input class=\"sk-toggleable__control sk-hidden--visually\" id=\"sk-estimator-id-10\" type=\"checkbox\" ><label for=\"sk-estimator-id-10\" class=\"sk-toggleable__label sk-toggleable__label-arrow\">OneHotEncoder</label><div class=\"sk-toggleable__content\"><pre>OneHotEncoder(handle_unknown=&#x27;ignore&#x27;, sparse=False)</pre></div></div></div></div></div></div></div></div></div></div></div></div>"
      ],
      "text/plain": [
       "ColumnTransformer(transformers=[('subpipe_num',\n",
       "                                 Pipeline(steps=[('ss', StandardScaler())]),\n",
       "                                 [1, 7, 8]),\n",
       "                                ('subpipe_cat',\n",
       "                                 Pipeline(steps=[('ohe',\n",
       "                                                  OneHotEncoder(handle_unknown='ignore',\n",
       "                                                                sparse=False))]),\n",
       "                                 [0, 2, 3, 4, 5, 6, 9])])"
      ]
     },
     "execution_count": 25,
     "metadata": {},
     "output_type": "execute_result"
    }
   ],
   "source": [
    "CT.fit(X_train_fin)"
   ]
  },
  {
   "cell_type": "code",
   "execution_count": 13,
   "id": "8260fd2c",
   "metadata": {},
   "outputs": [],
   "source": [
    "X_train_fin = CT.transform(X_train_fin)\n",
    "X_val = CT.transform(X_val)\n",
    "X_test = CT.transform(X_test)"
   ]
  },
  {
   "cell_type": "code",
   "execution_count": 14,
   "id": "fac0deea",
   "metadata": {},
   "outputs": [
    {
     "data": {
      "text/plain": [
       "(3187, 21)"
      ]
     },
     "execution_count": 14,
     "metadata": {},
     "output_type": "execute_result"
    }
   ],
   "source": [
    "X_train_fin.shape\n"
   ]
  },
  {
   "cell_type": "code",
   "execution_count": 15,
   "id": "2323f418",
   "metadata": {},
   "outputs": [
    {
     "data": {
      "text/plain": [
       "(797, 21)"
      ]
     },
     "execution_count": 15,
     "metadata": {},
     "output_type": "execute_result"
    }
   ],
   "source": [
    "X_val.shape"
   ]
  },
  {
   "cell_type": "code",
   "execution_count": 16,
   "id": "0a8d7321",
   "metadata": {},
   "outputs": [
    {
     "data": {
      "text/plain": [
       "(997, 21)"
      ]
     },
     "execution_count": 16,
     "metadata": {},
     "output_type": "execute_result"
    }
   ],
   "source": [
    "X_test.shape"
   ]
  },
  {
   "cell_type": "markdown",
   "id": "936520a3",
   "metadata": {},
   "source": [
    "# Modeling\n"
   ]
  },
  {
   "cell_type": "markdown",
   "id": "305f348c",
   "metadata": {},
   "source": [
    "## Dummy Model"
   ]
  },
  {
   "cell_type": "code",
   "execution_count": 17,
   "id": "b6bbb05c",
   "metadata": {},
   "outputs": [],
   "source": [
    "dummy = DummyClassifier(strategy='most_frequent')"
   ]
  },
  {
   "cell_type": "code",
   "execution_count": 18,
   "id": "664e3cd8",
   "metadata": {},
   "outputs": [
    {
     "data": {
      "text/html": [
       "<style>#sk-container-id-2 {color: black;background-color: white;}#sk-container-id-2 pre{padding: 0;}#sk-container-id-2 div.sk-toggleable {background-color: white;}#sk-container-id-2 label.sk-toggleable__label {cursor: pointer;display: block;width: 100%;margin-bottom: 0;padding: 0.3em;box-sizing: border-box;text-align: center;}#sk-container-id-2 label.sk-toggleable__label-arrow:before {content: \"▸\";float: left;margin-right: 0.25em;color: #696969;}#sk-container-id-2 label.sk-toggleable__label-arrow:hover:before {color: black;}#sk-container-id-2 div.sk-estimator:hover label.sk-toggleable__label-arrow:before {color: black;}#sk-container-id-2 div.sk-toggleable__content {max-height: 0;max-width: 0;overflow: hidden;text-align: left;background-color: #f0f8ff;}#sk-container-id-2 div.sk-toggleable__content pre {margin: 0.2em;color: black;border-radius: 0.25em;background-color: #f0f8ff;}#sk-container-id-2 input.sk-toggleable__control:checked~div.sk-toggleable__content {max-height: 200px;max-width: 100%;overflow: auto;}#sk-container-id-2 input.sk-toggleable__control:checked~label.sk-toggleable__label-arrow:before {content: \"▾\";}#sk-container-id-2 div.sk-estimator input.sk-toggleable__control:checked~label.sk-toggleable__label {background-color: #d4ebff;}#sk-container-id-2 div.sk-label input.sk-toggleable__control:checked~label.sk-toggleable__label {background-color: #d4ebff;}#sk-container-id-2 input.sk-hidden--visually {border: 0;clip: rect(1px 1px 1px 1px);clip: rect(1px, 1px, 1px, 1px);height: 1px;margin: -1px;overflow: hidden;padding: 0;position: absolute;width: 1px;}#sk-container-id-2 div.sk-estimator {font-family: monospace;background-color: #f0f8ff;border: 1px dotted black;border-radius: 0.25em;box-sizing: border-box;margin-bottom: 0.5em;}#sk-container-id-2 div.sk-estimator:hover {background-color: #d4ebff;}#sk-container-id-2 div.sk-parallel-item::after {content: \"\";width: 100%;border-bottom: 1px solid gray;flex-grow: 1;}#sk-container-id-2 div.sk-label:hover label.sk-toggleable__label {background-color: #d4ebff;}#sk-container-id-2 div.sk-serial::before {content: \"\";position: absolute;border-left: 1px solid gray;box-sizing: border-box;top: 0;bottom: 0;left: 50%;z-index: 0;}#sk-container-id-2 div.sk-serial {display: flex;flex-direction: column;align-items: center;background-color: white;padding-right: 0.2em;padding-left: 0.2em;position: relative;}#sk-container-id-2 div.sk-item {position: relative;z-index: 1;}#sk-container-id-2 div.sk-parallel {display: flex;align-items: stretch;justify-content: center;background-color: white;position: relative;}#sk-container-id-2 div.sk-item::before, #sk-container-id-2 div.sk-parallel-item::before {content: \"\";position: absolute;border-left: 1px solid gray;box-sizing: border-box;top: 0;bottom: 0;left: 50%;z-index: -1;}#sk-container-id-2 div.sk-parallel-item {display: flex;flex-direction: column;z-index: 1;position: relative;background-color: white;}#sk-container-id-2 div.sk-parallel-item:first-child::after {align-self: flex-end;width: 50%;}#sk-container-id-2 div.sk-parallel-item:last-child::after {align-self: flex-start;width: 50%;}#sk-container-id-2 div.sk-parallel-item:only-child::after {width: 0;}#sk-container-id-2 div.sk-dashed-wrapped {border: 1px dashed gray;margin: 0 0.4em 0.5em 0.4em;box-sizing: border-box;padding-bottom: 0.4em;background-color: white;}#sk-container-id-2 div.sk-label label {font-family: monospace;font-weight: bold;display: inline-block;line-height: 1.2em;}#sk-container-id-2 div.sk-label-container {text-align: center;}#sk-container-id-2 div.sk-container {/* jupyter's `normalize.less` sets `[hidden] { display: none; }` but bootstrap.min.css set `[hidden] { display: none !important; }` so we also need the `!important` here to be able to override the default hidden behavior on the sphinx rendered scikit-learn.org. See: https://github.com/scikit-learn/scikit-learn/issues/21755 */display: inline-block !important;position: relative;}#sk-container-id-2 div.sk-text-repr-fallback {display: none;}</style><div id=\"sk-container-id-2\" class=\"sk-top-container\"><div class=\"sk-text-repr-fallback\"><pre>DummyClassifier(strategy=&#x27;most_frequent&#x27;)</pre><b>In a Jupyter environment, please rerun this cell to show the HTML representation or trust the notebook. <br />On GitHub, the HTML representation is unable to render, please try loading this page with nbviewer.org.</b></div><div class=\"sk-container\" hidden><div class=\"sk-item\"><div class=\"sk-estimator sk-toggleable\"><input class=\"sk-toggleable__control sk-hidden--visually\" id=\"sk-estimator-id-6\" type=\"checkbox\" checked><label for=\"sk-estimator-id-6\" class=\"sk-toggleable__label sk-toggleable__label-arrow\">DummyClassifier</label><div class=\"sk-toggleable__content\"><pre>DummyClassifier(strategy=&#x27;most_frequent&#x27;)</pre></div></div></div></div></div>"
      ],
      "text/plain": [
       "DummyClassifier(strategy='most_frequent')"
      ]
     },
     "execution_count": 18,
     "metadata": {},
     "output_type": "execute_result"
    }
   ],
   "source": [
    "dummy.fit(X_train_fin, y_train_fin)"
   ]
  },
  {
   "cell_type": "code",
   "execution_count": 19,
   "id": "8784f34a",
   "metadata": {},
   "outputs": [
    {
     "data": {
      "text/plain": [
       "0.9560853199498118"
      ]
     },
     "execution_count": 19,
     "metadata": {},
     "output_type": "execute_result"
    }
   ],
   "source": [
    "dummy.score(X_val, y_val)"
   ]
  },
  {
   "cell_type": "code",
   "execution_count": 20,
   "id": "327e9422",
   "metadata": {},
   "outputs": [
    {
     "name": "stderr",
     "output_type": "stream",
     "text": [
      "/Users/zachpollatsek/opt/anaconda3/lib/python3.9/site-packages/sklearn/utils/deprecation.py:87: FutureWarning: Function plot_confusion_matrix is deprecated; Function `plot_confusion_matrix` is deprecated in 1.0 and will be removed in 1.2. Use one of the class methods: ConfusionMatrixDisplay.from_predictions or ConfusionMatrixDisplay.from_estimator.\n",
      "  warnings.warn(msg, category=FutureWarning)\n"
     ]
    },
    {
     "data": {
      "image/png": "[encoded data removed]",
      "text/plain": [
       "<Figure size 432x288 with 2 Axes>"
      ]
     },
     "metadata": {
      "needs_background": "light"
     },
     "output_type": "display_data"
    }
   ],
   "source": [
    "plot_confusion_matrix(dummy, X_val, y_val);"
   ]
  },
  {
   "cell_type": "markdown",
   "id": "f9d84735",
   "metadata": {},
   "source": [
    "## Logistic Regression"
   ]
  },
  {
   "cell_type": "code",
   "execution_count": 21,
   "id": "4b54a1b4",
   "metadata": {},
   "outputs": [],
   "source": [
    "lr = LogisticRegression(random_state=24)"
   ]
  },
  {
   "cell_type": "code",
   "execution_count": 22,
   "id": "c25e8ca8",
   "metadata": {},
   "outputs": [
    {
     "data": {
      "text/html": [
       "<style>#sk-container-id-3 {color: black;background-color: white;}#sk-container-id-3 pre{padding: 0;}#sk-container-id-3 div.sk-toggleable {background-color: white;}#sk-container-id-3 label.sk-toggleable__label {cursor: pointer;display: block;width: 100%;margin-bottom: 0;padding: 0.3em;box-sizing: border-box;text-align: center;}#sk-container-id-3 label.sk-toggleable__label-arrow:before {content: \"▸\";float: left;margin-right: 0.25em;color: #696969;}#sk-container-id-3 label.sk-toggleable__label-arrow:hover:before {color: black;}#sk-container-id-3 div.sk-estimator:hover label.sk-toggleable__label-arrow:before {color: black;}#sk-container-id-3 div.sk-toggleable__content {max-height: 0;max-width: 0;overflow: hidden;text-align: left;background-color: #f0f8ff;}#sk-container-id-3 div.sk-toggleable__content pre {margin: 0.2em;color: black;border-radius: 0.25em;background-color: #f0f8ff;}#sk-container-id-3 input.sk-toggleable__control:checked~div.sk-toggleable__content {max-height: 200px;max-width: 100%;overflow: auto;}#sk-container-id-3 input.sk-toggleable__control:checked~label.sk-toggleable__label-arrow:before {content: \"▾\";}#sk-container-id-3 div.sk-estimator input.sk-toggleable__control:checked~label.sk-toggleable__label {background-color: #d4ebff;}#sk-container-id-3 div.sk-label input.sk-toggleable__control:checked~label.sk-toggleable__label {background-color: #d4ebff;}#sk-container-id-3 input.sk-hidden--visually {border: 0;clip: rect(1px 1px 1px 1px);clip: rect(1px, 1px, 1px, 1px);height: 1px;margin: -1px;overflow: hidden;padding: 0;position: absolute;width: 1px;}#sk-container-id-3 div.sk-estimator {font-family: monospace;background-color: #f0f8ff;border: 1px dotted black;border-radius: 0.25em;box-sizing: border-box;margin-bottom: 0.5em;}#sk-container-id-3 div.sk-estimator:hover {background-color: #d4ebff;}#sk-container-id-3 div.sk-parallel-item::after {content: \"\";width: 100%;border-bottom: 1px solid gray;flex-grow: 1;}#sk-container-id-3 div.sk-label:hover label.sk-toggleable__label {background-color: #d4ebff;}#sk-container-id-3 div.sk-serial::before {content: \"\";position: absolute;border-left: 1px solid gray;box-sizing: border-box;top: 0;bottom: 0;left: 50%;z-index: 0;}#sk-container-id-3 div.sk-serial {display: flex;flex-direction: column;align-items: center;background-color: white;padding-right: 0.2em;padding-left: 0.2em;position: relative;}#sk-container-id-3 div.sk-item {position: relative;z-index: 1;}#sk-container-id-3 div.sk-parallel {display: flex;align-items: stretch;justify-content: center;background-color: white;position: relative;}#sk-container-id-3 div.sk-item::before, #sk-container-id-3 div.sk-parallel-item::before {content: \"\";position: absolute;border-left: 1px solid gray;box-sizing: border-box;top: 0;bottom: 0;left: 50%;z-index: -1;}#sk-container-id-3 div.sk-parallel-item {display: flex;flex-direction: column;z-index: 1;position: relative;background-color: white;}#sk-container-id-3 div.sk-parallel-item:first-child::after {align-self: flex-end;width: 50%;}#sk-container-id-3 div.sk-parallel-item:last-child::after {align-self: flex-start;width: 50%;}#sk-container-id-3 div.sk-parallel-item:only-child::after {width: 0;}#sk-container-id-3 div.sk-dashed-wrapped {border: 1px dashed gray;margin: 0 0.4em 0.5em 0.4em;box-sizing: border-box;padding-bottom: 0.4em;background-color: white;}#sk-container-id-3 div.sk-label label {font-family: monospace;font-weight: bold;display: inline-block;line-height: 1.2em;}#sk-container-id-3 div.sk-label-container {text-align: center;}#sk-container-id-3 div.sk-container {/* jupyter's `normalize.less` sets `[hidden] { display: none; }` but bootstrap.min.css set `[hidden] { display: none !important; }` so we also need the `!important` here to be able to override the default hidden behavior on the sphinx rendered scikit-learn.org. See: https://github.com/scikit-learn/scikit-learn/issues/21755 */display: inline-block !important;position: relative;}#sk-container-id-3 div.sk-text-repr-fallback {display: none;}</style><div id=\"sk-container-id-3\" class=\"sk-top-container\"><div class=\"sk-text-repr-fallback\"><pre>LogisticRegression(random_state=24)</pre><b>In a Jupyter environment, please rerun this cell to show the HTML representation or trust the notebook. <br />On GitHub, the HTML representation is unable to render, please try loading this page with nbviewer.org.</b></div><div class=\"sk-container\" hidden><div class=\"sk-item\"><div class=\"sk-estimator sk-toggleable\"><input class=\"sk-toggleable__control sk-hidden--visually\" id=\"sk-estimator-id-7\" type=\"checkbox\" checked><label for=\"sk-estimator-id-7\" class=\"sk-toggleable__label sk-toggleable__label-arrow\">LogisticRegression</label><div class=\"sk-toggleable__content\"><pre>LogisticRegression(random_state=24)</pre></div></div></div></div></div>"
      ],
      "text/plain": [
       "LogisticRegression(random_state=24)"
      ]
     },
     "execution_count": 22,
     "metadata": {},
     "output_type": "execute_result"
    }
   ],
   "source": [
    "lr.fit(X_train_fin, y_train_fin)"
   ]
  },
  {
   "cell_type": "code",
   "execution_count": 23,
   "id": "a0272d6f",
   "metadata": {},
   "outputs": [
    {
     "data": {
      "text/plain": [
       "0.9560853199498118"
      ]
     },
     "execution_count": 23,
     "metadata": {},
     "output_type": "execute_result"
    }
   ],
   "source": [
    "lr.score(X_val, y_val)"
   ]
  },
  {
   "cell_type": "code",
   "execution_count": 24,
   "id": "61ae0fbe",
   "metadata": {},
   "outputs": [
    {
     "name": "stderr",
     "output_type": "stream",
     "text": [
      "/Users/zachpollatsek/opt/anaconda3/lib/python3.9/site-packages/sklearn/utils/deprecation.py:87: FutureWarning: Function plot_confusion_matrix is deprecated; Function `plot_confusion_matrix` is deprecated in 1.0 and will be removed in 1.2. Use one of the class methods: ConfusionMatrixDisplay.from_predictions or ConfusionMatrixDisplay.from_estimator.\n",
      "  warnings.warn(msg, category=FutureWarning)\n"
     ]
    },
    {
     "data": {
      "text/plain": [
       "<sklearn.metrics._plot.confusion_matrix.ConfusionMatrixDisplay at 0x7f9d3876ff10>"
      ]
     },
     "execution_count": 24,
     "metadata": {},
     "output_type": "execute_result"
    },
    {
     "data": {
      "image/png": "[encoded data removed]",
      "text/plain": [
       "<Figure size 432x288 with 2 Axes>"
      ]
     },
     "metadata": {
      "needs_background": "light"
     },
     "output_type": "display_data"
    }
   ],
   "source": [
    "plot_confusion_matrix(lr, X_val, y_val)"
   ]
  },
  {
   "cell_type": "markdown",
   "id": "95650a00",
   "metadata": {},
   "source": [
    "## Decision Tree"
   ]
  },
  {
   "cell_type": "code",
   "execution_count": 25,
   "id": "5f00833a",
   "metadata": {},
   "outputs": [],
   "source": [
    "dtc = DecisionTreeClassifier(random_state=24)"
   ]
  },
  {
   "cell_type": "code",
   "execution_count": 26,
   "id": "2748c87d",
   "metadata": {},
   "outputs": [
    {
     "data": {
      "text/html": [
       "<style>#sk-container-id-4 {color: black;background-color: white;}#sk-container-id-4 pre{padding: 0;}#sk-container-id-4 div.sk-toggleable {background-color: white;}#sk-container-id-4 label.sk-toggleable__label {cursor: pointer;display: block;width: 100%;margin-bottom: 0;padding: 0.3em;box-sizing: border-box;text-align: center;}#sk-container-id-4 label.sk-toggleable__label-arrow:before {content: \"▸\";float: left;margin-right: 0.25em;color: #696969;}#sk-container-id-4 label.sk-toggleable__label-arrow:hover:before {color: black;}#sk-container-id-4 div.sk-estimator:hover label.sk-toggleable__label-arrow:before {color: black;}#sk-container-id-4 div.sk-toggleable__content {max-height: 0;max-width: 0;overflow: hidden;text-align: left;background-color: #f0f8ff;}#sk-container-id-4 div.sk-toggleable__content pre {margin: 0.2em;color: black;border-radius: 0.25em;background-color: #f0f8ff;}#sk-container-id-4 input.sk-toggleable__control:checked~div.sk-toggleable__content {max-height: 200px;max-width: 100%;overflow: auto;}#sk-container-id-4 input.sk-toggleable__control:checked~label.sk-toggleable__label-arrow:before {content: \"▾\";}#sk-container-id-4 div.sk-estimator input.sk-toggleable__control:checked~label.sk-toggleable__label {background-color: #d4ebff;}#sk-container-id-4 div.sk-label input.sk-toggleable__control:checked~label.sk-toggleable__label {background-color: #d4ebff;}#sk-container-id-4 input.sk-hidden--visually {border: 0;clip: rect(1px 1px 1px 1px);clip: rect(1px, 1px, 1px, 1px);height: 1px;margin: -1px;overflow: hidden;padding: 0;position: absolute;width: 1px;}#sk-container-id-4 div.sk-estimator {font-family: monospace;background-color: #f0f8ff;border: 1px dotted black;border-radius: 0.25em;box-sizing: border-box;margin-bottom: 0.5em;}#sk-container-id-4 div.sk-estimator:hover {background-color: #d4ebff;}#sk-container-id-4 div.sk-parallel-item::after {content: \"\";width: 100%;border-bottom: 1px solid gray;flex-grow: 1;}#sk-container-id-4 div.sk-label:hover label.sk-toggleable__label {background-color: #d4ebff;}#sk-container-id-4 div.sk-serial::before {content: \"\";position: absolute;border-left: 1px solid gray;box-sizing: border-box;top: 0;bottom: 0;left: 50%;z-index: 0;}#sk-container-id-4 div.sk-serial {display: flex;flex-direction: column;align-items: center;background-color: white;padding-right: 0.2em;padding-left: 0.2em;position: relative;}#sk-container-id-4 div.sk-item {position: relative;z-index: 1;}#sk-container-id-4 div.sk-parallel {display: flex;align-items: stretch;justify-content: center;background-color: white;position: relative;}#sk-container-id-4 div.sk-item::before, #sk-container-id-4 div.sk-parallel-item::before {content: \"\";position: absolute;border-left: 1px solid gray;box-sizing: border-box;top: 0;bottom: 0;left: 50%;z-index: -1;}#sk-container-id-4 div.sk-parallel-item {display: flex;flex-direction: column;z-index: 1;position: relative;background-color: white;}#sk-container-id-4 div.sk-parallel-item:first-child::after {align-self: flex-end;width: 50%;}#sk-container-id-4 div.sk-parallel-item:last-child::after {align-self: flex-start;width: 50%;}#sk-container-id-4 div.sk-parallel-item:only-child::after {width: 0;}#sk-container-id-4 div.sk-dashed-wrapped {border: 1px dashed gray;margin: 0 0.4em 0.5em 0.4em;box-sizing: border-box;padding-bottom: 0.4em;background-color: white;}#sk-container-id-4 div.sk-label label {font-family: monospace;font-weight: bold;display: inline-block;line-height: 1.2em;}#sk-container-id-4 div.sk-label-container {text-align: center;}#sk-container-id-4 div.sk-container {/* jupyter's `normalize.less` sets `[hidden] { display: none; }` but bootstrap.min.css set `[hidden] { display: none !important; }` so we also need the `!important` here to be able to override the default hidden behavior on the sphinx rendered scikit-learn.org. See: https://github.com/scikit-learn/scikit-learn/issues/21755 */display: inline-block !important;position: relative;}#sk-container-id-4 div.sk-text-repr-fallback {display: none;}</style><div id=\"sk-container-id-4\" class=\"sk-top-container\"><div class=\"sk-text-repr-fallback\"><pre>DecisionTreeClassifier(random_state=24)</pre><b>In a Jupyter environment, please rerun this cell to show the HTML representation or trust the notebook. <br />On GitHub, the HTML representation is unable to render, please try loading this page with nbviewer.org.</b></div><div class=\"sk-container\" hidden><div class=\"sk-item\"><div class=\"sk-estimator sk-toggleable\"><input class=\"sk-toggleable__control sk-hidden--visually\" id=\"sk-estimator-id-8\" type=\"checkbox\" checked><label for=\"sk-estimator-id-8\" class=\"sk-toggleable__label sk-toggleable__label-arrow\">DecisionTreeClassifier</label><div class=\"sk-toggleable__content\"><pre>DecisionTreeClassifier(random_state=24)</pre></div></div></div></div></div>"
      ],
      "text/plain": [
       "DecisionTreeClassifier(random_state=24)"
      ]
     },
     "execution_count": 26,
     "metadata": {},
     "output_type": "execute_result"
    }
   ],
   "source": [
    "dtc.fit(X_train_fin, y_train_fin)"
   ]
  },
  {
   "cell_type": "code",
   "execution_count": 27,
   "id": "1c28ac7e",
   "metadata": {},
   "outputs": [
    {
     "data": {
      "text/plain": [
       "1.0"
      ]
     },
     "execution_count": 27,
     "metadata": {},
     "output_type": "execute_result"
    }
   ],
   "source": [
    "dtc.score(X_train_fin, y_train_fin)"
   ]
  },
  {
   "cell_type": "code",
   "execution_count": 28,
   "id": "1b44b740",
   "metadata": {},
   "outputs": [
    {
     "data": {
      "text/plain": [
       "0.903387703889586"
      ]
     },
     "execution_count": 28,
     "metadata": {},
     "output_type": "execute_result"
    }
   ],
   "source": [
    "dtc.score(X_val, y_val)"
   ]
  },
  {
   "cell_type": "code",
   "execution_count": 29,
   "id": "b0e8b79a",
   "metadata": {},
   "outputs": [
    {
     "name": "stderr",
     "output_type": "stream",
     "text": [
      "/Users/zachpollatsek/opt/anaconda3/lib/python3.9/site-packages/sklearn/utils/deprecation.py:87: FutureWarning: Function plot_confusion_matrix is deprecated; Function `plot_confusion_matrix` is deprecated in 1.0 and will be removed in 1.2. Use one of the class methods: ConfusionMatrixDisplay.from_predictions or ConfusionMatrixDisplay.from_estimator.\n",
      "  warnings.warn(msg, category=FutureWarning)\n"
     ]
    },
    {
     "data": {
      "text/plain": [
       "<sklearn.metrics._plot.confusion_matrix.ConfusionMatrixDisplay at 0x7f9d3a8bfbe0>"
      ]
     },
     "execution_count": 29,
     "metadata": {},
     "output_type": "execute_result"
    },
    {
     "data": {
      "image/png": "[encoded data removed]",
      "text/plain": [
       "<Figure size 432x288 with 2 Axes>"
      ]
     },
     "metadata": {
      "needs_background": "light"
     },
     "output_type": "display_data"
    }
   ],
   "source": [
    "plot_confusion_matrix(dtc, X_val, y_val)"
   ]
  },
  {
   "cell_type": "code",
   "execution_count": 30,
   "id": "d4290f9a",
   "metadata": {},
   "outputs": [],
   "source": [
    "rfc = RandomForestClassifier(random_state=24)"
   ]
  },
  {
   "cell_type": "code",
   "execution_count": 31,
   "id": "e473a34f",
   "metadata": {},
   "outputs": [
    {
     "data": {
      "text/html": [
       "<style>#sk-container-id-5 {color: black;background-color: white;}#sk-container-id-5 pre{padding: 0;}#sk-container-id-5 div.sk-toggleable {background-color: white;}#sk-container-id-5 label.sk-toggleable__label {cursor: pointer;display: block;width: 100%;margin-bottom: 0;padding: 0.3em;box-sizing: border-box;text-align: center;}#sk-container-id-5 label.sk-toggleable__label-arrow:before {content: \"▸\";float: left;margin-right: 0.25em;color: #696969;}#sk-container-id-5 label.sk-toggleable__label-arrow:hover:before {color: black;}#sk-container-id-5 div.sk-estimator:hover label.sk-toggleable__label-arrow:before {color: black;}#sk-container-id-5 div.sk-toggleable__content {max-height: 0;max-width: 0;overflow: hidden;text-align: left;background-color: #f0f8ff;}#sk-container-id-5 div.sk-toggleable__content pre {margin: 0.2em;color: black;border-radius: 0.25em;background-color: #f0f8ff;}#sk-container-id-5 input.sk-toggleable__control:checked~div.sk-toggleable__content {max-height: 200px;max-width: 100%;overflow: auto;}#sk-container-id-5 input.sk-toggleable__control:checked~label.sk-toggleable__label-arrow:before {content: \"▾\";}#sk-container-id-5 div.sk-estimator input.sk-toggleable__control:checked~label.sk-toggleable__label {background-color: #d4ebff;}#sk-container-id-5 div.sk-label input.sk-toggleable__control:checked~label.sk-toggleable__label {background-color: #d4ebff;}#sk-container-id-5 input.sk-hidden--visually {border: 0;clip: rect(1px 1px 1px 1px);clip: rect(1px, 1px, 1px, 1px);height: 1px;margin: -1px;overflow: hidden;padding: 0;position: absolute;width: 1px;}#sk-container-id-5 div.sk-estimator {font-family: monospace;background-color: #f0f8ff;border: 1px dotted black;border-radius: 0.25em;box-sizing: border-box;margin-bottom: 0.5em;}#sk-container-id-5 div.sk-estimator:hover {background-color: #d4ebff;}#sk-container-id-5 div.sk-parallel-item::after {content: \"\";width: 100%;border-bottom: 1px solid gray;flex-grow: 1;}#sk-container-id-5 div.sk-label:hover label.sk-toggleable__label {background-color: #d4ebff;}#sk-container-id-5 div.sk-serial::before {content: \"\";position: absolute;border-left: 1px solid gray;box-sizing: border-box;top: 0;bottom: 0;left: 50%;z-index: 0;}#sk-container-id-5 div.sk-serial {display: flex;flex-direction: column;align-items: center;background-color: white;padding-right: 0.2em;padding-left: 0.2em;position: relative;}#sk-container-id-5 div.sk-item {position: relative;z-index: 1;}#sk-container-id-5 div.sk-parallel {display: flex;align-items: stretch;justify-content: center;background-color: white;position: relative;}#sk-container-id-5 div.sk-item::before, #sk-container-id-5 div.sk-parallel-item::before {content: \"\";position: absolute;border-left: 1px solid gray;box-sizing: border-box;top: 0;bottom: 0;left: 50%;z-index: -1;}#sk-container-id-5 div.sk-parallel-item {display: flex;flex-direction: column;z-index: 1;position: relative;background-color: white;}#sk-container-id-5 div.sk-parallel-item:first-child::after {align-self: flex-end;width: 50%;}#sk-container-id-5 div.sk-parallel-item:last-child::after {align-self: flex-start;width: 50%;}#sk-container-id-5 div.sk-parallel-item:only-child::after {width: 0;}#sk-container-id-5 div.sk-dashed-wrapped {border: 1px dashed gray;margin: 0 0.4em 0.5em 0.4em;box-sizing: border-box;padding-bottom: 0.4em;background-color: white;}#sk-container-id-5 div.sk-label label {font-family: monospace;font-weight: bold;display: inline-block;line-height: 1.2em;}#sk-container-id-5 div.sk-label-container {text-align: center;}#sk-container-id-5 div.sk-container {/* jupyter's `normalize.less` sets `[hidden] { display: none; }` but bootstrap.min.css set `[hidden] { display: none !important; }` so we also need the `!important` here to be able to override the default hidden behavior on the sphinx rendered scikit-learn.org. See: https://github.com/scikit-learn/scikit-learn/issues/21755 */display: inline-block !important;position: relative;}#sk-container-id-5 div.sk-text-repr-fallback {display: none;}</style><div id=\"sk-container-id-5\" class=\"sk-top-container\"><div class=\"sk-text-repr-fallback\"><pre>RandomForestClassifier(random_state=24)</pre><b>In a Jupyter environment, please rerun this cell to show the HTML representation or trust the notebook. <br />On GitHub, the HTML representation is unable to render, please try loading this page with nbviewer.org.</b></div><div class=\"sk-container\" hidden><div class=\"sk-item\"><div class=\"sk-estimator sk-toggleable\"><input class=\"sk-toggleable__control sk-hidden--visually\" id=\"sk-estimator-id-9\" type=\"checkbox\" checked><label for=\"sk-estimator-id-9\" class=\"sk-toggleable__label sk-toggleable__label-arrow\">RandomForestClassifier</label><div class=\"sk-toggleable__content\"><pre>RandomForestClassifier(random_state=24)</pre></div></div></div></div></div>"
      ],
      "text/plain": [
       "RandomForestClassifier(random_state=24)"
      ]
     },
     "execution_count": 31,
     "metadata": {},
     "output_type": "execute_result"
    }
   ],
   "source": [
    "rfc.fit(X_train_fin, y_train_fin)"
   ]
  },
  {
   "cell_type": "code",
   "execution_count": 32,
   "id": "b9942072",
   "metadata": {},
   "outputs": [
    {
     "data": {
      "text/plain": [
       "1.0"
      ]
     },
     "execution_count": 32,
     "metadata": {},
     "output_type": "execute_result"
    }
   ],
   "source": [
    "rfc.score(X_train_fin, y_train_fin)"
   ]
  },
  {
   "cell_type": "code",
   "execution_count": 33,
   "id": "fa9b9dfb",
   "metadata": {},
   "outputs": [
    {
     "data": {
      "text/plain": [
       "0.9560853199498118"
      ]
     },
     "execution_count": 33,
     "metadata": {},
     "output_type": "execute_result"
    }
   ],
   "source": [
    "rfc.score(X_val, y_val)"
   ]
  },
  {
   "cell_type": "code",
   "execution_count": 34,
   "id": "e08e8a5d",
   "metadata": {},
   "outputs": [
    {
     "name": "stderr",
     "output_type": "stream",
     "text": [
      "/Users/zachpollatsek/opt/anaconda3/lib/python3.9/site-packages/sklearn/utils/deprecation.py:87: FutureWarning: Function plot_confusion_matrix is deprecated; Function `plot_confusion_matrix` is deprecated in 1.0 and will be removed in 1.2. Use one of the class methods: ConfusionMatrixDisplay.from_predictions or ConfusionMatrixDisplay.from_estimator.\n",
      "  warnings.warn(msg, category=FutureWarning)\n"
     ]
    },
    {
     "data": {
      "text/plain": [
       "<sklearn.metrics._plot.confusion_matrix.ConfusionMatrixDisplay at 0x7f9d49a90280>"
      ]
     },
     "execution_count": 34,
     "metadata": {},
     "output_type": "execute_result"
    },
    {
     "data": {
      "image/png": "[encoded data removed]",
      "text/plain": [
       "<Figure size 432x288 with 2 Axes>"
      ]
     },
     "metadata": {
      "needs_background": "light"
     },
     "output_type": "display_data"
    }
   ],
   "source": [
    "plot_confusion_matrix(rfc, X_val, y_val)"
   ]
  },
  {
   "cell_type": "markdown",
   "id": "a6f504b6",
   "metadata": {},
   "source": [
    "Create a pipeline for our random forest model. We will use a grid search object to optimize the hyperparameters of the model."
   ]
  },
  {
   "cell_type": "code",
   "execution_count": 36,
   "id": "ac7808c5",
   "metadata": {},
   "outputs": [],
   "source": [
    "rfc_smote = ImPipeline(steps=[('CT', CT),\n",
    "                              ('SM', subpipe_smote),\n",
    "                              ('rfc', RandomForestClassifier(random_state=42))])"
   ]
  },
  {
   "cell_type": "code",
   "execution_count": 38,
   "id": "3fb0c307",
   "metadata": {},
   "outputs": [],
   "source": [
    "params = {'rfc__n_estimators': [10, 50, 100],\n",
    "          'rfc__max_depth': [2, 4, 6, 8], \n",
    "          'rfc__min_samples_split': [2, 4, 6],\n",
    "          'rfc__min_impurity_decrease': [0.1, 0.3, 0.5]}"
   ]
  },
  {
   "cell_type": "code",
   "execution_count": 47,
   "id": "c9ac4c33",
   "metadata": {},
   "outputs": [],
   "source": [
    "rfc_smote_grid = GridSearchCV(rfc_smote, param_grid=params, scoring='f1', verbose=3)"
   ]
  },
  {
   "cell_type": "code",
   "execution_count": 48,
   "id": "5e09f7f3",
   "metadata": {},
   "outputs": [
    {
     "name": "stdout",
     "output_type": "stream",
     "text": [
      "Fitting 5 folds for each of 108 candidates, totalling 540 fits\n",
      "[CV 1/5] END rfc__max_depth=2, rfc__min_impurity_decrease=0.1, rfc__min_samples_split=2, rfc__n_estimators=10;, score=0.098 total time=   0.1s\n",
      "[CV 2/5] END rfc__max_depth=2, rfc__min_impurity_decrease=0.1, rfc__min_samples_split=2, rfc__n_estimators=10;, score=0.098 total time=   0.0s\n",
      "[CV 3/5] END rfc__max_depth=2, rfc__min_impurity_decrease=0.1, rfc__min_samples_split=2, rfc__n_estimators=10;, score=0.099 total time=   0.0s\n",
      "[CV 4/5] END rfc__max_depth=2, rfc__min_impurity_decrease=0.1, rfc__min_samples_split=2, rfc__n_estimators=10;, score=0.099 total time=   0.0s\n",
      "[CV 5/5] END rfc__max_depth=2, rfc__min_impurity_decrease=0.1, rfc__min_samples_split=2, rfc__n_estimators=10;, score=0.099 total time=   0.0s\n",
      "[CV 1/5] END rfc__max_depth=2, rfc__min_impurity_decrease=0.1, rfc__min_samples_split=2, rfc__n_estimators=50;, score=0.000 total time=   0.1s\n",
      "[CV 2/5] END rfc__max_depth=2, rfc__min_impurity_decrease=0.1, rfc__min_samples_split=2, rfc__n_estimators=50;, score=0.000 total time=   0.1s\n",
      "[CV 3/5] END rfc__max_depth=2, rfc__min_impurity_decrease=0.1, rfc__min_samples_split=2, rfc__n_estimators=50;, score=0.000 total time=   0.1s\n",
      "[CV 4/5] END rfc__max_depth=2, rfc__min_impurity_decrease=0.1, rfc__min_samples_split=2, rfc__n_estimators=50;, score=0.000 total time=   0.1s\n",
      "[CV 5/5] END rfc__max_depth=2, rfc__min_impurity_decrease=0.1, rfc__min_samples_split=2, rfc__n_estimators=50;, score=0.000 total time=   0.1s\n",
      "[CV 1/5] END rfc__max_depth=2, rfc__min_impurity_decrease=0.1, rfc__min_samples_split=2, rfc__n_estimators=100;, score=0.000 total time=   0.1s\n",
      "[CV 2/5] END rfc__max_depth=2, rfc__min_impurity_decrease=0.1, rfc__min_samples_split=2, rfc__n_estimators=100;, score=0.000 total time=   0.1s\n",
      "[CV 3/5] END rfc__max_depth=2, rfc__min_impurity_decrease=0.1, rfc__min_samples_split=2, rfc__n_estimators=100;, score=0.000 total time=   0.1s\n",
      "[CV 4/5] END rfc__max_depth=2, rfc__min_impurity_decrease=0.1, rfc__min_samples_split=2, rfc__n_estimators=100;, score=0.000 total time=   0.1s\n",
      "[CV 5/5] END rfc__max_depth=2, rfc__min_impurity_decrease=0.1, rfc__min_samples_split=2, rfc__n_estimators=100;, score=0.000 total time=   0.1s\n",
      "[CV 1/5] END rfc__max_depth=2, rfc__min_impurity_decrease=0.1, rfc__min_samples_split=4, rfc__n_estimators=10;, score=0.098 total time=   0.0s\n",
      "[CV 2/5] END rfc__max_depth=2, rfc__min_impurity_decrease=0.1, rfc__min_samples_split=4, rfc__n_estimators=10;, score=0.098 total time=   0.0s\n",
      "[CV 3/5] END rfc__max_depth=2, rfc__min_impurity_decrease=0.1, rfc__min_samples_split=4, rfc__n_estimators=10;, score=0.099 total time=   0.0s\n",
      "[CV 4/5] END rfc__max_depth=2, rfc__min_impurity_decrease=0.1, rfc__min_samples_split=4, rfc__n_estimators=10;, score=0.099 total time=   0.0s\n",
      "[CV 5/5] END rfc__max_depth=2, rfc__min_impurity_decrease=0.1, rfc__min_samples_split=4, rfc__n_estimators=10;, score=0.099 total time=   0.0s\n",
      "[CV 1/5] END rfc__max_depth=2, rfc__min_impurity_decrease=0.1, rfc__min_samples_split=4, rfc__n_estimators=50;, score=0.000 total time=   0.1s\n",
      "[CV 2/5] END rfc__max_depth=2, rfc__min_impurity_decrease=0.1, rfc__min_samples_split=4, rfc__n_estimators=50;, score=0.000 total time=   0.1s\n",
      "[CV 3/5] END rfc__max_depth=2, rfc__min_impurity_decrease=0.1, rfc__min_samples_split=4, rfc__n_estimators=50;, score=0.000 total time=   0.1s\n",
      "[CV 4/5] END rfc__max_depth=2, rfc__min_impurity_decrease=0.1, rfc__min_samples_split=4, rfc__n_estimators=50;, score=0.000 total time=   0.1s\n",
      "[CV 5/5] END rfc__max_depth=2, rfc__min_impurity_decrease=0.1, rfc__min_samples_split=4, rfc__n_estimators=50;, score=0.000 total time=   0.1s\n",
      "[CV 1/5] END rfc__max_depth=2, rfc__min_impurity_decrease=0.1, rfc__min_samples_split=4, rfc__n_estimators=100;, score=0.000 total time=   0.1s\n",
      "[CV 2/5] END rfc__max_depth=2, rfc__min_impurity_decrease=0.1, rfc__min_samples_split=4, rfc__n_estimators=100;, score=0.000 total time=   0.1s\n",
      "[CV 3/5] END rfc__max_depth=2, rfc__min_impurity_decrease=0.1, rfc__min_samples_split=4, rfc__n_estimators=100;, score=0.000 total time=   0.1s\n",
      "[CV 4/5] END rfc__max_depth=2, rfc__min_impurity_decrease=0.1, rfc__min_samples_split=4, rfc__n_estimators=100;, score=0.000 total time=   0.1s\n",
      "[CV 5/5] END rfc__max_depth=2, rfc__min_impurity_decrease=0.1, rfc__min_samples_split=4, rfc__n_estimators=100;, score=0.000 total time=   0.1s\n",
      "[CV 1/5] END rfc__max_depth=2, rfc__min_impurity_decrease=0.1, rfc__min_samples_split=6, rfc__n_estimators=10;, score=0.098 total time=   0.0s\n",
      "[CV 2/5] END rfc__max_depth=2, rfc__min_impurity_decrease=0.1, rfc__min_samples_split=6, rfc__n_estimators=10;, score=0.098 total time=   0.0s\n",
      "[CV 3/5] END rfc__max_depth=2, rfc__min_impurity_decrease=0.1, rfc__min_samples_split=6, rfc__n_estimators=10;, score=0.099 total time=   0.0s\n",
      "[CV 4/5] END rfc__max_depth=2, rfc__min_impurity_decrease=0.1, rfc__min_samples_split=6, rfc__n_estimators=10;, score=0.099 total time=   0.0s\n",
      "[CV 5/5] END rfc__max_depth=2, rfc__min_impurity_decrease=0.1, rfc__min_samples_split=6, rfc__n_estimators=10;, score=0.099 total time=   0.0s\n",
      "[CV 1/5] END rfc__max_depth=2, rfc__min_impurity_decrease=0.1, rfc__min_samples_split=6, rfc__n_estimators=50;, score=0.000 total time=   0.1s\n",
      "[CV 2/5] END rfc__max_depth=2, rfc__min_impurity_decrease=0.1, rfc__min_samples_split=6, rfc__n_estimators=50;, score=0.000 total time=   0.1s\n",
      "[CV 3/5] END rfc__max_depth=2, rfc__min_impurity_decrease=0.1, rfc__min_samples_split=6, rfc__n_estimators=50;, score=0.000 total time=   0.1s\n",
      "[CV 4/5] END rfc__max_depth=2, rfc__min_impurity_decrease=0.1, rfc__min_samples_split=6, rfc__n_estimators=50;, score=0.000 total time=   0.1s\n",
      "[CV 5/5] END rfc__max_depth=2, rfc__min_impurity_decrease=0.1, rfc__min_samples_split=6, rfc__n_estimators=50;, score=0.000 total time=   0.1s\n",
      "[CV 1/5] END rfc__max_depth=2, rfc__min_impurity_decrease=0.1, rfc__min_samples_split=6, rfc__n_estimators=100;, score=0.000 total time=   0.1s\n",
      "[CV 2/5] END rfc__max_depth=2, rfc__min_impurity_decrease=0.1, rfc__min_samples_split=6, rfc__n_estimators=100;, score=0.000 total time=   0.1s\n",
      "[CV 3/5] END rfc__max_depth=2, rfc__min_impurity_decrease=0.1, rfc__min_samples_split=6, rfc__n_estimators=100;, score=0.000 total time=   0.1s\n",
      "[CV 4/5] END rfc__max_depth=2, rfc__min_impurity_decrease=0.1, rfc__min_samples_split=6, rfc__n_estimators=100;, score=0.000 total time=   0.1s\n",
      "[CV 5/5] END rfc__max_depth=2, rfc__min_impurity_decrease=0.1, rfc__min_samples_split=6, rfc__n_estimators=100;, score=0.000 total time=   0.1s\n",
      "[CV 1/5] END rfc__max_depth=2, rfc__min_impurity_decrease=0.3, rfc__min_samples_split=2, rfc__n_estimators=10;, score=0.098 total time=   0.0s\n",
      "[CV 2/5] END rfc__max_depth=2, rfc__min_impurity_decrease=0.3, rfc__min_samples_split=2, rfc__n_estimators=10;, score=0.098 total time=   0.0s\n",
      "[CV 3/5] END rfc__max_depth=2, rfc__min_impurity_decrease=0.3, rfc__min_samples_split=2, rfc__n_estimators=10;, score=0.099 total time=   0.0s\n",
      "[CV 4/5] END rfc__max_depth=2, rfc__min_impurity_decrease=0.3, rfc__min_samples_split=2, rfc__n_estimators=10;, score=0.099 total time=   0.0s\n",
      "[CV 5/5] END rfc__max_depth=2, rfc__min_impurity_decrease=0.3, rfc__min_samples_split=2, rfc__n_estimators=10;, score=0.099 total time=   0.0s\n",
      "[CV 1/5] END rfc__max_depth=2, rfc__min_impurity_decrease=0.3, rfc__min_samples_split=2, rfc__n_estimators=50;, score=0.000 total time=   0.1s\n",
      "[CV 2/5] END rfc__max_depth=2, rfc__min_impurity_decrease=0.3, rfc__min_samples_split=2, rfc__n_estimators=50;, score=0.000 total time=   0.1s\n",
      "[CV 3/5] END rfc__max_depth=2, rfc__min_impurity_decrease=0.3, rfc__min_samples_split=2, rfc__n_estimators=50;, score=0.000 total time=   0.1s\n",
      "[CV 4/5] END rfc__max_depth=2, rfc__min_impurity_decrease=0.3, rfc__min_samples_split=2, rfc__n_estimators=50;, score=0.000 total time=   0.1s\n",
      "[CV 5/5] END rfc__max_depth=2, rfc__min_impurity_decrease=0.3, rfc__min_samples_split=2, rfc__n_estimators=50;, score=0.000 total time=   0.1s\n",
      "[CV 1/5] END rfc__max_depth=2, rfc__min_impurity_decrease=0.3, rfc__min_samples_split=2, rfc__n_estimators=100;, score=0.000 total time=   0.1s\n",
      "[CV 2/5] END rfc__max_depth=2, rfc__min_impurity_decrease=0.3, rfc__min_samples_split=2, rfc__n_estimators=100;, score=0.000 total time=   0.1s\n"
     ]
    },
    {
     "name": "stdout",
     "output_type": "stream",
     "text": [
      "[CV 3/5] END rfc__max_depth=2, rfc__min_impurity_decrease=0.3, rfc__min_samples_split=2, rfc__n_estimators=100;, score=0.000 total time=   0.1s\n",
      "[CV 4/5] END rfc__max_depth=2, rfc__min_impurity_decrease=0.3, rfc__min_samples_split=2, rfc__n_estimators=100;, score=0.000 total time=   0.1s\n",
      "[CV 5/5] END rfc__max_depth=2, rfc__min_impurity_decrease=0.3, rfc__min_samples_split=2, rfc__n_estimators=100;, score=0.000 total time=   0.1s\n",
      "[CV 1/5] END rfc__max_depth=2, rfc__min_impurity_decrease=0.3, rfc__min_samples_split=4, rfc__n_estimators=10;, score=0.098 total time=   0.0s\n",
      "[CV 2/5] END rfc__max_depth=2, rfc__min_impurity_decrease=0.3, rfc__min_samples_split=4, rfc__n_estimators=10;, score=0.098 total time=   0.0s\n",
      "[CV 3/5] END rfc__max_depth=2, rfc__min_impurity_decrease=0.3, rfc__min_samples_split=4, rfc__n_estimators=10;, score=0.099 total time=   0.0s\n",
      "[CV 4/5] END rfc__max_depth=2, rfc__min_impurity_decrease=0.3, rfc__min_samples_split=4, rfc__n_estimators=10;, score=0.099 total time=   0.0s\n",
      "[CV 5/5] END rfc__max_depth=2, rfc__min_impurity_decrease=0.3, rfc__min_samples_split=4, rfc__n_estimators=10;, score=0.099 total time=   0.0s\n",
      "[CV 1/5] END rfc__max_depth=2, rfc__min_impurity_decrease=0.3, rfc__min_samples_split=4, rfc__n_estimators=50;, score=0.000 total time=   0.1s\n",
      "[CV 2/5] END rfc__max_depth=2, rfc__min_impurity_decrease=0.3, rfc__min_samples_split=4, rfc__n_estimators=50;, score=0.000 total time=   0.1s\n",
      "[CV 3/5] END rfc__max_depth=2, rfc__min_impurity_decrease=0.3, rfc__min_samples_split=4, rfc__n_estimators=50;, score=0.000 total time=   0.1s\n",
      "[CV 4/5] END rfc__max_depth=2, rfc__min_impurity_decrease=0.3, rfc__min_samples_split=4, rfc__n_estimators=50;, score=0.000 total time=   0.1s\n",
      "[CV 5/5] END rfc__max_depth=2, rfc__min_impurity_decrease=0.3, rfc__min_samples_split=4, rfc__n_estimators=50;, score=0.000 total time=   0.1s\n",
      "[CV 1/5] END rfc__max_depth=2, rfc__min_impurity_decrease=0.3, rfc__min_samples_split=4, rfc__n_estimators=100;, score=0.000 total time=   0.1s\n",
      "[CV 2/5] END rfc__max_depth=2, rfc__min_impurity_decrease=0.3, rfc__min_samples_split=4, rfc__n_estimators=100;, score=0.000 total time=   0.1s\n",
      "[CV 3/5] END rfc__max_depth=2, rfc__min_impurity_decrease=0.3, rfc__min_samples_split=4, rfc__n_estimators=100;, score=0.000 total time=   0.1s\n",
      "[CV 4/5] END rfc__max_depth=2, rfc__min_impurity_decrease=0.3, rfc__min_samples_split=4, rfc__n_estimators=100;, score=0.000 total time=   0.1s\n",
      "[CV 5/5] END rfc__max_depth=2, rfc__min_impurity_decrease=0.3, rfc__min_samples_split=4, rfc__n_estimators=100;, score=0.000 total time=   0.1s\n",
      "[CV 1/5] END rfc__max_depth=2, rfc__min_impurity_decrease=0.3, rfc__min_samples_split=6, rfc__n_estimators=10;, score=0.098 total time=   0.0s\n",
      "[CV 2/5] END rfc__max_depth=2, rfc__min_impurity_decrease=0.3, rfc__min_samples_split=6, rfc__n_estimators=10;, score=0.098 total time=   0.0s\n",
      "[CV 3/5] END rfc__max_depth=2, rfc__min_impurity_decrease=0.3, rfc__min_samples_split=6, rfc__n_estimators=10;, score=0.099 total time=   0.0s\n",
      "[CV 4/5] END rfc__max_depth=2, rfc__min_impurity_decrease=0.3, rfc__min_samples_split=6, rfc__n_estimators=10;, score=0.099 total time=   0.0s\n",
      "[CV 5/5] END rfc__max_depth=2, rfc__min_impurity_decrease=0.3, rfc__min_samples_split=6, rfc__n_estimators=10;, score=0.099 total time=   0.0s\n",
      "[CV 1/5] END rfc__max_depth=2, rfc__min_impurity_decrease=0.3, rfc__min_samples_split=6, rfc__n_estimators=50;, score=0.000 total time=   0.1s\n",
      "[CV 2/5] END rfc__max_depth=2, rfc__min_impurity_decrease=0.3, rfc__min_samples_split=6, rfc__n_estimators=50;, score=0.000 total time=   0.1s\n",
      "[CV 3/5] END rfc__max_depth=2, rfc__min_impurity_decrease=0.3, rfc__min_samples_split=6, rfc__n_estimators=50;, score=0.000 total time=   0.1s\n",
      "[CV 4/5] END rfc__max_depth=2, rfc__min_impurity_decrease=0.3, rfc__min_samples_split=6, rfc__n_estimators=50;, score=0.000 total time=   0.1s\n",
      "[CV 5/5] END rfc__max_depth=2, rfc__min_impurity_decrease=0.3, rfc__min_samples_split=6, rfc__n_estimators=50;, score=0.000 total time=   0.1s\n",
      "[CV 1/5] END rfc__max_depth=2, rfc__min_impurity_decrease=0.3, rfc__min_samples_split=6, rfc__n_estimators=100;, score=0.000 total time=   0.1s\n",
      "[CV 2/5] END rfc__max_depth=2, rfc__min_impurity_decrease=0.3, rfc__min_samples_split=6, rfc__n_estimators=100;, score=0.000 total time=   0.1s\n",
      "[CV 3/5] END rfc__max_depth=2, rfc__min_impurity_decrease=0.3, rfc__min_samples_split=6, rfc__n_estimators=100;, score=0.000 total time=   0.1s\n",
      "[CV 4/5] END rfc__max_depth=2, rfc__min_impurity_decrease=0.3, rfc__min_samples_split=6, rfc__n_estimators=100;, score=0.000 total time=   0.1s\n",
      "[CV 5/5] END rfc__max_depth=2, rfc__min_impurity_decrease=0.3, rfc__min_samples_split=6, rfc__n_estimators=100;, score=0.000 total time=   0.1s\n",
      "[CV 1/5] END rfc__max_depth=2, rfc__min_impurity_decrease=0.5, rfc__min_samples_split=2, rfc__n_estimators=10;, score=0.098 total time=   0.0s\n",
      "[CV 2/5] END rfc__max_depth=2, rfc__min_impurity_decrease=0.5, rfc__min_samples_split=2, rfc__n_estimators=10;, score=0.098 total time=   0.0s\n",
      "[CV 3/5] END rfc__max_depth=2, rfc__min_impurity_decrease=0.5, rfc__min_samples_split=2, rfc__n_estimators=10;, score=0.099 total time=   0.0s\n",
      "[CV 4/5] END rfc__max_depth=2, rfc__min_impurity_decrease=0.5, rfc__min_samples_split=2, rfc__n_estimators=10;, score=0.099 total time=   0.0s\n",
      "[CV 5/5] END rfc__max_depth=2, rfc__min_impurity_decrease=0.5, rfc__min_samples_split=2, rfc__n_estimators=10;, score=0.099 total time=   0.0s\n",
      "[CV 1/5] END rfc__max_depth=2, rfc__min_impurity_decrease=0.5, rfc__min_samples_split=2, rfc__n_estimators=50;, score=0.000 total time=   0.1s\n",
      "[CV 2/5] END rfc__max_depth=2, rfc__min_impurity_decrease=0.5, rfc__min_samples_split=2, rfc__n_estimators=50;, score=0.000 total time=   0.1s\n",
      "[CV 3/5] END rfc__max_depth=2, rfc__min_impurity_decrease=0.5, rfc__min_samples_split=2, rfc__n_estimators=50;, score=0.000 total time=   0.1s\n",
      "[CV 4/5] END rfc__max_depth=2, rfc__min_impurity_decrease=0.5, rfc__min_samples_split=2, rfc__n_estimators=50;, score=0.000 total time=   0.1s\n",
      "[CV 5/5] END rfc__max_depth=2, rfc__min_impurity_decrease=0.5, rfc__min_samples_split=2, rfc__n_estimators=50;, score=0.000 total time=   0.1s\n",
      "[CV 1/5] END rfc__max_depth=2, rfc__min_impurity_decrease=0.5, rfc__min_samples_split=2, rfc__n_estimators=100;, score=0.000 total time=   0.1s\n",
      "[CV 2/5] END rfc__max_depth=2, rfc__min_impurity_decrease=0.5, rfc__min_samples_split=2, rfc__n_estimators=100;, score=0.000 total time=   0.1s\n",
      "[CV 3/5] END rfc__max_depth=2, rfc__min_impurity_decrease=0.5, rfc__min_samples_split=2, rfc__n_estimators=100;, score=0.000 total time=   0.1s\n",
      "[CV 4/5] END rfc__max_depth=2, rfc__min_impurity_decrease=0.5, rfc__min_samples_split=2, rfc__n_estimators=100;, score=0.000 total time=   0.1s\n",
      "[CV 5/5] END rfc__max_depth=2, rfc__min_impurity_decrease=0.5, rfc__min_samples_split=2, rfc__n_estimators=100;, score=0.000 total time=   0.1s\n",
      "[CV 1/5] END rfc__max_depth=2, rfc__min_impurity_decrease=0.5, rfc__min_samples_split=4, rfc__n_estimators=10;, score=0.098 total time=   0.0s\n",
      "[CV 2/5] END rfc__max_depth=2, rfc__min_impurity_decrease=0.5, rfc__min_samples_split=4, rfc__n_estimators=10;, score=0.098 total time=   0.0s\n",
      "[CV 3/5] END rfc__max_depth=2, rfc__min_impurity_decrease=0.5, rfc__min_samples_split=4, rfc__n_estimators=10;, score=0.099 total time=   0.0s\n",
      "[CV 4/5] END rfc__max_depth=2, rfc__min_impurity_decrease=0.5, rfc__min_samples_split=4, rfc__n_estimators=10;, score=0.099 total time=   0.0s\n",
      "[CV 5/5] END rfc__max_depth=2, rfc__min_impurity_decrease=0.5, rfc__min_samples_split=4, rfc__n_estimators=10;, score=0.099 total time=   0.0s\n",
      "[CV 1/5] END rfc__max_depth=2, rfc__min_impurity_decrease=0.5, rfc__min_samples_split=4, rfc__n_estimators=50;, score=0.000 total time=   0.1s\n",
      "[CV 2/5] END rfc__max_depth=2, rfc__min_impurity_decrease=0.5, rfc__min_samples_split=4, rfc__n_estimators=50;, score=0.000 total time=   0.1s\n",
      "[CV 3/5] END rfc__max_depth=2, rfc__min_impurity_decrease=0.5, rfc__min_samples_split=4, rfc__n_estimators=50;, score=0.000 total time=   0.1s\n",
      "[CV 4/5] END rfc__max_depth=2, rfc__min_impurity_decrease=0.5, rfc__min_samples_split=4, rfc__n_estimators=50;, score=0.000 total time=   0.1s\n",
      "[CV 5/5] END rfc__max_depth=2, rfc__min_impurity_decrease=0.5, rfc__min_samples_split=4, rfc__n_estimators=50;, score=0.000 total time=   0.1s\n"
     ]
    },
    {
     "name": "stdout",
     "output_type": "stream",
     "text": [
      "[CV 1/5] END rfc__max_depth=2, rfc__min_impurity_decrease=0.5, rfc__min_samples_split=4, rfc__n_estimators=100;, score=0.000 total time=   0.1s\n",
      "[CV 2/5] END rfc__max_depth=2, rfc__min_impurity_decrease=0.5, rfc__min_samples_split=4, rfc__n_estimators=100;, score=0.000 total time=   0.1s\n",
      "[CV 3/5] END rfc__max_depth=2, rfc__min_impurity_decrease=0.5, rfc__min_samples_split=4, rfc__n_estimators=100;, score=0.000 total time=   0.1s\n",
      "[CV 4/5] END rfc__max_depth=2, rfc__min_impurity_decrease=0.5, rfc__min_samples_split=4, rfc__n_estimators=100;, score=0.000 total time=   0.1s\n",
      "[CV 5/5] END rfc__max_depth=2, rfc__min_impurity_decrease=0.5, rfc__min_samples_split=4, rfc__n_estimators=100;, score=0.000 total time=   0.1s\n",
      "[CV 1/5] END rfc__max_depth=2, rfc__min_impurity_decrease=0.5, rfc__min_samples_split=6, rfc__n_estimators=10;, score=0.098 total time=   0.0s\n",
      "[CV 2/5] END rfc__max_depth=2, rfc__min_impurity_decrease=0.5, rfc__min_samples_split=6, rfc__n_estimators=10;, score=0.098 total time=   0.0s\n",
      "[CV 3/5] END rfc__max_depth=2, rfc__min_impurity_decrease=0.5, rfc__min_samples_split=6, rfc__n_estimators=10;, score=0.099 total time=   0.0s\n",
      "[CV 4/5] END rfc__max_depth=2, rfc__min_impurity_decrease=0.5, rfc__min_samples_split=6, rfc__n_estimators=10;, score=0.099 total time=   0.0s\n",
      "[CV 5/5] END rfc__max_depth=2, rfc__min_impurity_decrease=0.5, rfc__min_samples_split=6, rfc__n_estimators=10;, score=0.099 total time=   0.0s\n",
      "[CV 1/5] END rfc__max_depth=2, rfc__min_impurity_decrease=0.5, rfc__min_samples_split=6, rfc__n_estimators=50;, score=0.000 total time=   0.1s\n",
      "[CV 2/5] END rfc__max_depth=2, rfc__min_impurity_decrease=0.5, rfc__min_samples_split=6, rfc__n_estimators=50;, score=0.000 total time=   0.1s\n",
      "[CV 3/5] END rfc__max_depth=2, rfc__min_impurity_decrease=0.5, rfc__min_samples_split=6, rfc__n_estimators=50;, score=0.000 total time=   0.1s\n",
      "[CV 4/5] END rfc__max_depth=2, rfc__min_impurity_decrease=0.5, rfc__min_samples_split=6, rfc__n_estimators=50;, score=0.000 total time=   0.1s\n",
      "[CV 5/5] END rfc__max_depth=2, rfc__min_impurity_decrease=0.5, rfc__min_samples_split=6, rfc__n_estimators=50;, score=0.000 total time=   0.1s\n",
      "[CV 1/5] END rfc__max_depth=2, rfc__min_impurity_decrease=0.5, rfc__min_samples_split=6, rfc__n_estimators=100;, score=0.000 total time=   0.1s\n",
      "[CV 2/5] END rfc__max_depth=2, rfc__min_impurity_decrease=0.5, rfc__min_samples_split=6, rfc__n_estimators=100;, score=0.000 total time=   0.1s\n",
      "[CV 3/5] END rfc__max_depth=2, rfc__min_impurity_decrease=0.5, rfc__min_samples_split=6, rfc__n_estimators=100;, score=0.000 total time=   0.1s\n",
      "[CV 4/5] END rfc__max_depth=2, rfc__min_impurity_decrease=0.5, rfc__min_samples_split=6, rfc__n_estimators=100;, score=0.000 total time=   0.1s\n",
      "[CV 5/5] END rfc__max_depth=2, rfc__min_impurity_decrease=0.5, rfc__min_samples_split=6, rfc__n_estimators=100;, score=0.000 total time=   0.1s\n",
      "[CV 1/5] END rfc__max_depth=4, rfc__min_impurity_decrease=0.1, rfc__min_samples_split=2, rfc__n_estimators=10;, score=0.098 total time=   0.0s\n",
      "[CV 2/5] END rfc__max_depth=4, rfc__min_impurity_decrease=0.1, rfc__min_samples_split=2, rfc__n_estimators=10;, score=0.098 total time=   0.0s\n",
      "[CV 3/5] END rfc__max_depth=4, rfc__min_impurity_decrease=0.1, rfc__min_samples_split=2, rfc__n_estimators=10;, score=0.099 total time=   0.0s\n",
      "[CV 4/5] END rfc__max_depth=4, rfc__min_impurity_decrease=0.1, rfc__min_samples_split=2, rfc__n_estimators=10;, score=0.099 total time=   0.0s\n",
      "[CV 5/5] END rfc__max_depth=4, rfc__min_impurity_decrease=0.1, rfc__min_samples_split=2, rfc__n_estimators=10;, score=0.099 total time=   0.0s\n",
      "[CV 1/5] END rfc__max_depth=4, rfc__min_impurity_decrease=0.1, rfc__min_samples_split=2, rfc__n_estimators=50;, score=0.000 total time=   0.1s\n",
      "[CV 2/5] END rfc__max_depth=4, rfc__min_impurity_decrease=0.1, rfc__min_samples_split=2, rfc__n_estimators=50;, score=0.000 total time=   0.1s\n",
      "[CV 3/5] END rfc__max_depth=4, rfc__min_impurity_decrease=0.1, rfc__min_samples_split=2, rfc__n_estimators=50;, score=0.000 total time=   0.1s\n",
      "[CV 4/5] END rfc__max_depth=4, rfc__min_impurity_decrease=0.1, rfc__min_samples_split=2, rfc__n_estimators=50;, score=0.000 total time=   0.1s\n",
      "[CV 5/5] END rfc__max_depth=4, rfc__min_impurity_decrease=0.1, rfc__min_samples_split=2, rfc__n_estimators=50;, score=0.000 total time=   0.1s\n",
      "[CV 1/5] END rfc__max_depth=4, rfc__min_impurity_decrease=0.1, rfc__min_samples_split=2, rfc__n_estimators=100;, score=0.000 total time=   0.1s\n",
      "[CV 2/5] END rfc__max_depth=4, rfc__min_impurity_decrease=0.1, rfc__min_samples_split=2, rfc__n_estimators=100;, score=0.000 total time=   0.1s\n",
      "[CV 3/5] END rfc__max_depth=4, rfc__min_impurity_decrease=0.1, rfc__min_samples_split=2, rfc__n_estimators=100;, score=0.000 total time=   0.1s\n",
      "[CV 4/5] END rfc__max_depth=4, rfc__min_impurity_decrease=0.1, rfc__min_samples_split=2, rfc__n_estimators=100;, score=0.000 total time=   0.1s\n",
      "[CV 5/5] END rfc__max_depth=4, rfc__min_impurity_decrease=0.1, rfc__min_samples_split=2, rfc__n_estimators=100;, score=0.000 total time=   0.1s\n",
      "[CV 1/5] END rfc__max_depth=4, rfc__min_impurity_decrease=0.1, rfc__min_samples_split=4, rfc__n_estimators=10;, score=0.098 total time=   0.0s\n",
      "[CV 2/5] END rfc__max_depth=4, rfc__min_impurity_decrease=0.1, rfc__min_samples_split=4, rfc__n_estimators=10;, score=0.098 total time=   0.0s\n",
      "[CV 3/5] END rfc__max_depth=4, rfc__min_impurity_decrease=0.1, rfc__min_samples_split=4, rfc__n_estimators=10;, score=0.099 total time=   0.0s\n",
      "[CV 4/5] END rfc__max_depth=4, rfc__min_impurity_decrease=0.1, rfc__min_samples_split=4, rfc__n_estimators=10;, score=0.099 total time=   0.0s\n",
      "[CV 5/5] END rfc__max_depth=4, rfc__min_impurity_decrease=0.1, rfc__min_samples_split=4, rfc__n_estimators=10;, score=0.099 total time=   0.0s\n",
      "[CV 1/5] END rfc__max_depth=4, rfc__min_impurity_decrease=0.1, rfc__min_samples_split=4, rfc__n_estimators=50;, score=0.000 total time=   0.1s\n",
      "[CV 2/5] END rfc__max_depth=4, rfc__min_impurity_decrease=0.1, rfc__min_samples_split=4, rfc__n_estimators=50;, score=0.000 total time=   0.1s\n",
      "[CV 3/5] END rfc__max_depth=4, rfc__min_impurity_decrease=0.1, rfc__min_samples_split=4, rfc__n_estimators=50;, score=0.000 total time=   0.1s\n",
      "[CV 4/5] END rfc__max_depth=4, rfc__min_impurity_decrease=0.1, rfc__min_samples_split=4, rfc__n_estimators=50;, score=0.000 total time=   0.1s\n",
      "[CV 5/5] END rfc__max_depth=4, rfc__min_impurity_decrease=0.1, rfc__min_samples_split=4, rfc__n_estimators=50;, score=0.000 total time=   0.1s\n",
      "[CV 1/5] END rfc__max_depth=4, rfc__min_impurity_decrease=0.1, rfc__min_samples_split=4, rfc__n_estimators=100;, score=0.000 total time=   0.1s\n",
      "[CV 2/5] END rfc__max_depth=4, rfc__min_impurity_decrease=0.1, rfc__min_samples_split=4, rfc__n_estimators=100;, score=0.000 total time=   0.1s\n",
      "[CV 3/5] END rfc__max_depth=4, rfc__min_impurity_decrease=0.1, rfc__min_samples_split=4, rfc__n_estimators=100;, score=0.000 total time=   0.1s\n",
      "[CV 4/5] END rfc__max_depth=4, rfc__min_impurity_decrease=0.1, rfc__min_samples_split=4, rfc__n_estimators=100;, score=0.000 total time=   0.1s\n",
      "[CV 5/5] END rfc__max_depth=4, rfc__min_impurity_decrease=0.1, rfc__min_samples_split=4, rfc__n_estimators=100;, score=0.000 total time=   0.2s\n",
      "[CV 1/5] END rfc__max_depth=4, rfc__min_impurity_decrease=0.1, rfc__min_samples_split=6, rfc__n_estimators=10;, score=0.098 total time=   0.0s\n",
      "[CV 2/5] END rfc__max_depth=4, rfc__min_impurity_decrease=0.1, rfc__min_samples_split=6, rfc__n_estimators=10;, score=0.098 total time=   0.0s\n",
      "[CV 3/5] END rfc__max_depth=4, rfc__min_impurity_decrease=0.1, rfc__min_samples_split=6, rfc__n_estimators=10;, score=0.099 total time=   0.0s\n",
      "[CV 4/5] END rfc__max_depth=4, rfc__min_impurity_decrease=0.1, rfc__min_samples_split=6, rfc__n_estimators=10;, score=0.099 total time=   0.0s\n",
      "[CV 5/5] END rfc__max_depth=4, rfc__min_impurity_decrease=0.1, rfc__min_samples_split=6, rfc__n_estimators=10;, score=0.099 total time=   0.0s\n",
      "[CV 1/5] END rfc__max_depth=4, rfc__min_impurity_decrease=0.1, rfc__min_samples_split=6, rfc__n_estimators=50;, score=0.000 total time=   0.1s\n",
      "[CV 2/5] END rfc__max_depth=4, rfc__min_impurity_decrease=0.1, rfc__min_samples_split=6, rfc__n_estimators=50;, score=0.000 total time=   0.1s\n",
      "[CV 3/5] END rfc__max_depth=4, rfc__min_impurity_decrease=0.1, rfc__min_samples_split=6, rfc__n_estimators=50;, score=0.000 total time=   0.1s\n"
     ]
    },
    {
     "name": "stdout",
     "output_type": "stream",
     "text": [
      "[CV 4/5] END rfc__max_depth=4, rfc__min_impurity_decrease=0.1, rfc__min_samples_split=6, rfc__n_estimators=50;, score=0.000 total time=   0.1s\n",
      "[CV 5/5] END rfc__max_depth=4, rfc__min_impurity_decrease=0.1, rfc__min_samples_split=6, rfc__n_estimators=50;, score=0.000 total time=   0.1s\n",
      "[CV 1/5] END rfc__max_depth=4, rfc__min_impurity_decrease=0.1, rfc__min_samples_split=6, rfc__n_estimators=100;, score=0.000 total time=   0.1s\n",
      "[CV 2/5] END rfc__max_depth=4, rfc__min_impurity_decrease=0.1, rfc__min_samples_split=6, rfc__n_estimators=100;, score=0.000 total time=   0.1s\n",
      "[CV 3/5] END rfc__max_depth=4, rfc__min_impurity_decrease=0.1, rfc__min_samples_split=6, rfc__n_estimators=100;, score=0.000 total time=   0.1s\n",
      "[CV 4/5] END rfc__max_depth=4, rfc__min_impurity_decrease=0.1, rfc__min_samples_split=6, rfc__n_estimators=100;, score=0.000 total time=   0.1s\n",
      "[CV 5/5] END rfc__max_depth=4, rfc__min_impurity_decrease=0.1, rfc__min_samples_split=6, rfc__n_estimators=100;, score=0.000 total time=   0.1s\n",
      "[CV 1/5] END rfc__max_depth=4, rfc__min_impurity_decrease=0.3, rfc__min_samples_split=2, rfc__n_estimators=10;, score=0.098 total time=   0.0s\n",
      "[CV 2/5] END rfc__max_depth=4, rfc__min_impurity_decrease=0.3, rfc__min_samples_split=2, rfc__n_estimators=10;, score=0.098 total time=   0.0s\n",
      "[CV 3/5] END rfc__max_depth=4, rfc__min_impurity_decrease=0.3, rfc__min_samples_split=2, rfc__n_estimators=10;, score=0.099 total time=   0.0s\n",
      "[CV 4/5] END rfc__max_depth=4, rfc__min_impurity_decrease=0.3, rfc__min_samples_split=2, rfc__n_estimators=10;, score=0.099 total time=   0.0s\n",
      "[CV 5/5] END rfc__max_depth=4, rfc__min_impurity_decrease=0.3, rfc__min_samples_split=2, rfc__n_estimators=10;, score=0.099 total time=   0.0s\n",
      "[CV 1/5] END rfc__max_depth=4, rfc__min_impurity_decrease=0.3, rfc__min_samples_split=2, rfc__n_estimators=50;, score=0.000 total time=   0.1s\n",
      "[CV 2/5] END rfc__max_depth=4, rfc__min_impurity_decrease=0.3, rfc__min_samples_split=2, rfc__n_estimators=50;, score=0.000 total time=   0.1s\n",
      "[CV 3/5] END rfc__max_depth=4, rfc__min_impurity_decrease=0.3, rfc__min_samples_split=2, rfc__n_estimators=50;, score=0.000 total time=   0.1s\n",
      "[CV 4/5] END rfc__max_depth=4, rfc__min_impurity_decrease=0.3, rfc__min_samples_split=2, rfc__n_estimators=50;, score=0.000 total time=   0.1s\n",
      "[CV 5/5] END rfc__max_depth=4, rfc__min_impurity_decrease=0.3, rfc__min_samples_split=2, rfc__n_estimators=50;, score=0.000 total time=   0.1s\n",
      "[CV 1/5] END rfc__max_depth=4, rfc__min_impurity_decrease=0.3, rfc__min_samples_split=2, rfc__n_estimators=100;, score=0.000 total time=   0.1s\n",
      "[CV 2/5] END rfc__max_depth=4, rfc__min_impurity_decrease=0.3, rfc__min_samples_split=2, rfc__n_estimators=100;, score=0.000 total time=   0.1s\n",
      "[CV 3/5] END rfc__max_depth=4, rfc__min_impurity_decrease=0.3, rfc__min_samples_split=2, rfc__n_estimators=100;, score=0.000 total time=   0.1s\n",
      "[CV 4/5] END rfc__max_depth=4, rfc__min_impurity_decrease=0.3, rfc__min_samples_split=2, rfc__n_estimators=100;, score=0.000 total time=   0.1s\n",
      "[CV 5/5] END rfc__max_depth=4, rfc__min_impurity_decrease=0.3, rfc__min_samples_split=2, rfc__n_estimators=100;, score=0.000 total time=   0.1s\n",
      "[CV 1/5] END rfc__max_depth=4, rfc__min_impurity_decrease=0.3, rfc__min_samples_split=4, rfc__n_estimators=10;, score=0.098 total time=   0.0s\n",
      "[CV 2/5] END rfc__max_depth=4, rfc__min_impurity_decrease=0.3, rfc__min_samples_split=4, rfc__n_estimators=10;, score=0.098 total time=   0.0s\n",
      "[CV 3/5] END rfc__max_depth=4, rfc__min_impurity_decrease=0.3, rfc__min_samples_split=4, rfc__n_estimators=10;, score=0.099 total time=   0.0s\n",
      "[CV 4/5] END rfc__max_depth=4, rfc__min_impurity_decrease=0.3, rfc__min_samples_split=4, rfc__n_estimators=10;, score=0.099 total time=   0.0s\n",
      "[CV 5/5] END rfc__max_depth=4, rfc__min_impurity_decrease=0.3, rfc__min_samples_split=4, rfc__n_estimators=10;, score=0.099 total time=   0.0s\n",
      "[CV 1/5] END rfc__max_depth=4, rfc__min_impurity_decrease=0.3, rfc__min_samples_split=4, rfc__n_estimators=50;, score=0.000 total time=   0.1s\n",
      "[CV 2/5] END rfc__max_depth=4, rfc__min_impurity_decrease=0.3, rfc__min_samples_split=4, rfc__n_estimators=50;, score=0.000 total time=   0.1s\n",
      "[CV 3/5] END rfc__max_depth=4, rfc__min_impurity_decrease=0.3, rfc__min_samples_split=4, rfc__n_estimators=50;, score=0.000 total time=   0.1s\n",
      "[CV 4/5] END rfc__max_depth=4, rfc__min_impurity_decrease=0.3, rfc__min_samples_split=4, rfc__n_estimators=50;, score=0.000 total time=   0.1s\n",
      "[CV 5/5] END rfc__max_depth=4, rfc__min_impurity_decrease=0.3, rfc__min_samples_split=4, rfc__n_estimators=50;, score=0.000 total time=   0.1s\n",
      "[CV 1/5] END rfc__max_depth=4, rfc__min_impurity_decrease=0.3, rfc__min_samples_split=4, rfc__n_estimators=100;, score=0.000 total time=   0.1s\n",
      "[CV 2/5] END rfc__max_depth=4, rfc__min_impurity_decrease=0.3, rfc__min_samples_split=4, rfc__n_estimators=100;, score=0.000 total time=   0.1s\n",
      "[CV 3/5] END rfc__max_depth=4, rfc__min_impurity_decrease=0.3, rfc__min_samples_split=4, rfc__n_estimators=100;, score=0.000 total time=   0.1s\n",
      "[CV 4/5] END rfc__max_depth=4, rfc__min_impurity_decrease=0.3, rfc__min_samples_split=4, rfc__n_estimators=100;, score=0.000 total time=   0.1s\n",
      "[CV 5/5] END rfc__max_depth=4, rfc__min_impurity_decrease=0.3, rfc__min_samples_split=4, rfc__n_estimators=100;, score=0.000 total time=   0.1s\n",
      "[CV 1/5] END rfc__max_depth=4, rfc__min_impurity_decrease=0.3, rfc__min_samples_split=6, rfc__n_estimators=10;, score=0.098 total time=   0.0s\n",
      "[CV 2/5] END rfc__max_depth=4, rfc__min_impurity_decrease=0.3, rfc__min_samples_split=6, rfc__n_estimators=10;, score=0.098 total time=   0.0s\n",
      "[CV 3/5] END rfc__max_depth=4, rfc__min_impurity_decrease=0.3, rfc__min_samples_split=6, rfc__n_estimators=10;, score=0.099 total time=   0.0s\n",
      "[CV 4/5] END rfc__max_depth=4, rfc__min_impurity_decrease=0.3, rfc__min_samples_split=6, rfc__n_estimators=10;, score=0.099 total time=   0.0s\n",
      "[CV 5/5] END rfc__max_depth=4, rfc__min_impurity_decrease=0.3, rfc__min_samples_split=6, rfc__n_estimators=10;, score=0.099 total time=   0.0s\n",
      "[CV 1/5] END rfc__max_depth=4, rfc__min_impurity_decrease=0.3, rfc__min_samples_split=6, rfc__n_estimators=50;, score=0.000 total time=   0.1s\n",
      "[CV 2/5] END rfc__max_depth=4, rfc__min_impurity_decrease=0.3, rfc__min_samples_split=6, rfc__n_estimators=50;, score=0.000 total time=   0.1s\n",
      "[CV 3/5] END rfc__max_depth=4, rfc__min_impurity_decrease=0.3, rfc__min_samples_split=6, rfc__n_estimators=50;, score=0.000 total time=   0.1s\n",
      "[CV 4/5] END rfc__max_depth=4, rfc__min_impurity_decrease=0.3, rfc__min_samples_split=6, rfc__n_estimators=50;, score=0.000 total time=   0.1s\n",
      "[CV 5/5] END rfc__max_depth=4, rfc__min_impurity_decrease=0.3, rfc__min_samples_split=6, rfc__n_estimators=50;, score=0.000 total time=   0.1s\n",
      "[CV 1/5] END rfc__max_depth=4, rfc__min_impurity_decrease=0.3, rfc__min_samples_split=6, rfc__n_estimators=100;, score=0.000 total time=   0.1s\n",
      "[CV 2/5] END rfc__max_depth=4, rfc__min_impurity_decrease=0.3, rfc__min_samples_split=6, rfc__n_estimators=100;, score=0.000 total time=   0.1s\n",
      "[CV 3/5] END rfc__max_depth=4, rfc__min_impurity_decrease=0.3, rfc__min_samples_split=6, rfc__n_estimators=100;, score=0.000 total time=   0.1s\n",
      "[CV 4/5] END rfc__max_depth=4, rfc__min_impurity_decrease=0.3, rfc__min_samples_split=6, rfc__n_estimators=100;, score=0.000 total time=   0.1s\n",
      "[CV 5/5] END rfc__max_depth=4, rfc__min_impurity_decrease=0.3, rfc__min_samples_split=6, rfc__n_estimators=100;, score=0.000 total time=   0.1s\n",
      "[CV 1/5] END rfc__max_depth=4, rfc__min_impurity_decrease=0.5, rfc__min_samples_split=2, rfc__n_estimators=10;, score=0.098 total time=   0.0s\n",
      "[CV 2/5] END rfc__max_depth=4, rfc__min_impurity_decrease=0.5, rfc__min_samples_split=2, rfc__n_estimators=10;, score=0.098 total time=   0.0s\n",
      "[CV 3/5] END rfc__max_depth=4, rfc__min_impurity_decrease=0.5, rfc__min_samples_split=2, rfc__n_estimators=10;, score=0.099 total time=   0.0s\n",
      "[CV 4/5] END rfc__max_depth=4, rfc__min_impurity_decrease=0.5, rfc__min_samples_split=2, rfc__n_estimators=10;, score=0.099 total time=   0.0s\n",
      "[CV 5/5] END rfc__max_depth=4, rfc__min_impurity_decrease=0.5, rfc__min_samples_split=2, rfc__n_estimators=10;, score=0.099 total time=   0.0s\n",
      "[CV 1/5] END rfc__max_depth=4, rfc__min_impurity_decrease=0.5, rfc__min_samples_split=2, rfc__n_estimators=50;, score=0.000 total time=   0.1s\n",
      "[CV 2/5] END rfc__max_depth=4, rfc__min_impurity_decrease=0.5, rfc__min_samples_split=2, rfc__n_estimators=50;, score=0.000 total time=   0.1s\n",
      "[CV 3/5] END rfc__max_depth=4, rfc__min_impurity_decrease=0.5, rfc__min_samples_split=2, rfc__n_estimators=50;, score=0.000 total time=   0.1s\n"
     ]
    },
    {
     "name": "stdout",
     "output_type": "stream",
     "text": [
      "[CV 4/5] END rfc__max_depth=4, rfc__min_impurity_decrease=0.5, rfc__min_samples_split=2, rfc__n_estimators=50;, score=0.000 total time=   0.1s\n",
      "[CV 5/5] END rfc__max_depth=4, rfc__min_impurity_decrease=0.5, rfc__min_samples_split=2, rfc__n_estimators=50;, score=0.000 total time=   0.1s\n",
      "[CV 1/5] END rfc__max_depth=4, rfc__min_impurity_decrease=0.5, rfc__min_samples_split=2, rfc__n_estimators=100;, score=0.000 total time=   0.1s\n",
      "[CV 2/5] END rfc__max_depth=4, rfc__min_impurity_decrease=0.5, rfc__min_samples_split=2, rfc__n_estimators=100;, score=0.000 total time=   0.1s\n",
      "[CV 3/5] END rfc__max_depth=4, rfc__min_impurity_decrease=0.5, rfc__min_samples_split=2, rfc__n_estimators=100;, score=0.000 total time=   0.1s\n",
      "[CV 4/5] END rfc__max_depth=4, rfc__min_impurity_decrease=0.5, rfc__min_samples_split=2, rfc__n_estimators=100;, score=0.000 total time=   0.1s\n",
      "[CV 5/5] END rfc__max_depth=4, rfc__min_impurity_decrease=0.5, rfc__min_samples_split=2, rfc__n_estimators=100;, score=0.000 total time=   0.1s\n",
      "[CV 1/5] END rfc__max_depth=4, rfc__min_impurity_decrease=0.5, rfc__min_samples_split=4, rfc__n_estimators=10;, score=0.098 total time=   0.0s\n",
      "[CV 2/5] END rfc__max_depth=4, rfc__min_impurity_decrease=0.5, rfc__min_samples_split=4, rfc__n_estimators=10;, score=0.098 total time=   0.0s\n",
      "[CV 3/5] END rfc__max_depth=4, rfc__min_impurity_decrease=0.5, rfc__min_samples_split=4, rfc__n_estimators=10;, score=0.099 total time=   0.0s\n",
      "[CV 4/5] END rfc__max_depth=4, rfc__min_impurity_decrease=0.5, rfc__min_samples_split=4, rfc__n_estimators=10;, score=0.099 total time=   0.0s\n",
      "[CV 5/5] END rfc__max_depth=4, rfc__min_impurity_decrease=0.5, rfc__min_samples_split=4, rfc__n_estimators=10;, score=0.099 total time=   0.0s\n",
      "[CV 1/5] END rfc__max_depth=4, rfc__min_impurity_decrease=0.5, rfc__min_samples_split=4, rfc__n_estimators=50;, score=0.000 total time=   0.1s\n",
      "[CV 2/5] END rfc__max_depth=4, rfc__min_impurity_decrease=0.5, rfc__min_samples_split=4, rfc__n_estimators=50;, score=0.000 total time=   0.1s\n",
      "[CV 3/5] END rfc__max_depth=4, rfc__min_impurity_decrease=0.5, rfc__min_samples_split=4, rfc__n_estimators=50;, score=0.000 total time=   0.1s\n",
      "[CV 4/5] END rfc__max_depth=4, rfc__min_impurity_decrease=0.5, rfc__min_samples_split=4, rfc__n_estimators=50;, score=0.000 total time=   0.1s\n",
      "[CV 5/5] END rfc__max_depth=4, rfc__min_impurity_decrease=0.5, rfc__min_samples_split=4, rfc__n_estimators=50;, score=0.000 total time=   0.1s\n",
      "[CV 1/5] END rfc__max_depth=4, rfc__min_impurity_decrease=0.5, rfc__min_samples_split=4, rfc__n_estimators=100;, score=0.000 total time=   0.1s\n",
      "[CV 2/5] END rfc__max_depth=4, rfc__min_impurity_decrease=0.5, rfc__min_samples_split=4, rfc__n_estimators=100;, score=0.000 total time=   0.1s\n",
      "[CV 3/5] END rfc__max_depth=4, rfc__min_impurity_decrease=0.5, rfc__min_samples_split=4, rfc__n_estimators=100;, score=0.000 total time=   0.1s\n",
      "[CV 4/5] END rfc__max_depth=4, rfc__min_impurity_decrease=0.5, rfc__min_samples_split=4, rfc__n_estimators=100;, score=0.000 total time=   0.1s\n",
      "[CV 5/5] END rfc__max_depth=4, rfc__min_impurity_decrease=0.5, rfc__min_samples_split=4, rfc__n_estimators=100;, score=0.000 total time=   0.1s\n",
      "[CV 1/5] END rfc__max_depth=4, rfc__min_impurity_decrease=0.5, rfc__min_samples_split=6, rfc__n_estimators=10;, score=0.098 total time=   0.0s\n",
      "[CV 2/5] END rfc__max_depth=4, rfc__min_impurity_decrease=0.5, rfc__min_samples_split=6, rfc__n_estimators=10;, score=0.098 total time=   0.0s\n",
      "[CV 3/5] END rfc__max_depth=4, rfc__min_impurity_decrease=0.5, rfc__min_samples_split=6, rfc__n_estimators=10;, score=0.099 total time=   0.0s\n",
      "[CV 4/5] END rfc__max_depth=4, rfc__min_impurity_decrease=0.5, rfc__min_samples_split=6, rfc__n_estimators=10;, score=0.099 total time=   0.0s\n",
      "[CV 5/5] END rfc__max_depth=4, rfc__min_impurity_decrease=0.5, rfc__min_samples_split=6, rfc__n_estimators=10;, score=0.099 total time=   0.0s\n",
      "[CV 1/5] END rfc__max_depth=4, rfc__min_impurity_decrease=0.5, rfc__min_samples_split=6, rfc__n_estimators=50;, score=0.000 total time=   0.1s\n",
      "[CV 2/5] END rfc__max_depth=4, rfc__min_impurity_decrease=0.5, rfc__min_samples_split=6, rfc__n_estimators=50;, score=0.000 total time=   0.1s\n",
      "[CV 3/5] END rfc__max_depth=4, rfc__min_impurity_decrease=0.5, rfc__min_samples_split=6, rfc__n_estimators=50;, score=0.000 total time=   0.1s\n",
      "[CV 4/5] END rfc__max_depth=4, rfc__min_impurity_decrease=0.5, rfc__min_samples_split=6, rfc__n_estimators=50;, score=0.000 total time=   0.1s\n",
      "[CV 5/5] END rfc__max_depth=4, rfc__min_impurity_decrease=0.5, rfc__min_samples_split=6, rfc__n_estimators=50;, score=0.000 total time=   0.1s\n",
      "[CV 1/5] END rfc__max_depth=4, rfc__min_impurity_decrease=0.5, rfc__min_samples_split=6, rfc__n_estimators=100;, score=0.000 total time=   0.1s\n",
      "[CV 2/5] END rfc__max_depth=4, rfc__min_impurity_decrease=0.5, rfc__min_samples_split=6, rfc__n_estimators=100;, score=0.000 total time=   0.1s\n",
      "[CV 3/5] END rfc__max_depth=4, rfc__min_impurity_decrease=0.5, rfc__min_samples_split=6, rfc__n_estimators=100;, score=0.000 total time=   0.1s\n",
      "[CV 4/5] END rfc__max_depth=4, rfc__min_impurity_decrease=0.5, rfc__min_samples_split=6, rfc__n_estimators=100;, score=0.000 total time=   0.1s\n",
      "[CV 5/5] END rfc__max_depth=4, rfc__min_impurity_decrease=0.5, rfc__min_samples_split=6, rfc__n_estimators=100;, score=0.000 total time=   0.1s\n",
      "[CV 1/5] END rfc__max_depth=6, rfc__min_impurity_decrease=0.1, rfc__min_samples_split=2, rfc__n_estimators=10;, score=0.098 total time=   0.0s\n",
      "[CV 2/5] END rfc__max_depth=6, rfc__min_impurity_decrease=0.1, rfc__min_samples_split=2, rfc__n_estimators=10;, score=0.098 total time=   0.0s\n",
      "[CV 3/5] END rfc__max_depth=6, rfc__min_impurity_decrease=0.1, rfc__min_samples_split=2, rfc__n_estimators=10;, score=0.099 total time=   0.0s\n",
      "[CV 4/5] END rfc__max_depth=6, rfc__min_impurity_decrease=0.1, rfc__min_samples_split=2, rfc__n_estimators=10;, score=0.099 total time=   0.0s\n",
      "[CV 5/5] END rfc__max_depth=6, rfc__min_impurity_decrease=0.1, rfc__min_samples_split=2, rfc__n_estimators=10;, score=0.099 total time=   0.0s\n",
      "[CV 1/5] END rfc__max_depth=6, rfc__min_impurity_decrease=0.1, rfc__min_samples_split=2, rfc__n_estimators=50;, score=0.000 total time=   0.1s\n",
      "[CV 2/5] END rfc__max_depth=6, rfc__min_impurity_decrease=0.1, rfc__min_samples_split=2, rfc__n_estimators=50;, score=0.000 total time=   0.1s\n",
      "[CV 3/5] END rfc__max_depth=6, rfc__min_impurity_decrease=0.1, rfc__min_samples_split=2, rfc__n_estimators=50;, score=0.000 total time=   0.1s\n",
      "[CV 4/5] END rfc__max_depth=6, rfc__min_impurity_decrease=0.1, rfc__min_samples_split=2, rfc__n_estimators=50;, score=0.000 total time=   0.1s\n",
      "[CV 5/5] END rfc__max_depth=6, rfc__min_impurity_decrease=0.1, rfc__min_samples_split=2, rfc__n_estimators=50;, score=0.000 total time=   0.1s\n",
      "[CV 1/5] END rfc__max_depth=6, rfc__min_impurity_decrease=0.1, rfc__min_samples_split=2, rfc__n_estimators=100;, score=0.000 total time=   0.1s\n",
      "[CV 2/5] END rfc__max_depth=6, rfc__min_impurity_decrease=0.1, rfc__min_samples_split=2, rfc__n_estimators=100;, score=0.000 total time=   0.1s\n",
      "[CV 3/5] END rfc__max_depth=6, rfc__min_impurity_decrease=0.1, rfc__min_samples_split=2, rfc__n_estimators=100;, score=0.000 total time=   0.1s\n",
      "[CV 4/5] END rfc__max_depth=6, rfc__min_impurity_decrease=0.1, rfc__min_samples_split=2, rfc__n_estimators=100;, score=0.000 total time=   0.1s\n",
      "[CV 5/5] END rfc__max_depth=6, rfc__min_impurity_decrease=0.1, rfc__min_samples_split=2, rfc__n_estimators=100;, score=0.000 total time=   0.1s\n",
      "[CV 1/5] END rfc__max_depth=6, rfc__min_impurity_decrease=0.1, rfc__min_samples_split=4, rfc__n_estimators=10;, score=0.098 total time=   0.0s\n",
      "[CV 2/5] END rfc__max_depth=6, rfc__min_impurity_decrease=0.1, rfc__min_samples_split=4, rfc__n_estimators=10;, score=0.098 total time=   0.0s\n",
      "[CV 3/5] END rfc__max_depth=6, rfc__min_impurity_decrease=0.1, rfc__min_samples_split=4, rfc__n_estimators=10;, score=0.099 total time=   0.0s\n",
      "[CV 4/5] END rfc__max_depth=6, rfc__min_impurity_decrease=0.1, rfc__min_samples_split=4, rfc__n_estimators=10;, score=0.099 total time=   0.0s\n",
      "[CV 5/5] END rfc__max_depth=6, rfc__min_impurity_decrease=0.1, rfc__min_samples_split=4, rfc__n_estimators=10;, score=0.099 total time=   0.0s\n",
      "[CV 1/5] END rfc__max_depth=6, rfc__min_impurity_decrease=0.1, rfc__min_samples_split=4, rfc__n_estimators=50;, score=0.000 total time=   0.1s\n",
      "[CV 2/5] END rfc__max_depth=6, rfc__min_impurity_decrease=0.1, rfc__min_samples_split=4, rfc__n_estimators=50;, score=0.000 total time=   0.1s\n",
      "[CV 3/5] END rfc__max_depth=6, rfc__min_impurity_decrease=0.1, rfc__min_samples_split=4, rfc__n_estimators=50;, score=0.000 total time=   0.1s\n"
     ]
    },
    {
     "name": "stdout",
     "output_type": "stream",
     "text": [
      "[CV 4/5] END rfc__max_depth=6, rfc__min_impurity_decrease=0.1, rfc__min_samples_split=4, rfc__n_estimators=50;, score=0.000 total time=   0.1s\n",
      "[CV 5/5] END rfc__max_depth=6, rfc__min_impurity_decrease=0.1, rfc__min_samples_split=4, rfc__n_estimators=50;, score=0.000 total time=   0.1s\n",
      "[CV 1/5] END rfc__max_depth=6, rfc__min_impurity_decrease=0.1, rfc__min_samples_split=4, rfc__n_estimators=100;, score=0.000 total time=   0.1s\n",
      "[CV 2/5] END rfc__max_depth=6, rfc__min_impurity_decrease=0.1, rfc__min_samples_split=4, rfc__n_estimators=100;, score=0.000 total time=   0.1s\n",
      "[CV 3/5] END rfc__max_depth=6, rfc__min_impurity_decrease=0.1, rfc__min_samples_split=4, rfc__n_estimators=100;, score=0.000 total time=   0.1s\n",
      "[CV 4/5] END rfc__max_depth=6, rfc__min_impurity_decrease=0.1, rfc__min_samples_split=4, rfc__n_estimators=100;, score=0.000 total time=   0.1s\n",
      "[CV 5/5] END rfc__max_depth=6, rfc__min_impurity_decrease=0.1, rfc__min_samples_split=4, rfc__n_estimators=100;, score=0.000 total time=   0.1s\n",
      "[CV 1/5] END rfc__max_depth=6, rfc__min_impurity_decrease=0.1, rfc__min_samples_split=6, rfc__n_estimators=10;, score=0.098 total time=   0.0s\n",
      "[CV 2/5] END rfc__max_depth=6, rfc__min_impurity_decrease=0.1, rfc__min_samples_split=6, rfc__n_estimators=10;, score=0.098 total time=   0.0s\n",
      "[CV 3/5] END rfc__max_depth=6, rfc__min_impurity_decrease=0.1, rfc__min_samples_split=6, rfc__n_estimators=10;, score=0.099 total time=   0.0s\n",
      "[CV 4/5] END rfc__max_depth=6, rfc__min_impurity_decrease=0.1, rfc__min_samples_split=6, rfc__n_estimators=10;, score=0.099 total time=   0.0s\n",
      "[CV 5/5] END rfc__max_depth=6, rfc__min_impurity_decrease=0.1, rfc__min_samples_split=6, rfc__n_estimators=10;, score=0.099 total time=   0.0s\n",
      "[CV 1/5] END rfc__max_depth=6, rfc__min_impurity_decrease=0.1, rfc__min_samples_split=6, rfc__n_estimators=50;, score=0.000 total time=   0.1s\n",
      "[CV 2/5] END rfc__max_depth=6, rfc__min_impurity_decrease=0.1, rfc__min_samples_split=6, rfc__n_estimators=50;, score=0.000 total time=   0.1s\n",
      "[CV 3/5] END rfc__max_depth=6, rfc__min_impurity_decrease=0.1, rfc__min_samples_split=6, rfc__n_estimators=50;, score=0.000 total time=   0.1s\n",
      "[CV 4/5] END rfc__max_depth=6, rfc__min_impurity_decrease=0.1, rfc__min_samples_split=6, rfc__n_estimators=50;, score=0.000 total time=   0.1s\n",
      "[CV 5/5] END rfc__max_depth=6, rfc__min_impurity_decrease=0.1, rfc__min_samples_split=6, rfc__n_estimators=50;, score=0.000 total time=   0.1s\n",
      "[CV 1/5] END rfc__max_depth=6, rfc__min_impurity_decrease=0.1, rfc__min_samples_split=6, rfc__n_estimators=100;, score=0.000 total time=   0.1s\n",
      "[CV 2/5] END rfc__max_depth=6, rfc__min_impurity_decrease=0.1, rfc__min_samples_split=6, rfc__n_estimators=100;, score=0.000 total time=   0.1s\n",
      "[CV 3/5] END rfc__max_depth=6, rfc__min_impurity_decrease=0.1, rfc__min_samples_split=6, rfc__n_estimators=100;, score=0.000 total time=   0.1s\n",
      "[CV 4/5] END rfc__max_depth=6, rfc__min_impurity_decrease=0.1, rfc__min_samples_split=6, rfc__n_estimators=100;, score=0.000 total time=   0.1s\n",
      "[CV 5/5] END rfc__max_depth=6, rfc__min_impurity_decrease=0.1, rfc__min_samples_split=6, rfc__n_estimators=100;, score=0.000 total time=   0.1s\n",
      "[CV 1/5] END rfc__max_depth=6, rfc__min_impurity_decrease=0.3, rfc__min_samples_split=2, rfc__n_estimators=10;, score=0.098 total time=   0.0s\n",
      "[CV 2/5] END rfc__max_depth=6, rfc__min_impurity_decrease=0.3, rfc__min_samples_split=2, rfc__n_estimators=10;, score=0.098 total time=   0.0s\n",
      "[CV 3/5] END rfc__max_depth=6, rfc__min_impurity_decrease=0.3, rfc__min_samples_split=2, rfc__n_estimators=10;, score=0.099 total time=   0.0s\n",
      "[CV 4/5] END rfc__max_depth=6, rfc__min_impurity_decrease=0.3, rfc__min_samples_split=2, rfc__n_estimators=10;, score=0.099 total time=   0.0s\n",
      "[CV 5/5] END rfc__max_depth=6, rfc__min_impurity_decrease=0.3, rfc__min_samples_split=2, rfc__n_estimators=10;, score=0.099 total time=   0.0s\n",
      "[CV 1/5] END rfc__max_depth=6, rfc__min_impurity_decrease=0.3, rfc__min_samples_split=2, rfc__n_estimators=50;, score=0.000 total time=   0.1s\n",
      "[CV 2/5] END rfc__max_depth=6, rfc__min_impurity_decrease=0.3, rfc__min_samples_split=2, rfc__n_estimators=50;, score=0.000 total time=   0.1s\n",
      "[CV 3/5] END rfc__max_depth=6, rfc__min_impurity_decrease=0.3, rfc__min_samples_split=2, rfc__n_estimators=50;, score=0.000 total time=   0.1s\n",
      "[CV 4/5] END rfc__max_depth=6, rfc__min_impurity_decrease=0.3, rfc__min_samples_split=2, rfc__n_estimators=50;, score=0.000 total time=   0.1s\n",
      "[CV 5/5] END rfc__max_depth=6, rfc__min_impurity_decrease=0.3, rfc__min_samples_split=2, rfc__n_estimators=50;, score=0.000 total time=   0.1s\n",
      "[CV 1/5] END rfc__max_depth=6, rfc__min_impurity_decrease=0.3, rfc__min_samples_split=2, rfc__n_estimators=100;, score=0.000 total time=   0.1s\n",
      "[CV 2/5] END rfc__max_depth=6, rfc__min_impurity_decrease=0.3, rfc__min_samples_split=2, rfc__n_estimators=100;, score=0.000 total time=   0.1s\n",
      "[CV 3/5] END rfc__max_depth=6, rfc__min_impurity_decrease=0.3, rfc__min_samples_split=2, rfc__n_estimators=100;, score=0.000 total time=   0.1s\n",
      "[CV 4/5] END rfc__max_depth=6, rfc__min_impurity_decrease=0.3, rfc__min_samples_split=2, rfc__n_estimators=100;, score=0.000 total time=   0.1s\n",
      "[CV 5/5] END rfc__max_depth=6, rfc__min_impurity_decrease=0.3, rfc__min_samples_split=2, rfc__n_estimators=100;, score=0.000 total time=   0.1s\n",
      "[CV 1/5] END rfc__max_depth=6, rfc__min_impurity_decrease=0.3, rfc__min_samples_split=4, rfc__n_estimators=10;, score=0.098 total time=   0.0s\n",
      "[CV 2/5] END rfc__max_depth=6, rfc__min_impurity_decrease=0.3, rfc__min_samples_split=4, rfc__n_estimators=10;, score=0.098 total time=   0.0s\n",
      "[CV 3/5] END rfc__max_depth=6, rfc__min_impurity_decrease=0.3, rfc__min_samples_split=4, rfc__n_estimators=10;, score=0.099 total time=   0.0s\n",
      "[CV 4/5] END rfc__max_depth=6, rfc__min_impurity_decrease=0.3, rfc__min_samples_split=4, rfc__n_estimators=10;, score=0.099 total time=   0.0s\n",
      "[CV 5/5] END rfc__max_depth=6, rfc__min_impurity_decrease=0.3, rfc__min_samples_split=4, rfc__n_estimators=10;, score=0.099 total time=   0.0s\n",
      "[CV 1/5] END rfc__max_depth=6, rfc__min_impurity_decrease=0.3, rfc__min_samples_split=4, rfc__n_estimators=50;, score=0.000 total time=   0.1s\n",
      "[CV 2/5] END rfc__max_depth=6, rfc__min_impurity_decrease=0.3, rfc__min_samples_split=4, rfc__n_estimators=50;, score=0.000 total time=   0.1s\n",
      "[CV 3/5] END rfc__max_depth=6, rfc__min_impurity_decrease=0.3, rfc__min_samples_split=4, rfc__n_estimators=50;, score=0.000 total time=   0.1s\n",
      "[CV 4/5] END rfc__max_depth=6, rfc__min_impurity_decrease=0.3, rfc__min_samples_split=4, rfc__n_estimators=50;, score=0.000 total time=   0.1s\n",
      "[CV 5/5] END rfc__max_depth=6, rfc__min_impurity_decrease=0.3, rfc__min_samples_split=4, rfc__n_estimators=50;, score=0.000 total time=   0.1s\n",
      "[CV 1/5] END rfc__max_depth=6, rfc__min_impurity_decrease=0.3, rfc__min_samples_split=4, rfc__n_estimators=100;, score=0.000 total time=   0.1s\n",
      "[CV 2/5] END rfc__max_depth=6, rfc__min_impurity_decrease=0.3, rfc__min_samples_split=4, rfc__n_estimators=100;, score=0.000 total time=   0.1s\n",
      "[CV 3/5] END rfc__max_depth=6, rfc__min_impurity_decrease=0.3, rfc__min_samples_split=4, rfc__n_estimators=100;, score=0.000 total time=   0.1s\n",
      "[CV 4/5] END rfc__max_depth=6, rfc__min_impurity_decrease=0.3, rfc__min_samples_split=4, rfc__n_estimators=100;, score=0.000 total time=   0.1s\n",
      "[CV 5/5] END rfc__max_depth=6, rfc__min_impurity_decrease=0.3, rfc__min_samples_split=4, rfc__n_estimators=100;, score=0.000 total time=   0.1s\n",
      "[CV 1/5] END rfc__max_depth=6, rfc__min_impurity_decrease=0.3, rfc__min_samples_split=6, rfc__n_estimators=10;, score=0.098 total time=   0.0s\n",
      "[CV 2/5] END rfc__max_depth=6, rfc__min_impurity_decrease=0.3, rfc__min_samples_split=6, rfc__n_estimators=10;, score=0.098 total time=   0.0s\n",
      "[CV 3/5] END rfc__max_depth=6, rfc__min_impurity_decrease=0.3, rfc__min_samples_split=6, rfc__n_estimators=10;, score=0.099 total time=   0.0s\n",
      "[CV 4/5] END rfc__max_depth=6, rfc__min_impurity_decrease=0.3, rfc__min_samples_split=6, rfc__n_estimators=10;, score=0.099 total time=   0.0s\n",
      "[CV 5/5] END rfc__max_depth=6, rfc__min_impurity_decrease=0.3, rfc__min_samples_split=6, rfc__n_estimators=10;, score=0.099 total time=   0.0s\n",
      "[CV 1/5] END rfc__max_depth=6, rfc__min_impurity_decrease=0.3, rfc__min_samples_split=6, rfc__n_estimators=50;, score=0.000 total time=   0.1s\n",
      "[CV 2/5] END rfc__max_depth=6, rfc__min_impurity_decrease=0.3, rfc__min_samples_split=6, rfc__n_estimators=50;, score=0.000 total time=   0.1s\n",
      "[CV 3/5] END rfc__max_depth=6, rfc__min_impurity_decrease=0.3, rfc__min_samples_split=6, rfc__n_estimators=50;, score=0.000 total time=   0.1s\n"
     ]
    },
    {
     "name": "stdout",
     "output_type": "stream",
     "text": [
      "[CV 4/5] END rfc__max_depth=6, rfc__min_impurity_decrease=0.3, rfc__min_samples_split=6, rfc__n_estimators=50;, score=0.000 total time=   0.1s\n",
      "[CV 5/5] END rfc__max_depth=6, rfc__min_impurity_decrease=0.3, rfc__min_samples_split=6, rfc__n_estimators=50;, score=0.000 total time=   0.1s\n",
      "[CV 1/5] END rfc__max_depth=6, rfc__min_impurity_decrease=0.3, rfc__min_samples_split=6, rfc__n_estimators=100;, score=0.000 total time=   0.1s\n",
      "[CV 2/5] END rfc__max_depth=6, rfc__min_impurity_decrease=0.3, rfc__min_samples_split=6, rfc__n_estimators=100;, score=0.000 total time=   0.1s\n",
      "[CV 3/5] END rfc__max_depth=6, rfc__min_impurity_decrease=0.3, rfc__min_samples_split=6, rfc__n_estimators=100;, score=0.000 total time=   0.1s\n",
      "[CV 4/5] END rfc__max_depth=6, rfc__min_impurity_decrease=0.3, rfc__min_samples_split=6, rfc__n_estimators=100;, score=0.000 total time=   0.1s\n",
      "[CV 5/5] END rfc__max_depth=6, rfc__min_impurity_decrease=0.3, rfc__min_samples_split=6, rfc__n_estimators=100;, score=0.000 total time=   0.1s\n",
      "[CV 1/5] END rfc__max_depth=6, rfc__min_impurity_decrease=0.5, rfc__min_samples_split=2, rfc__n_estimators=10;, score=0.098 total time=   0.0s\n",
      "[CV 2/5] END rfc__max_depth=6, rfc__min_impurity_decrease=0.5, rfc__min_samples_split=2, rfc__n_estimators=10;, score=0.098 total time=   0.0s\n",
      "[CV 3/5] END rfc__max_depth=6, rfc__min_impurity_decrease=0.5, rfc__min_samples_split=2, rfc__n_estimators=10;, score=0.099 total time=   0.0s\n",
      "[CV 4/5] END rfc__max_depth=6, rfc__min_impurity_decrease=0.5, rfc__min_samples_split=2, rfc__n_estimators=10;, score=0.099 total time=   0.0s\n",
      "[CV 5/5] END rfc__max_depth=6, rfc__min_impurity_decrease=0.5, rfc__min_samples_split=2, rfc__n_estimators=10;, score=0.099 total time=   0.0s\n",
      "[CV 1/5] END rfc__max_depth=6, rfc__min_impurity_decrease=0.5, rfc__min_samples_split=2, rfc__n_estimators=50;, score=0.000 total time=   0.1s\n",
      "[CV 2/5] END rfc__max_depth=6, rfc__min_impurity_decrease=0.5, rfc__min_samples_split=2, rfc__n_estimators=50;, score=0.000 total time=   0.1s\n",
      "[CV 3/5] END rfc__max_depth=6, rfc__min_impurity_decrease=0.5, rfc__min_samples_split=2, rfc__n_estimators=50;, score=0.000 total time=   0.1s\n",
      "[CV 4/5] END rfc__max_depth=6, rfc__min_impurity_decrease=0.5, rfc__min_samples_split=2, rfc__n_estimators=50;, score=0.000 total time=   0.1s\n",
      "[CV 5/5] END rfc__max_depth=6, rfc__min_impurity_decrease=0.5, rfc__min_samples_split=2, rfc__n_estimators=50;, score=0.000 total time=   0.1s\n",
      "[CV 1/5] END rfc__max_depth=6, rfc__min_impurity_decrease=0.5, rfc__min_samples_split=2, rfc__n_estimators=100;, score=0.000 total time=   0.1s\n",
      "[CV 2/5] END rfc__max_depth=6, rfc__min_impurity_decrease=0.5, rfc__min_samples_split=2, rfc__n_estimators=100;, score=0.000 total time=   0.1s\n",
      "[CV 3/5] END rfc__max_depth=6, rfc__min_impurity_decrease=0.5, rfc__min_samples_split=2, rfc__n_estimators=100;, score=0.000 total time=   0.1s\n",
      "[CV 4/5] END rfc__max_depth=6, rfc__min_impurity_decrease=0.5, rfc__min_samples_split=2, rfc__n_estimators=100;, score=0.000 total time=   0.1s\n",
      "[CV 5/5] END rfc__max_depth=6, rfc__min_impurity_decrease=0.5, rfc__min_samples_split=2, rfc__n_estimators=100;, score=0.000 total time=   0.1s\n",
      "[CV 1/5] END rfc__max_depth=6, rfc__min_impurity_decrease=0.5, rfc__min_samples_split=4, rfc__n_estimators=10;, score=0.098 total time=   0.0s\n",
      "[CV 2/5] END rfc__max_depth=6, rfc__min_impurity_decrease=0.5, rfc__min_samples_split=4, rfc__n_estimators=10;, score=0.098 total time=   0.0s\n",
      "[CV 3/5] END rfc__max_depth=6, rfc__min_impurity_decrease=0.5, rfc__min_samples_split=4, rfc__n_estimators=10;, score=0.099 total time=   0.0s\n",
      "[CV 4/5] END rfc__max_depth=6, rfc__min_impurity_decrease=0.5, rfc__min_samples_split=4, rfc__n_estimators=10;, score=0.099 total time=   0.0s\n",
      "[CV 5/5] END rfc__max_depth=6, rfc__min_impurity_decrease=0.5, rfc__min_samples_split=4, rfc__n_estimators=10;, score=0.099 total time=   0.0s\n",
      "[CV 1/5] END rfc__max_depth=6, rfc__min_impurity_decrease=0.5, rfc__min_samples_split=4, rfc__n_estimators=50;, score=0.000 total time=   0.1s\n",
      "[CV 2/5] END rfc__max_depth=6, rfc__min_impurity_decrease=0.5, rfc__min_samples_split=4, rfc__n_estimators=50;, score=0.000 total time=   0.1s\n",
      "[CV 3/5] END rfc__max_depth=6, rfc__min_impurity_decrease=0.5, rfc__min_samples_split=4, rfc__n_estimators=50;, score=0.000 total time=   0.1s\n",
      "[CV 4/5] END rfc__max_depth=6, rfc__min_impurity_decrease=0.5, rfc__min_samples_split=4, rfc__n_estimators=50;, score=0.000 total time=   0.1s\n",
      "[CV 5/5] END rfc__max_depth=6, rfc__min_impurity_decrease=0.5, rfc__min_samples_split=4, rfc__n_estimators=50;, score=0.000 total time=   0.1s\n",
      "[CV 1/5] END rfc__max_depth=6, rfc__min_impurity_decrease=0.5, rfc__min_samples_split=4, rfc__n_estimators=100;, score=0.000 total time=   0.1s\n",
      "[CV 2/5] END rfc__max_depth=6, rfc__min_impurity_decrease=0.5, rfc__min_samples_split=4, rfc__n_estimators=100;, score=0.000 total time=   0.1s\n",
      "[CV 3/5] END rfc__max_depth=6, rfc__min_impurity_decrease=0.5, rfc__min_samples_split=4, rfc__n_estimators=100;, score=0.000 total time=   0.1s\n",
      "[CV 4/5] END rfc__max_depth=6, rfc__min_impurity_decrease=0.5, rfc__min_samples_split=4, rfc__n_estimators=100;, score=0.000 total time=   0.1s\n",
      "[CV 5/5] END rfc__max_depth=6, rfc__min_impurity_decrease=0.5, rfc__min_samples_split=4, rfc__n_estimators=100;, score=0.000 total time=   0.1s\n",
      "[CV 1/5] END rfc__max_depth=6, rfc__min_impurity_decrease=0.5, rfc__min_samples_split=6, rfc__n_estimators=10;, score=0.098 total time=   0.0s\n",
      "[CV 2/5] END rfc__max_depth=6, rfc__min_impurity_decrease=0.5, rfc__min_samples_split=6, rfc__n_estimators=10;, score=0.098 total time=   0.0s\n",
      "[CV 3/5] END rfc__max_depth=6, rfc__min_impurity_decrease=0.5, rfc__min_samples_split=6, rfc__n_estimators=10;, score=0.099 total time=   0.0s\n",
      "[CV 4/5] END rfc__max_depth=6, rfc__min_impurity_decrease=0.5, rfc__min_samples_split=6, rfc__n_estimators=10;, score=0.099 total time=   0.0s\n",
      "[CV 5/5] END rfc__max_depth=6, rfc__min_impurity_decrease=0.5, rfc__min_samples_split=6, rfc__n_estimators=10;, score=0.099 total time=   0.0s\n",
      "[CV 1/5] END rfc__max_depth=6, rfc__min_impurity_decrease=0.5, rfc__min_samples_split=6, rfc__n_estimators=50;, score=0.000 total time=   0.1s\n",
      "[CV 2/5] END rfc__max_depth=6, rfc__min_impurity_decrease=0.5, rfc__min_samples_split=6, rfc__n_estimators=50;, score=0.000 total time=   0.1s\n",
      "[CV 3/5] END rfc__max_depth=6, rfc__min_impurity_decrease=0.5, rfc__min_samples_split=6, rfc__n_estimators=50;, score=0.000 total time=   0.1s\n",
      "[CV 4/5] END rfc__max_depth=6, rfc__min_impurity_decrease=0.5, rfc__min_samples_split=6, rfc__n_estimators=50;, score=0.000 total time=   0.1s\n",
      "[CV 5/5] END rfc__max_depth=6, rfc__min_impurity_decrease=0.5, rfc__min_samples_split=6, rfc__n_estimators=50;, score=0.000 total time=   0.1s\n",
      "[CV 1/5] END rfc__max_depth=6, rfc__min_impurity_decrease=0.5, rfc__min_samples_split=6, rfc__n_estimators=100;, score=0.000 total time=   0.1s\n",
      "[CV 2/5] END rfc__max_depth=6, rfc__min_impurity_decrease=0.5, rfc__min_samples_split=6, rfc__n_estimators=100;, score=0.000 total time=   0.1s\n",
      "[CV 3/5] END rfc__max_depth=6, rfc__min_impurity_decrease=0.5, rfc__min_samples_split=6, rfc__n_estimators=100;, score=0.000 total time=   0.1s\n",
      "[CV 4/5] END rfc__max_depth=6, rfc__min_impurity_decrease=0.5, rfc__min_samples_split=6, rfc__n_estimators=100;, score=0.000 total time=   0.1s\n",
      "[CV 5/5] END rfc__max_depth=6, rfc__min_impurity_decrease=0.5, rfc__min_samples_split=6, rfc__n_estimators=100;, score=0.000 total time=   0.1s\n",
      "[CV 1/5] END rfc__max_depth=8, rfc__min_impurity_decrease=0.1, rfc__min_samples_split=2, rfc__n_estimators=10;, score=0.098 total time=   0.0s\n",
      "[CV 2/5] END rfc__max_depth=8, rfc__min_impurity_decrease=0.1, rfc__min_samples_split=2, rfc__n_estimators=10;, score=0.098 total time=   0.0s\n",
      "[CV 3/5] END rfc__max_depth=8, rfc__min_impurity_decrease=0.1, rfc__min_samples_split=2, rfc__n_estimators=10;, score=0.099 total time=   0.0s\n",
      "[CV 4/5] END rfc__max_depth=8, rfc__min_impurity_decrease=0.1, rfc__min_samples_split=2, rfc__n_estimators=10;, score=0.099 total time=   0.0s\n",
      "[CV 5/5] END rfc__max_depth=8, rfc__min_impurity_decrease=0.1, rfc__min_samples_split=2, rfc__n_estimators=10;, score=0.099 total time=   0.0s\n",
      "[CV 1/5] END rfc__max_depth=8, rfc__min_impurity_decrease=0.1, rfc__min_samples_split=2, rfc__n_estimators=50;, score=0.000 total time=   0.1s\n",
      "[CV 2/5] END rfc__max_depth=8, rfc__min_impurity_decrease=0.1, rfc__min_samples_split=2, rfc__n_estimators=50;, score=0.000 total time=   0.1s\n",
      "[CV 3/5] END rfc__max_depth=8, rfc__min_impurity_decrease=0.1, rfc__min_samples_split=2, rfc__n_estimators=50;, score=0.000 total time=   0.1s\n"
     ]
    },
    {
     "name": "stdout",
     "output_type": "stream",
     "text": [
      "[CV 4/5] END rfc__max_depth=8, rfc__min_impurity_decrease=0.1, rfc__min_samples_split=2, rfc__n_estimators=50;, score=0.000 total time=   0.1s\n",
      "[CV 5/5] END rfc__max_depth=8, rfc__min_impurity_decrease=0.1, rfc__min_samples_split=2, rfc__n_estimators=50;, score=0.000 total time=   0.1s\n",
      "[CV 1/5] END rfc__max_depth=8, rfc__min_impurity_decrease=0.1, rfc__min_samples_split=2, rfc__n_estimators=100;, score=0.000 total time=   0.1s\n",
      "[CV 2/5] END rfc__max_depth=8, rfc__min_impurity_decrease=0.1, rfc__min_samples_split=2, rfc__n_estimators=100;, score=0.000 total time=   0.1s\n",
      "[CV 3/5] END rfc__max_depth=8, rfc__min_impurity_decrease=0.1, rfc__min_samples_split=2, rfc__n_estimators=100;, score=0.000 total time=   0.1s\n",
      "[CV 4/5] END rfc__max_depth=8, rfc__min_impurity_decrease=0.1, rfc__min_samples_split=2, rfc__n_estimators=100;, score=0.000 total time=   0.1s\n",
      "[CV 5/5] END rfc__max_depth=8, rfc__min_impurity_decrease=0.1, rfc__min_samples_split=2, rfc__n_estimators=100;, score=0.000 total time=   0.1s\n",
      "[CV 1/5] END rfc__max_depth=8, rfc__min_impurity_decrease=0.1, rfc__min_samples_split=4, rfc__n_estimators=10;, score=0.098 total time=   0.0s\n",
      "[CV 2/5] END rfc__max_depth=8, rfc__min_impurity_decrease=0.1, rfc__min_samples_split=4, rfc__n_estimators=10;, score=0.098 total time=   0.0s\n",
      "[CV 3/5] END rfc__max_depth=8, rfc__min_impurity_decrease=0.1, rfc__min_samples_split=4, rfc__n_estimators=10;, score=0.099 total time=   0.0s\n",
      "[CV 4/5] END rfc__max_depth=8, rfc__min_impurity_decrease=0.1, rfc__min_samples_split=4, rfc__n_estimators=10;, score=0.099 total time=   0.0s\n",
      "[CV 5/5] END rfc__max_depth=8, rfc__min_impurity_decrease=0.1, rfc__min_samples_split=4, rfc__n_estimators=10;, score=0.099 total time=   0.0s\n",
      "[CV 1/5] END rfc__max_depth=8, rfc__min_impurity_decrease=0.1, rfc__min_samples_split=4, rfc__n_estimators=50;, score=0.000 total time=   0.1s\n",
      "[CV 2/5] END rfc__max_depth=8, rfc__min_impurity_decrease=0.1, rfc__min_samples_split=4, rfc__n_estimators=50;, score=0.000 total time=   0.1s\n",
      "[CV 3/5] END rfc__max_depth=8, rfc__min_impurity_decrease=0.1, rfc__min_samples_split=4, rfc__n_estimators=50;, score=0.000 total time=   0.1s\n",
      "[CV 4/5] END rfc__max_depth=8, rfc__min_impurity_decrease=0.1, rfc__min_samples_split=4, rfc__n_estimators=50;, score=0.000 total time=   0.1s\n",
      "[CV 5/5] END rfc__max_depth=8, rfc__min_impurity_decrease=0.1, rfc__min_samples_split=4, rfc__n_estimators=50;, score=0.000 total time=   0.1s\n",
      "[CV 1/5] END rfc__max_depth=8, rfc__min_impurity_decrease=0.1, rfc__min_samples_split=4, rfc__n_estimators=100;, score=0.000 total time=   0.1s\n",
      "[CV 2/5] END rfc__max_depth=8, rfc__min_impurity_decrease=0.1, rfc__min_samples_split=4, rfc__n_estimators=100;, score=0.000 total time=   0.1s\n",
      "[CV 3/5] END rfc__max_depth=8, rfc__min_impurity_decrease=0.1, rfc__min_samples_split=4, rfc__n_estimators=100;, score=0.000 total time=   0.1s\n",
      "[CV 4/5] END rfc__max_depth=8, rfc__min_impurity_decrease=0.1, rfc__min_samples_split=4, rfc__n_estimators=100;, score=0.000 total time=   0.1s\n",
      "[CV 5/5] END rfc__max_depth=8, rfc__min_impurity_decrease=0.1, rfc__min_samples_split=4, rfc__n_estimators=100;, score=0.000 total time=   0.1s\n",
      "[CV 1/5] END rfc__max_depth=8, rfc__min_impurity_decrease=0.1, rfc__min_samples_split=6, rfc__n_estimators=10;, score=0.098 total time=   0.0s\n",
      "[CV 2/5] END rfc__max_depth=8, rfc__min_impurity_decrease=0.1, rfc__min_samples_split=6, rfc__n_estimators=10;, score=0.098 total time=   0.0s\n",
      "[CV 3/5] END rfc__max_depth=8, rfc__min_impurity_decrease=0.1, rfc__min_samples_split=6, rfc__n_estimators=10;, score=0.099 total time=   0.0s\n",
      "[CV 4/5] END rfc__max_depth=8, rfc__min_impurity_decrease=0.1, rfc__min_samples_split=6, rfc__n_estimators=10;, score=0.099 total time=   0.0s\n",
      "[CV 5/5] END rfc__max_depth=8, rfc__min_impurity_decrease=0.1, rfc__min_samples_split=6, rfc__n_estimators=10;, score=0.099 total time=   0.0s\n",
      "[CV 1/5] END rfc__max_depth=8, rfc__min_impurity_decrease=0.1, rfc__min_samples_split=6, rfc__n_estimators=50;, score=0.000 total time=   0.1s\n",
      "[CV 2/5] END rfc__max_depth=8, rfc__min_impurity_decrease=0.1, rfc__min_samples_split=6, rfc__n_estimators=50;, score=0.000 total time=   0.1s\n",
      "[CV 3/5] END rfc__max_depth=8, rfc__min_impurity_decrease=0.1, rfc__min_samples_split=6, rfc__n_estimators=50;, score=0.000 total time=   0.1s\n",
      "[CV 4/5] END rfc__max_depth=8, rfc__min_impurity_decrease=0.1, rfc__min_samples_split=6, rfc__n_estimators=50;, score=0.000 total time=   0.1s\n",
      "[CV 5/5] END rfc__max_depth=8, rfc__min_impurity_decrease=0.1, rfc__min_samples_split=6, rfc__n_estimators=50;, score=0.000 total time=   0.1s\n",
      "[CV 1/5] END rfc__max_depth=8, rfc__min_impurity_decrease=0.1, rfc__min_samples_split=6, rfc__n_estimators=100;, score=0.000 total time=   0.1s\n",
      "[CV 2/5] END rfc__max_depth=8, rfc__min_impurity_decrease=0.1, rfc__min_samples_split=6, rfc__n_estimators=100;, score=0.000 total time=   0.1s\n",
      "[CV 3/5] END rfc__max_depth=8, rfc__min_impurity_decrease=0.1, rfc__min_samples_split=6, rfc__n_estimators=100;, score=0.000 total time=   0.1s\n",
      "[CV 4/5] END rfc__max_depth=8, rfc__min_impurity_decrease=0.1, rfc__min_samples_split=6, rfc__n_estimators=100;, score=0.000 total time=   0.1s\n",
      "[CV 5/5] END rfc__max_depth=8, rfc__min_impurity_decrease=0.1, rfc__min_samples_split=6, rfc__n_estimators=100;, score=0.000 total time=   0.1s\n",
      "[CV 1/5] END rfc__max_depth=8, rfc__min_impurity_decrease=0.3, rfc__min_samples_split=2, rfc__n_estimators=10;, score=0.098 total time=   0.0s\n",
      "[CV 2/5] END rfc__max_depth=8, rfc__min_impurity_decrease=0.3, rfc__min_samples_split=2, rfc__n_estimators=10;, score=0.098 total time=   0.0s\n",
      "[CV 3/5] END rfc__max_depth=8, rfc__min_impurity_decrease=0.3, rfc__min_samples_split=2, rfc__n_estimators=10;, score=0.099 total time=   0.0s\n",
      "[CV 4/5] END rfc__max_depth=8, rfc__min_impurity_decrease=0.3, rfc__min_samples_split=2, rfc__n_estimators=10;, score=0.099 total time=   0.0s\n",
      "[CV 5/5] END rfc__max_depth=8, rfc__min_impurity_decrease=0.3, rfc__min_samples_split=2, rfc__n_estimators=10;, score=0.099 total time=   0.0s\n",
      "[CV 1/5] END rfc__max_depth=8, rfc__min_impurity_decrease=0.3, rfc__min_samples_split=2, rfc__n_estimators=50;, score=0.000 total time=   0.1s\n",
      "[CV 2/5] END rfc__max_depth=8, rfc__min_impurity_decrease=0.3, rfc__min_samples_split=2, rfc__n_estimators=50;, score=0.000 total time=   0.1s\n",
      "[CV 3/5] END rfc__max_depth=8, rfc__min_impurity_decrease=0.3, rfc__min_samples_split=2, rfc__n_estimators=50;, score=0.000 total time=   0.1s\n",
      "[CV 4/5] END rfc__max_depth=8, rfc__min_impurity_decrease=0.3, rfc__min_samples_split=2, rfc__n_estimators=50;, score=0.000 total time=   0.1s\n",
      "[CV 5/5] END rfc__max_depth=8, rfc__min_impurity_decrease=0.3, rfc__min_samples_split=2, rfc__n_estimators=50;, score=0.000 total time=   0.1s\n",
      "[CV 1/5] END rfc__max_depth=8, rfc__min_impurity_decrease=0.3, rfc__min_samples_split=2, rfc__n_estimators=100;, score=0.000 total time=   0.1s\n",
      "[CV 2/5] END rfc__max_depth=8, rfc__min_impurity_decrease=0.3, rfc__min_samples_split=2, rfc__n_estimators=100;, score=0.000 total time=   0.1s\n",
      "[CV 3/5] END rfc__max_depth=8, rfc__min_impurity_decrease=0.3, rfc__min_samples_split=2, rfc__n_estimators=100;, score=0.000 total time=   0.1s\n",
      "[CV 4/5] END rfc__max_depth=8, rfc__min_impurity_decrease=0.3, rfc__min_samples_split=2, rfc__n_estimators=100;, score=0.000 total time=   0.1s\n",
      "[CV 5/5] END rfc__max_depth=8, rfc__min_impurity_decrease=0.3, rfc__min_samples_split=2, rfc__n_estimators=100;, score=0.000 total time=   0.1s\n",
      "[CV 1/5] END rfc__max_depth=8, rfc__min_impurity_decrease=0.3, rfc__min_samples_split=4, rfc__n_estimators=10;, score=0.098 total time=   0.0s\n",
      "[CV 2/5] END rfc__max_depth=8, rfc__min_impurity_decrease=0.3, rfc__min_samples_split=4, rfc__n_estimators=10;, score=0.098 total time=   0.0s\n",
      "[CV 3/5] END rfc__max_depth=8, rfc__min_impurity_decrease=0.3, rfc__min_samples_split=4, rfc__n_estimators=10;, score=0.099 total time=   0.0s\n",
      "[CV 4/5] END rfc__max_depth=8, rfc__min_impurity_decrease=0.3, rfc__min_samples_split=4, rfc__n_estimators=10;, score=0.099 total time=   0.0s\n",
      "[CV 5/5] END rfc__max_depth=8, rfc__min_impurity_decrease=0.3, rfc__min_samples_split=4, rfc__n_estimators=10;, score=0.099 total time=   0.0s\n",
      "[CV 1/5] END rfc__max_depth=8, rfc__min_impurity_decrease=0.3, rfc__min_samples_split=4, rfc__n_estimators=50;, score=0.000 total time=   0.1s\n",
      "[CV 2/5] END rfc__max_depth=8, rfc__min_impurity_decrease=0.3, rfc__min_samples_split=4, rfc__n_estimators=50;, score=0.000 total time=   0.1s\n",
      "[CV 3/5] END rfc__max_depth=8, rfc__min_impurity_decrease=0.3, rfc__min_samples_split=4, rfc__n_estimators=50;, score=0.000 total time=   0.1s\n"
     ]
    },
    {
     "name": "stdout",
     "output_type": "stream",
     "text": [
      "[CV 4/5] END rfc__max_depth=8, rfc__min_impurity_decrease=0.3, rfc__min_samples_split=4, rfc__n_estimators=50;, score=0.000 total time=   0.1s\n",
      "[CV 5/5] END rfc__max_depth=8, rfc__min_impurity_decrease=0.3, rfc__min_samples_split=4, rfc__n_estimators=50;, score=0.000 total time=   0.1s\n",
      "[CV 1/5] END rfc__max_depth=8, rfc__min_impurity_decrease=0.3, rfc__min_samples_split=4, rfc__n_estimators=100;, score=0.000 total time=   0.1s\n",
      "[CV 2/5] END rfc__max_depth=8, rfc__min_impurity_decrease=0.3, rfc__min_samples_split=4, rfc__n_estimators=100;, score=0.000 total time=   0.1s\n",
      "[CV 3/5] END rfc__max_depth=8, rfc__min_impurity_decrease=0.3, rfc__min_samples_split=4, rfc__n_estimators=100;, score=0.000 total time=   0.1s\n",
      "[CV 4/5] END rfc__max_depth=8, rfc__min_impurity_decrease=0.3, rfc__min_samples_split=4, rfc__n_estimators=100;, score=0.000 total time=   0.1s\n",
      "[CV 5/5] END rfc__max_depth=8, rfc__min_impurity_decrease=0.3, rfc__min_samples_split=4, rfc__n_estimators=100;, score=0.000 total time=   0.1s\n",
      "[CV 1/5] END rfc__max_depth=8, rfc__min_impurity_decrease=0.3, rfc__min_samples_split=6, rfc__n_estimators=10;, score=0.098 total time=   0.0s\n",
      "[CV 2/5] END rfc__max_depth=8, rfc__min_impurity_decrease=0.3, rfc__min_samples_split=6, rfc__n_estimators=10;, score=0.098 total time=   0.0s\n",
      "[CV 3/5] END rfc__max_depth=8, rfc__min_impurity_decrease=0.3, rfc__min_samples_split=6, rfc__n_estimators=10;, score=0.099 total time=   0.0s\n",
      "[CV 4/5] END rfc__max_depth=8, rfc__min_impurity_decrease=0.3, rfc__min_samples_split=6, rfc__n_estimators=10;, score=0.099 total time=   0.0s\n",
      "[CV 5/5] END rfc__max_depth=8, rfc__min_impurity_decrease=0.3, rfc__min_samples_split=6, rfc__n_estimators=10;, score=0.099 total time=   0.0s\n",
      "[CV 1/5] END rfc__max_depth=8, rfc__min_impurity_decrease=0.3, rfc__min_samples_split=6, rfc__n_estimators=50;, score=0.000 total time=   0.1s\n",
      "[CV 2/5] END rfc__max_depth=8, rfc__min_impurity_decrease=0.3, rfc__min_samples_split=6, rfc__n_estimators=50;, score=0.000 total time=   0.1s\n",
      "[CV 3/5] END rfc__max_depth=8, rfc__min_impurity_decrease=0.3, rfc__min_samples_split=6, rfc__n_estimators=50;, score=0.000 total time=   0.1s\n",
      "[CV 4/5] END rfc__max_depth=8, rfc__min_impurity_decrease=0.3, rfc__min_samples_split=6, rfc__n_estimators=50;, score=0.000 total time=   0.1s\n",
      "[CV 5/5] END rfc__max_depth=8, rfc__min_impurity_decrease=0.3, rfc__min_samples_split=6, rfc__n_estimators=50;, score=0.000 total time=   0.1s\n",
      "[CV 1/5] END rfc__max_depth=8, rfc__min_impurity_decrease=0.3, rfc__min_samples_split=6, rfc__n_estimators=100;, score=0.000 total time=   0.1s\n",
      "[CV 2/5] END rfc__max_depth=8, rfc__min_impurity_decrease=0.3, rfc__min_samples_split=6, rfc__n_estimators=100;, score=0.000 total time=   0.1s\n",
      "[CV 3/5] END rfc__max_depth=8, rfc__min_impurity_decrease=0.3, rfc__min_samples_split=6, rfc__n_estimators=100;, score=0.000 total time=   0.1s\n",
      "[CV 4/5] END rfc__max_depth=8, rfc__min_impurity_decrease=0.3, rfc__min_samples_split=6, rfc__n_estimators=100;, score=0.000 total time=   0.1s\n",
      "[CV 5/5] END rfc__max_depth=8, rfc__min_impurity_decrease=0.3, rfc__min_samples_split=6, rfc__n_estimators=100;, score=0.000 total time=   0.1s\n",
      "[CV 1/5] END rfc__max_depth=8, rfc__min_impurity_decrease=0.5, rfc__min_samples_split=2, rfc__n_estimators=10;, score=0.098 total time=   0.0s\n",
      "[CV 2/5] END rfc__max_depth=8, rfc__min_impurity_decrease=0.5, rfc__min_samples_split=2, rfc__n_estimators=10;, score=0.098 total time=   0.0s\n",
      "[CV 3/5] END rfc__max_depth=8, rfc__min_impurity_decrease=0.5, rfc__min_samples_split=2, rfc__n_estimators=10;, score=0.099 total time=   0.0s\n",
      "[CV 4/5] END rfc__max_depth=8, rfc__min_impurity_decrease=0.5, rfc__min_samples_split=2, rfc__n_estimators=10;, score=0.099 total time=   0.0s\n",
      "[CV 5/5] END rfc__max_depth=8, rfc__min_impurity_decrease=0.5, rfc__min_samples_split=2, rfc__n_estimators=10;, score=0.099 total time=   0.0s\n",
      "[CV 1/5] END rfc__max_depth=8, rfc__min_impurity_decrease=0.5, rfc__min_samples_split=2, rfc__n_estimators=50;, score=0.000 total time=   0.1s\n",
      "[CV 2/5] END rfc__max_depth=8, rfc__min_impurity_decrease=0.5, rfc__min_samples_split=2, rfc__n_estimators=50;, score=0.000 total time=   0.1s\n",
      "[CV 3/5] END rfc__max_depth=8, rfc__min_impurity_decrease=0.5, rfc__min_samples_split=2, rfc__n_estimators=50;, score=0.000 total time=   0.1s\n",
      "[CV 4/5] END rfc__max_depth=8, rfc__min_impurity_decrease=0.5, rfc__min_samples_split=2, rfc__n_estimators=50;, score=0.000 total time=   0.1s\n",
      "[CV 5/5] END rfc__max_depth=8, rfc__min_impurity_decrease=0.5, rfc__min_samples_split=2, rfc__n_estimators=50;, score=0.000 total time=   0.1s\n",
      "[CV 1/5] END rfc__max_depth=8, rfc__min_impurity_decrease=0.5, rfc__min_samples_split=2, rfc__n_estimators=100;, score=0.000 total time=   0.1s\n",
      "[CV 2/5] END rfc__max_depth=8, rfc__min_impurity_decrease=0.5, rfc__min_samples_split=2, rfc__n_estimators=100;, score=0.000 total time=   0.1s\n",
      "[CV 3/5] END rfc__max_depth=8, rfc__min_impurity_decrease=0.5, rfc__min_samples_split=2, rfc__n_estimators=100;, score=0.000 total time=   0.1s\n",
      "[CV 4/5] END rfc__max_depth=8, rfc__min_impurity_decrease=0.5, rfc__min_samples_split=2, rfc__n_estimators=100;, score=0.000 total time=   0.1s\n",
      "[CV 5/5] END rfc__max_depth=8, rfc__min_impurity_decrease=0.5, rfc__min_samples_split=2, rfc__n_estimators=100;, score=0.000 total time=   0.1s\n",
      "[CV 1/5] END rfc__max_depth=8, rfc__min_impurity_decrease=0.5, rfc__min_samples_split=4, rfc__n_estimators=10;, score=0.098 total time=   0.0s\n",
      "[CV 2/5] END rfc__max_depth=8, rfc__min_impurity_decrease=0.5, rfc__min_samples_split=4, rfc__n_estimators=10;, score=0.098 total time=   0.0s\n",
      "[CV 3/5] END rfc__max_depth=8, rfc__min_impurity_decrease=0.5, rfc__min_samples_split=4, rfc__n_estimators=10;, score=0.099 total time=   0.0s\n",
      "[CV 4/5] END rfc__max_depth=8, rfc__min_impurity_decrease=0.5, rfc__min_samples_split=4, rfc__n_estimators=10;, score=0.099 total time=   0.0s\n",
      "[CV 5/5] END rfc__max_depth=8, rfc__min_impurity_decrease=0.5, rfc__min_samples_split=4, rfc__n_estimators=10;, score=0.099 total time=   0.0s\n",
      "[CV 1/5] END rfc__max_depth=8, rfc__min_impurity_decrease=0.5, rfc__min_samples_split=4, rfc__n_estimators=50;, score=0.000 total time=   0.1s\n",
      "[CV 2/5] END rfc__max_depth=8, rfc__min_impurity_decrease=0.5, rfc__min_samples_split=4, rfc__n_estimators=50;, score=0.000 total time=   0.1s\n",
      "[CV 3/5] END rfc__max_depth=8, rfc__min_impurity_decrease=0.5, rfc__min_samples_split=4, rfc__n_estimators=50;, score=0.000 total time=   0.1s\n",
      "[CV 4/5] END rfc__max_depth=8, rfc__min_impurity_decrease=0.5, rfc__min_samples_split=4, rfc__n_estimators=50;, score=0.000 total time=   0.1s\n",
      "[CV 5/5] END rfc__max_depth=8, rfc__min_impurity_decrease=0.5, rfc__min_samples_split=4, rfc__n_estimators=50;, score=0.000 total time=   0.1s\n",
      "[CV 1/5] END rfc__max_depth=8, rfc__min_impurity_decrease=0.5, rfc__min_samples_split=4, rfc__n_estimators=100;, score=0.000 total time=   0.1s\n",
      "[CV 2/5] END rfc__max_depth=8, rfc__min_impurity_decrease=0.5, rfc__min_samples_split=4, rfc__n_estimators=100;, score=0.000 total time=   0.1s\n",
      "[CV 3/5] END rfc__max_depth=8, rfc__min_impurity_decrease=0.5, rfc__min_samples_split=4, rfc__n_estimators=100;, score=0.000 total time=   0.1s\n",
      "[CV 4/5] END rfc__max_depth=8, rfc__min_impurity_decrease=0.5, rfc__min_samples_split=4, rfc__n_estimators=100;, score=0.000 total time=   0.1s\n",
      "[CV 5/5] END rfc__max_depth=8, rfc__min_impurity_decrease=0.5, rfc__min_samples_split=4, rfc__n_estimators=100;, score=0.000 total time=   0.1s\n",
      "[CV 1/5] END rfc__max_depth=8, rfc__min_impurity_decrease=0.5, rfc__min_samples_split=6, rfc__n_estimators=10;, score=0.098 total time=   0.0s\n",
      "[CV 2/5] END rfc__max_depth=8, rfc__min_impurity_decrease=0.5, rfc__min_samples_split=6, rfc__n_estimators=10;, score=0.098 total time=   0.0s\n",
      "[CV 3/5] END rfc__max_depth=8, rfc__min_impurity_decrease=0.5, rfc__min_samples_split=6, rfc__n_estimators=10;, score=0.099 total time=   0.0s\n",
      "[CV 4/5] END rfc__max_depth=8, rfc__min_impurity_decrease=0.5, rfc__min_samples_split=6, rfc__n_estimators=10;, score=0.099 total time=   0.0s\n",
      "[CV 5/5] END rfc__max_depth=8, rfc__min_impurity_decrease=0.5, rfc__min_samples_split=6, rfc__n_estimators=10;, score=0.099 total time=   0.0s\n",
      "[CV 1/5] END rfc__max_depth=8, rfc__min_impurity_decrease=0.5, rfc__min_samples_split=6, rfc__n_estimators=50;, score=0.000 total time=   0.1s\n",
      "[CV 2/5] END rfc__max_depth=8, rfc__min_impurity_decrease=0.5, rfc__min_samples_split=6, rfc__n_estimators=50;, score=0.000 total time=   0.1s\n",
      "[CV 3/5] END rfc__max_depth=8, rfc__min_impurity_decrease=0.5, rfc__min_samples_split=6, rfc__n_estimators=50;, score=0.000 total time=   0.1s\n"
     ]
    },
    {
     "name": "stdout",
     "output_type": "stream",
     "text": [
      "[CV 4/5] END rfc__max_depth=8, rfc__min_impurity_decrease=0.5, rfc__min_samples_split=6, rfc__n_estimators=50;, score=0.000 total time=   0.1s\n",
      "[CV 5/5] END rfc__max_depth=8, rfc__min_impurity_decrease=0.5, rfc__min_samples_split=6, rfc__n_estimators=50;, score=0.000 total time=   0.1s\n",
      "[CV 1/5] END rfc__max_depth=8, rfc__min_impurity_decrease=0.5, rfc__min_samples_split=6, rfc__n_estimators=100;, score=0.000 total time=   0.1s\n",
      "[CV 2/5] END rfc__max_depth=8, rfc__min_impurity_decrease=0.5, rfc__min_samples_split=6, rfc__n_estimators=100;, score=0.000 total time=   0.1s\n",
      "[CV 3/5] END rfc__max_depth=8, rfc__min_impurity_decrease=0.5, rfc__min_samples_split=6, rfc__n_estimators=100;, score=0.000 total time=   0.1s\n",
      "[CV 4/5] END rfc__max_depth=8, rfc__min_impurity_decrease=0.5, rfc__min_samples_split=6, rfc__n_estimators=100;, score=0.000 total time=   0.1s\n",
      "[CV 5/5] END rfc__max_depth=8, rfc__min_impurity_decrease=0.5, rfc__min_samples_split=6, rfc__n_estimators=100;, score=0.000 total time=   0.1s\n"
     ]
    },
    {
     "data": {
      "text/html": [
       "<style>#sk-container-id-8 {color: black;background-color: white;}#sk-container-id-8 pre{padding: 0;}#sk-container-id-8 div.sk-toggleable {background-color: white;}#sk-container-id-8 label.sk-toggleable__label {cursor: pointer;display: block;width: 100%;margin-bottom: 0;padding: 0.3em;box-sizing: border-box;text-align: center;}#sk-container-id-8 label.sk-toggleable__label-arrow:before {content: \"▸\";float: left;margin-right: 0.25em;color: #696969;}#sk-container-id-8 label.sk-toggleable__label-arrow:hover:before {color: black;}#sk-container-id-8 div.sk-estimator:hover label.sk-toggleable__label-arrow:before {color: black;}#sk-container-id-8 div.sk-toggleable__content {max-height: 0;max-width: 0;overflow: hidden;text-align: left;background-color: #f0f8ff;}#sk-container-id-8 div.sk-toggleable__content pre {margin: 0.2em;color: black;border-radius: 0.25em;background-color: #f0f8ff;}#sk-container-id-8 input.sk-toggleable__control:checked~div.sk-toggleable__content {max-height: 200px;max-width: 100%;overflow: auto;}#sk-container-id-8 input.sk-toggleable__control:checked~label.sk-toggleable__label-arrow:before {content: \"▾\";}#sk-container-id-8 div.sk-estimator input.sk-toggleable__control:checked~label.sk-toggleable__label {background-color: #d4ebff;}#sk-container-id-8 div.sk-label input.sk-toggleable__control:checked~label.sk-toggleable__label {background-color: #d4ebff;}#sk-container-id-8 input.sk-hidden--visually {border: 0;clip: rect(1px 1px 1px 1px);clip: rect(1px, 1px, 1px, 1px);height: 1px;margin: -1px;overflow: hidden;padding: 0;position: absolute;width: 1px;}#sk-container-id-8 div.sk-estimator {font-family: monospace;background-color: #f0f8ff;border: 1px dotted black;border-radius: 0.25em;box-sizing: border-box;margin-bottom: 0.5em;}#sk-container-id-8 div.sk-estimator:hover {background-color: #d4ebff;}#sk-container-id-8 div.sk-parallel-item::after {content: \"\";width: 100%;border-bottom: 1px solid gray;flex-grow: 1;}#sk-container-id-8 div.sk-label:hover label.sk-toggleable__label {background-color: #d4ebff;}#sk-container-id-8 div.sk-serial::before {content: \"\";position: absolute;border-left: 1px solid gray;box-sizing: border-box;top: 0;bottom: 0;left: 50%;z-index: 0;}#sk-container-id-8 div.sk-serial {display: flex;flex-direction: column;align-items: center;background-color: white;padding-right: 0.2em;padding-left: 0.2em;position: relative;}#sk-container-id-8 div.sk-item {position: relative;z-index: 1;}#sk-container-id-8 div.sk-parallel {display: flex;align-items: stretch;justify-content: center;background-color: white;position: relative;}#sk-container-id-8 div.sk-item::before, #sk-container-id-8 div.sk-parallel-item::before {content: \"\";position: absolute;border-left: 1px solid gray;box-sizing: border-box;top: 0;bottom: 0;left: 50%;z-index: -1;}#sk-container-id-8 div.sk-parallel-item {display: flex;flex-direction: column;z-index: 1;position: relative;background-color: white;}#sk-container-id-8 div.sk-parallel-item:first-child::after {align-self: flex-end;width: 50%;}#sk-container-id-8 div.sk-parallel-item:last-child::after {align-self: flex-start;width: 50%;}#sk-container-id-8 div.sk-parallel-item:only-child::after {width: 0;}#sk-container-id-8 div.sk-dashed-wrapped {border: 1px dashed gray;margin: 0 0.4em 0.5em 0.4em;box-sizing: border-box;padding-bottom: 0.4em;background-color: white;}#sk-container-id-8 div.sk-label label {font-family: monospace;font-weight: bold;display: inline-block;line-height: 1.2em;}#sk-container-id-8 div.sk-label-container {text-align: center;}#sk-container-id-8 div.sk-container {/* jupyter's `normalize.less` sets `[hidden] { display: none; }` but bootstrap.min.css set `[hidden] { display: none !important; }` so we also need the `!important` here to be able to override the default hidden behavior on the sphinx rendered scikit-learn.org. See: https://github.com/scikit-learn/scikit-learn/issues/21755 */display: inline-block !important;position: relative;}#sk-container-id-8 div.sk-text-repr-fallback {display: none;}</style><div id=\"sk-container-id-8\" class=\"sk-top-container\"><div class=\"sk-text-repr-fallback\"><pre>GridSearchCV(estimator=Pipeline(steps=[(&#x27;CT&#x27;,\n",
       "                                        ColumnTransformer(transformers=[(&#x27;subpipe_num&#x27;,\n",
       "                                                                         Pipeline(steps=[(&#x27;ss&#x27;,\n",
       "                                                                                          StandardScaler())]),\n",
       "                                                                         [1, 7,\n",
       "                                                                          8]),\n",
       "                                                                        (&#x27;subpipe_cat&#x27;,\n",
       "                                                                         Pipeline(steps=[(&#x27;ohe&#x27;,\n",
       "                                                                                          OneHotEncoder(handle_unknown=&#x27;ignore&#x27;,\n",
       "                                                                                                        sparse=False))]),\n",
       "                                                                         [0, 2,\n",
       "                                                                          3, 4,\n",
       "                                                                          5, 6,\n",
       "                                                                          9])])),\n",
       "                                       (&#x27;SM&#x27;,\n",
       "                                        SMOTE(random_state=42,\n",
       "                                              sampling_strategy=&#x27;minority&#x27;)),\n",
       "                                       (&#x27;rfc&#x27;,\n",
       "                                        RandomForestClassifier(random_state=42))]),\n",
       "             param_grid={&#x27;rfc__max_depth&#x27;: [2, 4, 6, 8],\n",
       "                         &#x27;rfc__min_impurity_decrease&#x27;: [0.1, 0.3, 0.5],\n",
       "                         &#x27;rfc__min_samples_split&#x27;: [2, 4, 6],\n",
       "                         &#x27;rfc__n_estimators&#x27;: [10, 50, 100]},\n",
       "             scoring=&#x27;f1&#x27;, verbose=3)</pre><b>In a Jupyter environment, please rerun this cell to show the HTML representation or trust the notebook. <br />On GitHub, the HTML representation is unable to render, please try loading this page with nbviewer.org.</b></div><div class=\"sk-container\" hidden><div class=\"sk-item sk-dashed-wrapped\"><div class=\"sk-label-container\"><div class=\"sk-label sk-toggleable\"><input class=\"sk-toggleable__control sk-hidden--visually\" id=\"sk-estimator-id-27\" type=\"checkbox\" ><label for=\"sk-estimator-id-27\" class=\"sk-toggleable__label sk-toggleable__label-arrow\">GridSearchCV</label><div class=\"sk-toggleable__content\"><pre>GridSearchCV(estimator=Pipeline(steps=[(&#x27;CT&#x27;,\n",
       "                                        ColumnTransformer(transformers=[(&#x27;subpipe_num&#x27;,\n",
       "                                                                         Pipeline(steps=[(&#x27;ss&#x27;,\n",
       "                                                                                          StandardScaler())]),\n",
       "                                                                         [1, 7,\n",
       "                                                                          8]),\n",
       "                                                                        (&#x27;subpipe_cat&#x27;,\n",
       "                                                                         Pipeline(steps=[(&#x27;ohe&#x27;,\n",
       "                                                                                          OneHotEncoder(handle_unknown=&#x27;ignore&#x27;,\n",
       "                                                                                                        sparse=False))]),\n",
       "                                                                         [0, 2,\n",
       "                                                                          3, 4,\n",
       "                                                                          5, 6,\n",
       "                                                                          9])])),\n",
       "                                       (&#x27;SM&#x27;,\n",
       "                                        SMOTE(random_state=42,\n",
       "                                              sampling_strategy=&#x27;minority&#x27;)),\n",
       "                                       (&#x27;rfc&#x27;,\n",
       "                                        RandomForestClassifier(random_state=42))]),\n",
       "             param_grid={&#x27;rfc__max_depth&#x27;: [2, 4, 6, 8],\n",
       "                         &#x27;rfc__min_impurity_decrease&#x27;: [0.1, 0.3, 0.5],\n",
       "                         &#x27;rfc__min_samples_split&#x27;: [2, 4, 6],\n",
       "                         &#x27;rfc__n_estimators&#x27;: [10, 50, 100]},\n",
       "             scoring=&#x27;f1&#x27;, verbose=3)</pre></div></div></div><div class=\"sk-parallel\"><div class=\"sk-parallel-item\"><div class=\"sk-item\"><div class=\"sk-label-container\"><div class=\"sk-label sk-toggleable\"><input class=\"sk-toggleable__control sk-hidden--visually\" id=\"sk-estimator-id-28\" type=\"checkbox\" ><label for=\"sk-estimator-id-28\" class=\"sk-toggleable__label sk-toggleable__label-arrow\">estimator: Pipeline</label><div class=\"sk-toggleable__content\"><pre>Pipeline(steps=[(&#x27;CT&#x27;,\n",
       "                 ColumnTransformer(transformers=[(&#x27;subpipe_num&#x27;,\n",
       "                                                  Pipeline(steps=[(&#x27;ss&#x27;,\n",
       "                                                                   StandardScaler())]),\n",
       "                                                  [1, 7, 8]),\n",
       "                                                 (&#x27;subpipe_cat&#x27;,\n",
       "                                                  Pipeline(steps=[(&#x27;ohe&#x27;,\n",
       "                                                                   OneHotEncoder(handle_unknown=&#x27;ignore&#x27;,\n",
       "                                                                                 sparse=False))]),\n",
       "                                                  [0, 2, 3, 4, 5, 6, 9])])),\n",
       "                (&#x27;SM&#x27;, SMOTE(random_state=42, sampling_strategy=&#x27;minority&#x27;)),\n",
       "                (&#x27;rfc&#x27;, RandomForestClassifier(random_state=42))])</pre></div></div></div><div class=\"sk-serial\"><div class=\"sk-item\"><div class=\"sk-serial\"><div class=\"sk-item sk-dashed-wrapped\"><div class=\"sk-label-container\"><div class=\"sk-label sk-toggleable\"><input class=\"sk-toggleable__control sk-hidden--visually\" id=\"sk-estimator-id-29\" type=\"checkbox\" ><label for=\"sk-estimator-id-29\" class=\"sk-toggleable__label sk-toggleable__label-arrow\">CT: ColumnTransformer</label><div class=\"sk-toggleable__content\"><pre>ColumnTransformer(transformers=[(&#x27;subpipe_num&#x27;,\n",
       "                                 Pipeline(steps=[(&#x27;ss&#x27;, StandardScaler())]),\n",
       "                                 [1, 7, 8]),\n",
       "                                (&#x27;subpipe_cat&#x27;,\n",
       "                                 Pipeline(steps=[(&#x27;ohe&#x27;,\n",
       "                                                  OneHotEncoder(handle_unknown=&#x27;ignore&#x27;,\n",
       "                                                                sparse=False))]),\n",
       "                                 [0, 2, 3, 4, 5, 6, 9])])</pre></div></div></div><div class=\"sk-parallel\"><div class=\"sk-parallel-item\"><div class=\"sk-item\"><div class=\"sk-label-container\"><div class=\"sk-label sk-toggleable\"><input class=\"sk-toggleable__control sk-hidden--visually\" id=\"sk-estimator-id-30\" type=\"checkbox\" ><label for=\"sk-estimator-id-30\" class=\"sk-toggleable__label sk-toggleable__label-arrow\">subpipe_num</label><div class=\"sk-toggleable__content\"><pre>[1, 7, 8]</pre></div></div></div><div class=\"sk-serial\"><div class=\"sk-item\"><div class=\"sk-serial\"><div class=\"sk-item\"><div class=\"sk-estimator sk-toggleable\"><input class=\"sk-toggleable__control sk-hidden--visually\" id=\"sk-estimator-id-31\" type=\"checkbox\" ><label for=\"sk-estimator-id-31\" class=\"sk-toggleable__label sk-toggleable__label-arrow\">StandardScaler</label><div class=\"sk-toggleable__content\"><pre>StandardScaler()</pre></div></div></div></div></div></div></div></div><div class=\"sk-parallel-item\"><div class=\"sk-item\"><div class=\"sk-label-container\"><div class=\"sk-label sk-toggleable\"><input class=\"sk-toggleable__control sk-hidden--visually\" id=\"sk-estimator-id-32\" type=\"checkbox\" ><label for=\"sk-estimator-id-32\" class=\"sk-toggleable__label sk-toggleable__label-arrow\">subpipe_cat</label><div class=\"sk-toggleable__content\"><pre>[0, 2, 3, 4, 5, 6, 9]</pre></div></div></div><div class=\"sk-serial\"><div class=\"sk-item\"><div class=\"sk-serial\"><div class=\"sk-item\"><div class=\"sk-estimator sk-toggleable\"><input class=\"sk-toggleable__control sk-hidden--visually\" id=\"sk-estimator-id-33\" type=\"checkbox\" ><label for=\"sk-estimator-id-33\" class=\"sk-toggleable__label sk-toggleable__label-arrow\">OneHotEncoder</label><div class=\"sk-toggleable__content\"><pre>OneHotEncoder(handle_unknown=&#x27;ignore&#x27;, sparse=False)</pre></div></div></div></div></div></div></div></div></div></div><div class=\"sk-item\"><div class=\"sk-estimator sk-toggleable\"><input class=\"sk-toggleable__control sk-hidden--visually\" id=\"sk-estimator-id-34\" type=\"checkbox\" ><label for=\"sk-estimator-id-34\" class=\"sk-toggleable__label sk-toggleable__label-arrow\">SMOTE</label><div class=\"sk-toggleable__content\"><pre>SMOTE(random_state=42, sampling_strategy=&#x27;minority&#x27;)</pre></div></div></div><div class=\"sk-item\"><div class=\"sk-estimator sk-toggleable\"><input class=\"sk-toggleable__control sk-hidden--visually\" id=\"sk-estimator-id-35\" type=\"checkbox\" ><label for=\"sk-estimator-id-35\" class=\"sk-toggleable__label sk-toggleable__label-arrow\">RandomForestClassifier</label><div class=\"sk-toggleable__content\"><pre>RandomForestClassifier(random_state=42)</pre></div></div></div></div></div></div></div></div></div></div></div></div>"
      ],
      "text/plain": [
       "GridSearchCV(estimator=Pipeline(steps=[('CT',\n",
       "                                        ColumnTransformer(transformers=[('subpipe_num',\n",
       "                                                                         Pipeline(steps=[('ss',\n",
       "                                                                                          StandardScaler())]),\n",
       "                                                                         [1, 7,\n",
       "                                                                          8]),\n",
       "                                                                        ('subpipe_cat',\n",
       "                                                                         Pipeline(steps=[('ohe',\n",
       "                                                                                          OneHotEncoder(handle_unknown='ignore',\n",
       "                                                                                                        sparse=False))]),\n",
       "                                                                         [0, 2,\n",
       "                                                                          3, 4,\n",
       "                                                                          5, 6,\n",
       "                                                                          9])])),\n",
       "                                       ('SM',\n",
       "                                        SMOTE(random_state=42,\n",
       "                                              sampling_strategy='minority')),\n",
       "                                       ('rfc',\n",
       "                                        RandomForestClassifier(random_state=42))]),\n",
       "             param_grid={'rfc__max_depth': [2, 4, 6, 8],\n",
       "                         'rfc__min_impurity_decrease': [0.1, 0.3, 0.5],\n",
       "                         'rfc__min_samples_split': [2, 4, 6],\n",
       "                         'rfc__n_estimators': [10, 50, 100]},\n",
       "             scoring='f1', verbose=3)"
      ]
     },
     "execution_count": 48,
     "metadata": {},
     "output_type": "execute_result"
    }
   ],
   "source": [
    "rfc_smote_grid.fit(X_train_fin, y_train_fin)"
   ]
  },
  {
   "cell_type": "code",
   "execution_count": 49,
   "id": "b3f95f9b",
   "metadata": {},
   "outputs": [
    {
     "data": {
      "text/html": [
       "<div>\n",
       "<style scoped>\n",
       "    .dataframe tbody tr th:only-of-type {\n",
       "        vertical-align: middle;\n",
       "    }\n",
       "\n",
       "    .dataframe tbody tr th {\n",
       "        vertical-align: top;\n",
       "    }\n",
       "\n",
       "    .dataframe thead th {\n",
       "        text-align: right;\n",
       "    }\n",
       "</style>\n",
       "<table border=\"1\" class=\"dataframe\">\n",
       "  <thead>\n",
       "    <tr style=\"text-align: right;\">\n",
       "      <th></th>\n",
       "      <th>mean_fit_time</th>\n",
       "      <th>std_fit_time</th>\n",
       "      <th>mean_score_time</th>\n",
       "      <th>std_score_time</th>\n",
       "      <th>param_rfc__max_depth</th>\n",
       "      <th>param_rfc__min_impurity_decrease</th>\n",
       "      <th>param_rfc__min_samples_split</th>\n",
       "      <th>param_rfc__n_estimators</th>\n",
       "      <th>params</th>\n",
       "      <th>split0_test_score</th>\n",
       "      <th>split1_test_score</th>\n",
       "      <th>split2_test_score</th>\n",
       "      <th>split3_test_score</th>\n",
       "      <th>split4_test_score</th>\n",
       "      <th>mean_test_score</th>\n",
       "      <th>std_test_score</th>\n",
       "      <th>rank_test_score</th>\n",
       "    </tr>\n",
       "  </thead>\n",
       "  <tbody>\n",
       "    <tr>\n",
       "      <th>0</th>\n",
       "      <td>0.038711</td>\n",
       "      <td>0.014828</td>\n",
       "      <td>0.002955</td>\n",
       "      <td>0.000194</td>\n",
       "      <td>2</td>\n",
       "      <td>0.1</td>\n",
       "      <td>2</td>\n",
       "      <td>10</td>\n",
       "      <td>{'rfc__max_depth': 2, 'rfc__min_impurity_decre...</td>\n",
       "      <td>0.098361</td>\n",
       "      <td>0.098361</td>\n",
       "      <td>0.098507</td>\n",
       "      <td>0.098507</td>\n",
       "      <td>0.098507</td>\n",
       "      <td>0.098449</td>\n",
       "      <td>0.000072</td>\n",
       "      <td>1</td>\n",
       "    </tr>\n",
       "    <tr>\n",
       "      <th>1</th>\n",
       "      <td>0.071260</td>\n",
       "      <td>0.002297</td>\n",
       "      <td>0.005061</td>\n",
       "      <td>0.000079</td>\n",
       "      <td>2</td>\n",
       "      <td>0.1</td>\n",
       "      <td>2</td>\n",
       "      <td>50</td>\n",
       "      <td>{'rfc__max_depth': 2, 'rfc__min_impurity_decre...</td>\n",
       "      <td>0.000000</td>\n",
       "      <td>0.000000</td>\n",
       "      <td>0.000000</td>\n",
       "      <td>0.000000</td>\n",
       "      <td>0.000000</td>\n",
       "      <td>0.000000</td>\n",
       "      <td>0.000000</td>\n",
       "      <td>37</td>\n",
       "    </tr>\n",
       "    <tr>\n",
       "      <th>2</th>\n",
       "      <td>0.125159</td>\n",
       "      <td>0.002396</td>\n",
       "      <td>0.007704</td>\n",
       "      <td>0.000119</td>\n",
       "      <td>2</td>\n",
       "      <td>0.1</td>\n",
       "      <td>2</td>\n",
       "      <td>100</td>\n",
       "      <td>{'rfc__max_depth': 2, 'rfc__min_impurity_decre...</td>\n",
       "      <td>0.000000</td>\n",
       "      <td>0.000000</td>\n",
       "      <td>0.000000</td>\n",
       "      <td>0.000000</td>\n",
       "      <td>0.000000</td>\n",
       "      <td>0.000000</td>\n",
       "      <td>0.000000</td>\n",
       "      <td>37</td>\n",
       "    </tr>\n",
       "    <tr>\n",
       "      <th>3</th>\n",
       "      <td>0.025496</td>\n",
       "      <td>0.000987</td>\n",
       "      <td>0.002838</td>\n",
       "      <td>0.000026</td>\n",
       "      <td>2</td>\n",
       "      <td>0.1</td>\n",
       "      <td>4</td>\n",
       "      <td>10</td>\n",
       "      <td>{'rfc__max_depth': 2, 'rfc__min_impurity_decre...</td>\n",
       "      <td>0.098361</td>\n",
       "      <td>0.098361</td>\n",
       "      <td>0.098507</td>\n",
       "      <td>0.098507</td>\n",
       "      <td>0.098507</td>\n",
       "      <td>0.098449</td>\n",
       "      <td>0.000072</td>\n",
       "      <td>1</td>\n",
       "    </tr>\n",
       "    <tr>\n",
       "      <th>4</th>\n",
       "      <td>0.070307</td>\n",
       "      <td>0.001335</td>\n",
       "      <td>0.005161</td>\n",
       "      <td>0.000106</td>\n",
       "      <td>2</td>\n",
       "      <td>0.1</td>\n",
       "      <td>4</td>\n",
       "      <td>50</td>\n",
       "      <td>{'rfc__max_depth': 2, 'rfc__min_impurity_decre...</td>\n",
       "      <td>0.000000</td>\n",
       "      <td>0.000000</td>\n",
       "      <td>0.000000</td>\n",
       "      <td>0.000000</td>\n",
       "      <td>0.000000</td>\n",
       "      <td>0.000000</td>\n",
       "      <td>0.000000</td>\n",
       "      <td>37</td>\n",
       "    </tr>\n",
       "    <tr>\n",
       "      <th>...</th>\n",
       "      <td>...</td>\n",
       "      <td>...</td>\n",
       "      <td>...</td>\n",
       "      <td>...</td>\n",
       "      <td>...</td>\n",
       "      <td>...</td>\n",
       "      <td>...</td>\n",
       "      <td>...</td>\n",
       "      <td>...</td>\n",
       "      <td>...</td>\n",
       "      <td>...</td>\n",
       "      <td>...</td>\n",
       "      <td>...</td>\n",
       "      <td>...</td>\n",
       "      <td>...</td>\n",
       "      <td>...</td>\n",
       "      <td>...</td>\n",
       "    </tr>\n",
       "    <tr>\n",
       "      <th>103</th>\n",
       "      <td>0.069187</td>\n",
       "      <td>0.001056</td>\n",
       "      <td>0.005075</td>\n",
       "      <td>0.000107</td>\n",
       "      <td>8</td>\n",
       "      <td>0.5</td>\n",
       "      <td>4</td>\n",
       "      <td>50</td>\n",
       "      <td>{'rfc__max_depth': 8, 'rfc__min_impurity_decre...</td>\n",
       "      <td>0.000000</td>\n",
       "      <td>0.000000</td>\n",
       "      <td>0.000000</td>\n",
       "      <td>0.000000</td>\n",
       "      <td>0.000000</td>\n",
       "      <td>0.000000</td>\n",
       "      <td>0.000000</td>\n",
       "      <td>37</td>\n",
       "    </tr>\n",
       "    <tr>\n",
       "      <th>104</th>\n",
       "      <td>0.124670</td>\n",
       "      <td>0.001199</td>\n",
       "      <td>0.007988</td>\n",
       "      <td>0.000222</td>\n",
       "      <td>8</td>\n",
       "      <td>0.5</td>\n",
       "      <td>4</td>\n",
       "      <td>100</td>\n",
       "      <td>{'rfc__max_depth': 8, 'rfc__min_impurity_decre...</td>\n",
       "      <td>0.000000</td>\n",
       "      <td>0.000000</td>\n",
       "      <td>0.000000</td>\n",
       "      <td>0.000000</td>\n",
       "      <td>0.000000</td>\n",
       "      <td>0.000000</td>\n",
       "      <td>0.000000</td>\n",
       "      <td>37</td>\n",
       "    </tr>\n",
       "    <tr>\n",
       "      <th>105</th>\n",
       "      <td>0.024784</td>\n",
       "      <td>0.000156</td>\n",
       "      <td>0.002812</td>\n",
       "      <td>0.000047</td>\n",
       "      <td>8</td>\n",
       "      <td>0.5</td>\n",
       "      <td>6</td>\n",
       "      <td>10</td>\n",
       "      <td>{'rfc__max_depth': 8, 'rfc__min_impurity_decre...</td>\n",
       "      <td>0.098361</td>\n",
       "      <td>0.098361</td>\n",
       "      <td>0.098507</td>\n",
       "      <td>0.098507</td>\n",
       "      <td>0.098507</td>\n",
       "      <td>0.098449</td>\n",
       "      <td>0.000072</td>\n",
       "      <td>1</td>\n",
       "    </tr>\n",
       "    <tr>\n",
       "      <th>106</th>\n",
       "      <td>0.069194</td>\n",
       "      <td>0.000979</td>\n",
       "      <td>0.005085</td>\n",
       "      <td>0.000052</td>\n",
       "      <td>8</td>\n",
       "      <td>0.5</td>\n",
       "      <td>6</td>\n",
       "      <td>50</td>\n",
       "      <td>{'rfc__max_depth': 8, 'rfc__min_impurity_decre...</td>\n",
       "      <td>0.000000</td>\n",
       "      <td>0.000000</td>\n",
       "      <td>0.000000</td>\n",
       "      <td>0.000000</td>\n",
       "      <td>0.000000</td>\n",
       "      <td>0.000000</td>\n",
       "      <td>0.000000</td>\n",
       "      <td>37</td>\n",
       "    </tr>\n",
       "    <tr>\n",
       "      <th>107</th>\n",
       "      <td>0.124509</td>\n",
       "      <td>0.001931</td>\n",
       "      <td>0.007964</td>\n",
       "      <td>0.000222</td>\n",
       "      <td>8</td>\n",
       "      <td>0.5</td>\n",
       "      <td>6</td>\n",
       "      <td>100</td>\n",
       "      <td>{'rfc__max_depth': 8, 'rfc__min_impurity_decre...</td>\n",
       "      <td>0.000000</td>\n",
       "      <td>0.000000</td>\n",
       "      <td>0.000000</td>\n",
       "      <td>0.000000</td>\n",
       "      <td>0.000000</td>\n",
       "      <td>0.000000</td>\n",
       "      <td>0.000000</td>\n",
       "      <td>37</td>\n",
       "    </tr>\n",
       "  </tbody>\n",
       "</table>\n",
       "<p>108 rows × 17 columns</p>\n",
       "</div>"
      ],
      "text/plain": [
       "     mean_fit_time  std_fit_time  mean_score_time  std_score_time  \\\n",
       "0         0.038711      0.014828         0.002955        0.000194   \n",
       "1         0.071260      0.002297         0.005061        0.000079   \n",
       "2         0.125159      0.002396         0.007704        0.000119   \n",
       "3         0.025496      0.000987         0.002838        0.000026   \n",
       "4         0.070307      0.001335         0.005161        0.000106   \n",
       "..             ...           ...              ...             ...   \n",
       "103       0.069187      0.001056         0.005075        0.000107   \n",
       "104       0.124670      0.001199         0.007988        0.000222   \n",
       "105       0.024784      0.000156         0.002812        0.000047   \n",
       "106       0.069194      0.000979         0.005085        0.000052   \n",
       "107       0.124509      0.001931         0.007964        0.000222   \n",
       "\n",
       "    param_rfc__max_depth param_rfc__min_impurity_decrease  \\\n",
       "0                      2                              0.1   \n",
       "1                      2                              0.1   \n",
       "2                      2                              0.1   \n",
       "3                      2                              0.1   \n",
       "4                      2                              0.1   \n",
       "..                   ...                              ...   \n",
       "103                    8                              0.5   \n",
       "104                    8                              0.5   \n",
       "105                    8                              0.5   \n",
       "106                    8                              0.5   \n",
       "107                    8                              0.5   \n",
       "\n",
       "    param_rfc__min_samples_split param_rfc__n_estimators  \\\n",
       "0                              2                      10   \n",
       "1                              2                      50   \n",
       "2                              2                     100   \n",
       "3                              4                      10   \n",
       "4                              4                      50   \n",
       "..                           ...                     ...   \n",
       "103                            4                      50   \n",
       "104                            4                     100   \n",
       "105                            6                      10   \n",
       "106                            6                      50   \n",
       "107                            6                     100   \n",
       "\n",
       "                                                params  split0_test_score  \\\n",
       "0    {'rfc__max_depth': 2, 'rfc__min_impurity_decre...           0.098361   \n",
       "1    {'rfc__max_depth': 2, 'rfc__min_impurity_decre...           0.000000   \n",
       "2    {'rfc__max_depth': 2, 'rfc__min_impurity_decre...           0.000000   \n",
       "3    {'rfc__max_depth': 2, 'rfc__min_impurity_decre...           0.098361   \n",
       "4    {'rfc__max_depth': 2, 'rfc__min_impurity_decre...           0.000000   \n",
       "..                                                 ...                ...   \n",
       "103  {'rfc__max_depth': 8, 'rfc__min_impurity_decre...           0.000000   \n",
       "104  {'rfc__max_depth': 8, 'rfc__min_impurity_decre...           0.000000   \n",
       "105  {'rfc__max_depth': 8, 'rfc__min_impurity_decre...           0.098361   \n",
       "106  {'rfc__max_depth': 8, 'rfc__min_impurity_decre...           0.000000   \n",
       "107  {'rfc__max_depth': 8, 'rfc__min_impurity_decre...           0.000000   \n",
       "\n",
       "     split1_test_score  split2_test_score  split3_test_score  \\\n",
       "0             0.098361           0.098507           0.098507   \n",
       "1             0.000000           0.000000           0.000000   \n",
       "2             0.000000           0.000000           0.000000   \n",
       "3             0.098361           0.098507           0.098507   \n",
       "4             0.000000           0.000000           0.000000   \n",
       "..                 ...                ...                ...   \n",
       "103           0.000000           0.000000           0.000000   \n",
       "104           0.000000           0.000000           0.000000   \n",
       "105           0.098361           0.098507           0.098507   \n",
       "106           0.000000           0.000000           0.000000   \n",
       "107           0.000000           0.000000           0.000000   \n",
       "\n",
       "     split4_test_score  mean_test_score  std_test_score  rank_test_score  \n",
       "0             0.098507         0.098449        0.000072                1  \n",
       "1             0.000000         0.000000        0.000000               37  \n",
       "2             0.000000         0.000000        0.000000               37  \n",
       "3             0.098507         0.098449        0.000072                1  \n",
       "4             0.000000         0.000000        0.000000               37  \n",
       "..                 ...              ...             ...              ...  \n",
       "103           0.000000         0.000000        0.000000               37  \n",
       "104           0.000000         0.000000        0.000000               37  \n",
       "105           0.098507         0.098449        0.000072                1  \n",
       "106           0.000000         0.000000        0.000000               37  \n",
       "107           0.000000         0.000000        0.000000               37  \n",
       "\n",
       "[108 rows x 17 columns]"
      ]
     },
     "execution_count": 49,
     "metadata": {},
     "output_type": "execute_result"
    }
   ],
   "source": [
    "pd.DataFrame(rfc_smote_grid.cv_results_)"
   ]
  },
  {
   "cell_type": "code",
   "execution_count": 50,
   "id": "de411d0e",
   "metadata": {},
   "outputs": [
    {
     "data": {
      "text/plain": [
       "{'rfc__max_depth': 2,\n",
       " 'rfc__min_impurity_decrease': 0.1,\n",
       " 'rfc__min_samples_split': 2,\n",
       " 'rfc__n_estimators': 10}"
      ]
     },
     "execution_count": 50,
     "metadata": {},
     "output_type": "execute_result"
    }
   ],
   "source": [
    "rfc_smote_grid.best_params_"
   ]
  },
  {
   "cell_type": "code",
   "execution_count": 51,
   "id": "9d467404",
   "metadata": {},
   "outputs": [],
   "source": [
    "best_rfc_smote = ImPipeline(steps=[('CT', CT),\n",
    "                                   ('SM', subpipe_smote),\n",
    "                                   ('rfc', RandomForestClassifier(random_state=42,\n",
    "                                                                  max_depth=2, \n",
    "                                                                  min_impurity_decrease=0.1,\n",
    "                                                                  min_samples_split=2,\n",
    "                                                                  n_estimators=10))])"
   ]
  },
  {
   "cell_type": "code",
   "execution_count": 52,
   "id": "c56c39ab",
   "metadata": {},
   "outputs": [
    {
     "data": {
      "text/html": [
       "<style>#sk-container-id-9 {color: black;background-color: white;}#sk-container-id-9 pre{padding: 0;}#sk-container-id-9 div.sk-toggleable {background-color: white;}#sk-container-id-9 label.sk-toggleable__label {cursor: pointer;display: block;width: 100%;margin-bottom: 0;padding: 0.3em;box-sizing: border-box;text-align: center;}#sk-container-id-9 label.sk-toggleable__label-arrow:before {content: \"▸\";float: left;margin-right: 0.25em;color: #696969;}#sk-container-id-9 label.sk-toggleable__label-arrow:hover:before {color: black;}#sk-container-id-9 div.sk-estimator:hover label.sk-toggleable__label-arrow:before {color: black;}#sk-container-id-9 div.sk-toggleable__content {max-height: 0;max-width: 0;overflow: hidden;text-align: left;background-color: #f0f8ff;}#sk-container-id-9 div.sk-toggleable__content pre {margin: 0.2em;color: black;border-radius: 0.25em;background-color: #f0f8ff;}#sk-container-id-9 input.sk-toggleable__control:checked~div.sk-toggleable__content {max-height: 200px;max-width: 100%;overflow: auto;}#sk-container-id-9 input.sk-toggleable__control:checked~label.sk-toggleable__label-arrow:before {content: \"▾\";}#sk-container-id-9 div.sk-estimator input.sk-toggleable__control:checked~label.sk-toggleable__label {background-color: #d4ebff;}#sk-container-id-9 div.sk-label input.sk-toggleable__control:checked~label.sk-toggleable__label {background-color: #d4ebff;}#sk-container-id-9 input.sk-hidden--visually {border: 0;clip: rect(1px 1px 1px 1px);clip: rect(1px, 1px, 1px, 1px);height: 1px;margin: -1px;overflow: hidden;padding: 0;position: absolute;width: 1px;}#sk-container-id-9 div.sk-estimator {font-family: monospace;background-color: #f0f8ff;border: 1px dotted black;border-radius: 0.25em;box-sizing: border-box;margin-bottom: 0.5em;}#sk-container-id-9 div.sk-estimator:hover {background-color: #d4ebff;}#sk-container-id-9 div.sk-parallel-item::after {content: \"\";width: 100%;border-bottom: 1px solid gray;flex-grow: 1;}#sk-container-id-9 div.sk-label:hover label.sk-toggleable__label {background-color: #d4ebff;}#sk-container-id-9 div.sk-serial::before {content: \"\";position: absolute;border-left: 1px solid gray;box-sizing: border-box;top: 0;bottom: 0;left: 50%;z-index: 0;}#sk-container-id-9 div.sk-serial {display: flex;flex-direction: column;align-items: center;background-color: white;padding-right: 0.2em;padding-left: 0.2em;position: relative;}#sk-container-id-9 div.sk-item {position: relative;z-index: 1;}#sk-container-id-9 div.sk-parallel {display: flex;align-items: stretch;justify-content: center;background-color: white;position: relative;}#sk-container-id-9 div.sk-item::before, #sk-container-id-9 div.sk-parallel-item::before {content: \"\";position: absolute;border-left: 1px solid gray;box-sizing: border-box;top: 0;bottom: 0;left: 50%;z-index: -1;}#sk-container-id-9 div.sk-parallel-item {display: flex;flex-direction: column;z-index: 1;position: relative;background-color: white;}#sk-container-id-9 div.sk-parallel-item:first-child::after {align-self: flex-end;width: 50%;}#sk-container-id-9 div.sk-parallel-item:last-child::after {align-self: flex-start;width: 50%;}#sk-container-id-9 div.sk-parallel-item:only-child::after {width: 0;}#sk-container-id-9 div.sk-dashed-wrapped {border: 1px dashed gray;margin: 0 0.4em 0.5em 0.4em;box-sizing: border-box;padding-bottom: 0.4em;background-color: white;}#sk-container-id-9 div.sk-label label {font-family: monospace;font-weight: bold;display: inline-block;line-height: 1.2em;}#sk-container-id-9 div.sk-label-container {text-align: center;}#sk-container-id-9 div.sk-container {/* jupyter's `normalize.less` sets `[hidden] { display: none; }` but bootstrap.min.css set `[hidden] { display: none !important; }` so we also need the `!important` here to be able to override the default hidden behavior on the sphinx rendered scikit-learn.org. See: https://github.com/scikit-learn/scikit-learn/issues/21755 */display: inline-block !important;position: relative;}#sk-container-id-9 div.sk-text-repr-fallback {display: none;}</style><div id=\"sk-container-id-9\" class=\"sk-top-container\"><div class=\"sk-text-repr-fallback\"><pre>Pipeline(steps=[(&#x27;CT&#x27;,\n",
       "                 ColumnTransformer(transformers=[(&#x27;subpipe_num&#x27;,\n",
       "                                                  Pipeline(steps=[(&#x27;ss&#x27;,\n",
       "                                                                   StandardScaler())]),\n",
       "                                                  [1, 7, 8]),\n",
       "                                                 (&#x27;subpipe_cat&#x27;,\n",
       "                                                  Pipeline(steps=[(&#x27;ohe&#x27;,\n",
       "                                                                   OneHotEncoder(handle_unknown=&#x27;ignore&#x27;,\n",
       "                                                                                 sparse=False))]),\n",
       "                                                  [0, 2, 3, 4, 5, 6, 9])])),\n",
       "                (&#x27;SM&#x27;, SMOTE(random_state=42, sampling_strategy=&#x27;minority&#x27;)),\n",
       "                (&#x27;rfc&#x27;,\n",
       "                 RandomForestClassifier(max_depth=2, min_impurity_decrease=0.1,\n",
       "                                        n_estimators=10, random_state=42))])</pre><b>In a Jupyter environment, please rerun this cell to show the HTML representation or trust the notebook. <br />On GitHub, the HTML representation is unable to render, please try loading this page with nbviewer.org.</b></div><div class=\"sk-container\" hidden><div class=\"sk-item sk-dashed-wrapped\"><div class=\"sk-label-container\"><div class=\"sk-label sk-toggleable\"><input class=\"sk-toggleable__control sk-hidden--visually\" id=\"sk-estimator-id-36\" type=\"checkbox\" ><label for=\"sk-estimator-id-36\" class=\"sk-toggleable__label sk-toggleable__label-arrow\">Pipeline</label><div class=\"sk-toggleable__content\"><pre>Pipeline(steps=[(&#x27;CT&#x27;,\n",
       "                 ColumnTransformer(transformers=[(&#x27;subpipe_num&#x27;,\n",
       "                                                  Pipeline(steps=[(&#x27;ss&#x27;,\n",
       "                                                                   StandardScaler())]),\n",
       "                                                  [1, 7, 8]),\n",
       "                                                 (&#x27;subpipe_cat&#x27;,\n",
       "                                                  Pipeline(steps=[(&#x27;ohe&#x27;,\n",
       "                                                                   OneHotEncoder(handle_unknown=&#x27;ignore&#x27;,\n",
       "                                                                                 sparse=False))]),\n",
       "                                                  [0, 2, 3, 4, 5, 6, 9])])),\n",
       "                (&#x27;SM&#x27;, SMOTE(random_state=42, sampling_strategy=&#x27;minority&#x27;)),\n",
       "                (&#x27;rfc&#x27;,\n",
       "                 RandomForestClassifier(max_depth=2, min_impurity_decrease=0.1,\n",
       "                                        n_estimators=10, random_state=42))])</pre></div></div></div><div class=\"sk-serial\"><div class=\"sk-item sk-dashed-wrapped\"><div class=\"sk-label-container\"><div class=\"sk-label sk-toggleable\"><input class=\"sk-toggleable__control sk-hidden--visually\" id=\"sk-estimator-id-37\" type=\"checkbox\" ><label for=\"sk-estimator-id-37\" class=\"sk-toggleable__label sk-toggleable__label-arrow\">CT: ColumnTransformer</label><div class=\"sk-toggleable__content\"><pre>ColumnTransformer(transformers=[(&#x27;subpipe_num&#x27;,\n",
       "                                 Pipeline(steps=[(&#x27;ss&#x27;, StandardScaler())]),\n",
       "                                 [1, 7, 8]),\n",
       "                                (&#x27;subpipe_cat&#x27;,\n",
       "                                 Pipeline(steps=[(&#x27;ohe&#x27;,\n",
       "                                                  OneHotEncoder(handle_unknown=&#x27;ignore&#x27;,\n",
       "                                                                sparse=False))]),\n",
       "                                 [0, 2, 3, 4, 5, 6, 9])])</pre></div></div></div><div class=\"sk-parallel\"><div class=\"sk-parallel-item\"><div class=\"sk-item\"><div class=\"sk-label-container\"><div class=\"sk-label sk-toggleable\"><input class=\"sk-toggleable__control sk-hidden--visually\" id=\"sk-estimator-id-38\" type=\"checkbox\" ><label for=\"sk-estimator-id-38\" class=\"sk-toggleable__label sk-toggleable__label-arrow\">subpipe_num</label><div class=\"sk-toggleable__content\"><pre>[1, 7, 8]</pre></div></div></div><div class=\"sk-serial\"><div class=\"sk-item\"><div class=\"sk-serial\"><div class=\"sk-item\"><div class=\"sk-estimator sk-toggleable\"><input class=\"sk-toggleable__control sk-hidden--visually\" id=\"sk-estimator-id-39\" type=\"checkbox\" ><label for=\"sk-estimator-id-39\" class=\"sk-toggleable__label sk-toggleable__label-arrow\">StandardScaler</label><div class=\"sk-toggleable__content\"><pre>StandardScaler()</pre></div></div></div></div></div></div></div></div><div class=\"sk-parallel-item\"><div class=\"sk-item\"><div class=\"sk-label-container\"><div class=\"sk-label sk-toggleable\"><input class=\"sk-toggleable__control sk-hidden--visually\" id=\"sk-estimator-id-40\" type=\"checkbox\" ><label for=\"sk-estimator-id-40\" class=\"sk-toggleable__label sk-toggleable__label-arrow\">subpipe_cat</label><div class=\"sk-toggleable__content\"><pre>[0, 2, 3, 4, 5, 6, 9]</pre></div></div></div><div class=\"sk-serial\"><div class=\"sk-item\"><div class=\"sk-serial\"><div class=\"sk-item\"><div class=\"sk-estimator sk-toggleable\"><input class=\"sk-toggleable__control sk-hidden--visually\" id=\"sk-estimator-id-41\" type=\"checkbox\" ><label for=\"sk-estimator-id-41\" class=\"sk-toggleable__label sk-toggleable__label-arrow\">OneHotEncoder</label><div class=\"sk-toggleable__content\"><pre>OneHotEncoder(handle_unknown=&#x27;ignore&#x27;, sparse=False)</pre></div></div></div></div></div></div></div></div></div></div><div class=\"sk-item\"><div class=\"sk-estimator sk-toggleable\"><input class=\"sk-toggleable__control sk-hidden--visually\" id=\"sk-estimator-id-42\" type=\"checkbox\" ><label for=\"sk-estimator-id-42\" class=\"sk-toggleable__label sk-toggleable__label-arrow\">SMOTE</label><div class=\"sk-toggleable__content\"><pre>SMOTE(random_state=42, sampling_strategy=&#x27;minority&#x27;)</pre></div></div></div><div class=\"sk-item\"><div class=\"sk-estimator sk-toggleable\"><input class=\"sk-toggleable__control sk-hidden--visually\" id=\"sk-estimator-id-43\" type=\"checkbox\" ><label for=\"sk-estimator-id-43\" class=\"sk-toggleable__label sk-toggleable__label-arrow\">RandomForestClassifier</label><div class=\"sk-toggleable__content\"><pre>RandomForestClassifier(max_depth=2, min_impurity_decrease=0.1, n_estimators=10,\n",
       "                       random_state=42)</pre></div></div></div></div></div></div></div>"
      ],
      "text/plain": [
       "Pipeline(steps=[('CT',\n",
       "                 ColumnTransformer(transformers=[('subpipe_num',\n",
       "                                                  Pipeline(steps=[('ss',\n",
       "                                                                   StandardScaler())]),\n",
       "                                                  [1, 7, 8]),\n",
       "                                                 ('subpipe_cat',\n",
       "                                                  Pipeline(steps=[('ohe',\n",
       "                                                                   OneHotEncoder(handle_unknown='ignore',\n",
       "                                                                                 sparse=False))]),\n",
       "                                                  [0, 2, 3, 4, 5, 6, 9])])),\n",
       "                ('SM', SMOTE(random_state=42, sampling_strategy='minority')),\n",
       "                ('rfc',\n",
       "                 RandomForestClassifier(max_depth=2, min_impurity_decrease=0.1,\n",
       "                                        n_estimators=10, random_state=42))])"
      ]
     },
     "execution_count": 52,
     "metadata": {},
     "output_type": "execute_result"
    }
   ],
   "source": [
    "best_rfc_smote.fit(X_train_fin, y_train_fin)"
   ]
  },
  {
   "cell_type": "code",
   "execution_count": 53,
   "id": "d85c591c",
   "metadata": {},
   "outputs": [
    {
     "data": {
      "text/plain": [
       "0.948227172889865"
      ]
     },
     "execution_count": 53,
     "metadata": {},
     "output_type": "execute_result"
    }
   ],
   "source": [
    "best_rfc_smote.score(X_train_fin, y_train_fin)"
   ]
  },
  {
   "cell_type": "code",
   "execution_count": 54,
   "id": "b322216b",
   "metadata": {},
   "outputs": [
    {
     "data": {
      "text/plain": [
       "0.9560853199498118"
      ]
     },
     "execution_count": 54,
     "metadata": {},
     "output_type": "execute_result"
    }
   ],
   "source": [
    "best_rfc_smote.score(X_val, y_val)"
   ]
  },
  {
   "cell_type": "code",
   "execution_count": 55,
   "id": "3212715c",
   "metadata": {},
   "outputs": [
    {
     "data": {
      "text/plain": [
       "0.0"
      ]
     },
     "execution_count": 55,
     "metadata": {},
     "output_type": "execute_result"
    }
   ],
   "source": [
    "rfc_val_f1 = f1_score(y_val, best_rfc_smote.predict(X_val))\n",
    "rfc_val_f1"
   ]
  },
  {
   "cell_type": "code",
   "execution_count": 59,
   "id": "03872054",
   "metadata": {},
   "outputs": [
    {
     "name": "stderr",
     "output_type": "stream",
     "text": [
      "/Users/zachpollatsek/opt/anaconda3/lib/python3.9/site-packages/sklearn/utils/deprecation.py:87: FutureWarning: Function plot_confusion_matrix is deprecated; Function `plot_confusion_matrix` is deprecated in 1.0 and will be removed in 1.2. Use one of the class methods: ConfusionMatrixDisplay.from_predictions or ConfusionMatrixDisplay.from_estimator.\n",
      "  warnings.warn(msg, category=FutureWarning)\n"
     ]
    },
    {
     "data": {
      "text/plain": [
       "<sklearn.metrics._plot.confusion_matrix.ConfusionMatrixDisplay at 0x7f9d288861f0>"
      ]
     },
     "execution_count": 59,
     "metadata": {},
     "output_type": "execute_result"
    },
    {
     "data": {
      "image/png": "[encoded data removed]",
      "text/plain": [
       "<Figure size 432x288 with 2 Axes>"
      ]
     },
     "metadata": {
      "needs_background": "light"
     },
     "output_type": "display_data"
    }
   ],
   "source": [
    "plot_confusion_matrix(best_rfc_smote, X_val, y_val)"
   ]
  },
  {
   "cell_type": "markdown",
   "id": "1485c527",
   "metadata": {},
   "source": [
    "## XGBoost Models"
   ]
  },
  {
   "cell_type": "code",
   "execution_count": 18,
   "id": "9e121800",
   "metadata": {},
   "outputs": [],
   "source": [
    "xgb_smote_pipe = ImPipeline(steps=[('CT', CT),\n",
    "                                   ('SM', subpipe_smote),\n",
    "                                   ('xgb', XGBClassifier(random_state=42))])"
   ]
  },
  {
   "cell_type": "code",
   "execution_count": 19,
   "id": "92693183",
   "metadata": {},
   "outputs": [],
   "source": [
    "params = {'xgb__max_depth': [2, 4, 6, 8],\n",
    "          'xgb__learning_rate': [0.05, 0.1, 0.3]}"
   ]
  },
  {
   "cell_type": "code",
   "execution_count": 20,
   "id": "51784c3f",
   "metadata": {},
   "outputs": [],
   "source": [
    "xgb_smote_grid = GridSearchCV(xgb_smote_pipe, param_grid=params, scoring='f1', verbose=3)"
   ]
  },
  {
   "cell_type": "code",
   "execution_count": 26,
   "id": "6292d6fd",
   "metadata": {},
   "outputs": [
    {
     "name": "stdout",
     "output_type": "stream",
     "text": [
      "Fitting 5 folds for each of 12 candidates, totalling 60 fits\n",
      "[15:45:24] WARNING: /var/folders/sy/f16zz6x50xz3113nwtb9bvq00000gp/T/abs_44tbtwf8c1/croots/recipe/xgboost-split_1659548960882/work/src/learner.cc:1115: Starting in XGBoost 1.3.0, the default evaluation metric used with the objective 'binary:logistic' was changed from 'error' to 'logloss'. Explicitly set eval_metric if you'd like to restore the old behavior.\n"
     ]
    },
    {
     "name": "stderr",
     "output_type": "stream",
     "text": [
      "/Users/zachpollatsek/opt/anaconda3/envs/capstone/lib/python3.10/site-packages/xgboost/sklearn.py:1224: UserWarning: The use of label encoder in XGBClassifier is deprecated and will be removed in a future release. To remove this warning, do the following: 1) Pass option use_label_encoder=False when constructing XGBClassifier object; and 2) Encode your labels (y) as integers starting with 0, i.e. 0, 1, 2, ..., [num_class - 1].\n",
      "  warnings.warn(label_encoder_deprecation_msg, UserWarning)\n"
     ]
    },
    {
     "name": "stdout",
     "output_type": "stream",
     "text": [
      "[CV 1/5] END xgb__learning_rate=0.05, xgb__max_depth=2;, score=0.199 total time=   0.3s\n",
      "[15:45:25] WARNING: /var/folders/sy/f16zz6x50xz3113nwtb9bvq00000gp/T/abs_44tbtwf8c1/croots/recipe/xgboost-split_1659548960882/work/src/learner.cc:1115: Starting in XGBoost 1.3.0, the default evaluation metric used with the objective 'binary:logistic' was changed from 'error' to 'logloss'. Explicitly set eval_metric if you'd like to restore the old behavior.\n"
     ]
    },
    {
     "name": "stderr",
     "output_type": "stream",
     "text": [
      "/Users/zachpollatsek/opt/anaconda3/envs/capstone/lib/python3.10/site-packages/xgboost/sklearn.py:1224: UserWarning: The use of label encoder in XGBClassifier is deprecated and will be removed in a future release. To remove this warning, do the following: 1) Pass option use_label_encoder=False when constructing XGBClassifier object; and 2) Encode your labels (y) as integers starting with 0, i.e. 0, 1, 2, ..., [num_class - 1].\n",
      "  warnings.warn(label_encoder_deprecation_msg, UserWarning)\n"
     ]
    },
    {
     "name": "stdout",
     "output_type": "stream",
     "text": [
      "[CV 2/5] END xgb__learning_rate=0.05, xgb__max_depth=2;, score=0.246 total time=   0.3s\n",
      "[15:45:25] WARNING: /var/folders/sy/f16zz6x50xz3113nwtb9bvq00000gp/T/abs_44tbtwf8c1/croots/recipe/xgboost-split_1659548960882/work/src/learner.cc:1115: Starting in XGBoost 1.3.0, the default evaluation metric used with the objective 'binary:logistic' was changed from 'error' to 'logloss'. Explicitly set eval_metric if you'd like to restore the old behavior.\n"
     ]
    },
    {
     "name": "stderr",
     "output_type": "stream",
     "text": [
      "/Users/zachpollatsek/opt/anaconda3/envs/capstone/lib/python3.10/site-packages/xgboost/sklearn.py:1224: UserWarning: The use of label encoder in XGBClassifier is deprecated and will be removed in a future release. To remove this warning, do the following: 1) Pass option use_label_encoder=False when constructing XGBClassifier object; and 2) Encode your labels (y) as integers starting with 0, i.e. 0, 1, 2, ..., [num_class - 1].\n",
      "  warnings.warn(label_encoder_deprecation_msg, UserWarning)\n"
     ]
    },
    {
     "name": "stdout",
     "output_type": "stream",
     "text": [
      "[CV 3/5] END xgb__learning_rate=0.05, xgb__max_depth=2;, score=0.224 total time=   0.2s\n",
      "[15:45:25] WARNING: /var/folders/sy/f16zz6x50xz3113nwtb9bvq00000gp/T/abs_44tbtwf8c1/croots/recipe/xgboost-split_1659548960882/work/src/learner.cc:1115: Starting in XGBoost 1.3.0, the default evaluation metric used with the objective 'binary:logistic' was changed from 'error' to 'logloss'. Explicitly set eval_metric if you'd like to restore the old behavior.\n"
     ]
    },
    {
     "name": "stderr",
     "output_type": "stream",
     "text": [
      "/Users/zachpollatsek/opt/anaconda3/envs/capstone/lib/python3.10/site-packages/xgboost/sklearn.py:1224: UserWarning: The use of label encoder in XGBClassifier is deprecated and will be removed in a future release. To remove this warning, do the following: 1) Pass option use_label_encoder=False when constructing XGBClassifier object; and 2) Encode your labels (y) as integers starting with 0, i.e. 0, 1, 2, ..., [num_class - 1].\n",
      "  warnings.warn(label_encoder_deprecation_msg, UserWarning)\n"
     ]
    },
    {
     "name": "stdout",
     "output_type": "stream",
     "text": [
      "[CV 4/5] END xgb__learning_rate=0.05, xgb__max_depth=2;, score=0.236 total time=   0.2s\n",
      "[15:45:25] WARNING: /var/folders/sy/f16zz6x50xz3113nwtb9bvq00000gp/T/abs_44tbtwf8c1/croots/recipe/xgboost-split_1659548960882/work/src/learner.cc:1115: Starting in XGBoost 1.3.0, the default evaluation metric used with the objective 'binary:logistic' was changed from 'error' to 'logloss'. Explicitly set eval_metric if you'd like to restore the old behavior.\n"
     ]
    },
    {
     "name": "stderr",
     "output_type": "stream",
     "text": [
      "/Users/zachpollatsek/opt/anaconda3/envs/capstone/lib/python3.10/site-packages/xgboost/sklearn.py:1224: UserWarning: The use of label encoder in XGBClassifier is deprecated and will be removed in a future release. To remove this warning, do the following: 1) Pass option use_label_encoder=False when constructing XGBClassifier object; and 2) Encode your labels (y) as integers starting with 0, i.e. 0, 1, 2, ..., [num_class - 1].\n",
      "  warnings.warn(label_encoder_deprecation_msg, UserWarning)\n"
     ]
    },
    {
     "name": "stdout",
     "output_type": "stream",
     "text": [
      "[CV 5/5] END xgb__learning_rate=0.05, xgb__max_depth=2;, score=0.219 total time=   0.2s\n",
      "[15:45:25] WARNING: /var/folders/sy/f16zz6x50xz3113nwtb9bvq00000gp/T/abs_44tbtwf8c1/croots/recipe/xgboost-split_1659548960882/work/src/learner.cc:1115: Starting in XGBoost 1.3.0, the default evaluation metric used with the objective 'binary:logistic' was changed from 'error' to 'logloss'. Explicitly set eval_metric if you'd like to restore the old behavior.\n"
     ]
    },
    {
     "name": "stderr",
     "output_type": "stream",
     "text": [
      "/Users/zachpollatsek/opt/anaconda3/envs/capstone/lib/python3.10/site-packages/xgboost/sklearn.py:1224: UserWarning: The use of label encoder in XGBClassifier is deprecated and will be removed in a future release. To remove this warning, do the following: 1) Pass option use_label_encoder=False when constructing XGBClassifier object; and 2) Encode your labels (y) as integers starting with 0, i.e. 0, 1, 2, ..., [num_class - 1].\n",
      "  warnings.warn(label_encoder_deprecation_msg, UserWarning)\n"
     ]
    },
    {
     "name": "stdout",
     "output_type": "stream",
     "text": [
      "[CV 1/5] END xgb__learning_rate=0.05, xgb__max_depth=4;, score=0.188 total time=   0.5s\n",
      "[15:45:26] WARNING: /var/folders/sy/f16zz6x50xz3113nwtb9bvq00000gp/T/abs_44tbtwf8c1/croots/recipe/xgboost-split_1659548960882/work/src/learner.cc:1115: Starting in XGBoost 1.3.0, the default evaluation metric used with the objective 'binary:logistic' was changed from 'error' to 'logloss'. Explicitly set eval_metric if you'd like to restore the old behavior.\n"
     ]
    },
    {
     "name": "stderr",
     "output_type": "stream",
     "text": [
      "/Users/zachpollatsek/opt/anaconda3/envs/capstone/lib/python3.10/site-packages/xgboost/sklearn.py:1224: UserWarning: The use of label encoder in XGBClassifier is deprecated and will be removed in a future release. To remove this warning, do the following: 1) Pass option use_label_encoder=False when constructing XGBClassifier object; and 2) Encode your labels (y) as integers starting with 0, i.e. 0, 1, 2, ..., [num_class - 1].\n",
      "  warnings.warn(label_encoder_deprecation_msg, UserWarning)\n"
     ]
    },
    {
     "name": "stdout",
     "output_type": "stream",
     "text": [
      "[CV 2/5] END xgb__learning_rate=0.05, xgb__max_depth=4;, score=0.237 total time=   0.5s\n",
      "[15:45:26] WARNING: /var/folders/sy/f16zz6x50xz3113nwtb9bvq00000gp/T/abs_44tbtwf8c1/croots/recipe/xgboost-split_1659548960882/work/src/learner.cc:1115: Starting in XGBoost 1.3.0, the default evaluation metric used with the objective 'binary:logistic' was changed from 'error' to 'logloss'. Explicitly set eval_metric if you'd like to restore the old behavior.\n"
     ]
    },
    {
     "name": "stderr",
     "output_type": "stream",
     "text": [
      "/Users/zachpollatsek/opt/anaconda3/envs/capstone/lib/python3.10/site-packages/xgboost/sklearn.py:1224: UserWarning: The use of label encoder in XGBClassifier is deprecated and will be removed in a future release. To remove this warning, do the following: 1) Pass option use_label_encoder=False when constructing XGBClassifier object; and 2) Encode your labels (y) as integers starting with 0, i.e. 0, 1, 2, ..., [num_class - 1].\n",
      "  warnings.warn(label_encoder_deprecation_msg, UserWarning)\n"
     ]
    },
    {
     "name": "stdout",
     "output_type": "stream",
     "text": [
      "[CV 3/5] END xgb__learning_rate=0.05, xgb__max_depth=4;, score=0.217 total time=   0.5s\n",
      "[15:45:27] WARNING: /var/folders/sy/f16zz6x50xz3113nwtb9bvq00000gp/T/abs_44tbtwf8c1/croots/recipe/xgboost-split_1659548960882/work/src/learner.cc:1115: Starting in XGBoost 1.3.0, the default evaluation metric used with the objective 'binary:logistic' was changed from 'error' to 'logloss'. Explicitly set eval_metric if you'd like to restore the old behavior.\n"
     ]
    },
    {
     "name": "stderr",
     "output_type": "stream",
     "text": [
      "/Users/zachpollatsek/opt/anaconda3/envs/capstone/lib/python3.10/site-packages/xgboost/sklearn.py:1224: UserWarning: The use of label encoder in XGBClassifier is deprecated and will be removed in a future release. To remove this warning, do the following: 1) Pass option use_label_encoder=False when constructing XGBClassifier object; and 2) Encode your labels (y) as integers starting with 0, i.e. 0, 1, 2, ..., [num_class - 1].\n",
      "  warnings.warn(label_encoder_deprecation_msg, UserWarning)\n"
     ]
    },
    {
     "name": "stdout",
     "output_type": "stream",
     "text": [
      "[CV 4/5] END xgb__learning_rate=0.05, xgb__max_depth=4;, score=0.198 total time=   0.4s\n",
      "[15:45:27] WARNING: /var/folders/sy/f16zz6x50xz3113nwtb9bvq00000gp/T/abs_44tbtwf8c1/croots/recipe/xgboost-split_1659548960882/work/src/learner.cc:1115: Starting in XGBoost 1.3.0, the default evaluation metric used with the objective 'binary:logistic' was changed from 'error' to 'logloss'. Explicitly set eval_metric if you'd like to restore the old behavior.\n"
     ]
    },
    {
     "name": "stderr",
     "output_type": "stream",
     "text": [
      "/Users/zachpollatsek/opt/anaconda3/envs/capstone/lib/python3.10/site-packages/xgboost/sklearn.py:1224: UserWarning: The use of label encoder in XGBClassifier is deprecated and will be removed in a future release. To remove this warning, do the following: 1) Pass option use_label_encoder=False when constructing XGBClassifier object; and 2) Encode your labels (y) as integers starting with 0, i.e. 0, 1, 2, ..., [num_class - 1].\n",
      "  warnings.warn(label_encoder_deprecation_msg, UserWarning)\n"
     ]
    },
    {
     "name": "stdout",
     "output_type": "stream",
     "text": [
      "[CV 5/5] END xgb__learning_rate=0.05, xgb__max_depth=4;, score=0.279 total time=   0.4s\n",
      "[15:45:28] WARNING: /var/folders/sy/f16zz6x50xz3113nwtb9bvq00000gp/T/abs_44tbtwf8c1/croots/recipe/xgboost-split_1659548960882/work/src/learner.cc:1115: Starting in XGBoost 1.3.0, the default evaluation metric used with the objective 'binary:logistic' was changed from 'error' to 'logloss'. Explicitly set eval_metric if you'd like to restore the old behavior.\n"
     ]
    },
    {
     "name": "stderr",
     "output_type": "stream",
     "text": [
      "/Users/zachpollatsek/opt/anaconda3/envs/capstone/lib/python3.10/site-packages/xgboost/sklearn.py:1224: UserWarning: The use of label encoder in XGBClassifier is deprecated and will be removed in a future release. To remove this warning, do the following: 1) Pass option use_label_encoder=False when constructing XGBClassifier object; and 2) Encode your labels (y) as integers starting with 0, i.e. 0, 1, 2, ..., [num_class - 1].\n",
      "  warnings.warn(label_encoder_deprecation_msg, UserWarning)\n"
     ]
    },
    {
     "name": "stdout",
     "output_type": "stream",
     "text": [
      "[CV 1/5] END xgb__learning_rate=0.05, xgb__max_depth=6;, score=0.159 total time=   0.9s\n",
      "[15:45:29] WARNING: /var/folders/sy/f16zz6x50xz3113nwtb9bvq00000gp/T/abs_44tbtwf8c1/croots/recipe/xgboost-split_1659548960882/work/src/learner.cc:1115: Starting in XGBoost 1.3.0, the default evaluation metric used with the objective 'binary:logistic' was changed from 'error' to 'logloss'. Explicitly set eval_metric if you'd like to restore the old behavior.\n"
     ]
    },
    {
     "name": "stderr",
     "output_type": "stream",
     "text": [
      "/Users/zachpollatsek/opt/anaconda3/envs/capstone/lib/python3.10/site-packages/xgboost/sklearn.py:1224: UserWarning: The use of label encoder in XGBClassifier is deprecated and will be removed in a future release. To remove this warning, do the following: 1) Pass option use_label_encoder=False when constructing XGBClassifier object; and 2) Encode your labels (y) as integers starting with 0, i.e. 0, 1, 2, ..., [num_class - 1].\n",
      "  warnings.warn(label_encoder_deprecation_msg, UserWarning)\n"
     ]
    },
    {
     "name": "stdout",
     "output_type": "stream",
     "text": [
      "[CV 2/5] END xgb__learning_rate=0.05, xgb__max_depth=6;, score=0.299 total time=   0.7s\n",
      "[15:45:29] WARNING: /var/folders/sy/f16zz6x50xz3113nwtb9bvq00000gp/T/abs_44tbtwf8c1/croots/recipe/xgboost-split_1659548960882/work/src/learner.cc:1115: Starting in XGBoost 1.3.0, the default evaluation metric used with the objective 'binary:logistic' was changed from 'error' to 'logloss'. Explicitly set eval_metric if you'd like to restore the old behavior.\n"
     ]
    },
    {
     "name": "stderr",
     "output_type": "stream",
     "text": [
      "/Users/zachpollatsek/opt/anaconda3/envs/capstone/lib/python3.10/site-packages/xgboost/sklearn.py:1224: UserWarning: The use of label encoder in XGBClassifier is deprecated and will be removed in a future release. To remove this warning, do the following: 1) Pass option use_label_encoder=False when constructing XGBClassifier object; and 2) Encode your labels (y) as integers starting with 0, i.e. 0, 1, 2, ..., [num_class - 1].\n",
      "  warnings.warn(label_encoder_deprecation_msg, UserWarning)\n"
     ]
    },
    {
     "name": "stdout",
     "output_type": "stream",
     "text": [
      "[CV 3/5] END xgb__learning_rate=0.05, xgb__max_depth=6;, score=0.245 total time=   0.6s\n",
      "[15:45:30] WARNING: /var/folders/sy/f16zz6x50xz3113nwtb9bvq00000gp/T/abs_44tbtwf8c1/croots/recipe/xgboost-split_1659548960882/work/src/learner.cc:1115: Starting in XGBoost 1.3.0, the default evaluation metric used with the objective 'binary:logistic' was changed from 'error' to 'logloss'. Explicitly set eval_metric if you'd like to restore the old behavior.\n"
     ]
    },
    {
     "name": "stderr",
     "output_type": "stream",
     "text": [
      "/Users/zachpollatsek/opt/anaconda3/envs/capstone/lib/python3.10/site-packages/xgboost/sklearn.py:1224: UserWarning: The use of label encoder in XGBClassifier is deprecated and will be removed in a future release. To remove this warning, do the following: 1) Pass option use_label_encoder=False when constructing XGBClassifier object; and 2) Encode your labels (y) as integers starting with 0, i.e. 0, 1, 2, ..., [num_class - 1].\n",
      "  warnings.warn(label_encoder_deprecation_msg, UserWarning)\n"
     ]
    },
    {
     "name": "stdout",
     "output_type": "stream",
     "text": [
      "[CV 4/5] END xgb__learning_rate=0.05, xgb__max_depth=6;, score=0.250 total time=   0.6s\n",
      "[15:45:31] WARNING: /var/folders/sy/f16zz6x50xz3113nwtb9bvq00000gp/T/abs_44tbtwf8c1/croots/recipe/xgboost-split_1659548960882/work/src/learner.cc:1115: Starting in XGBoost 1.3.0, the default evaluation metric used with the objective 'binary:logistic' was changed from 'error' to 'logloss'. Explicitly set eval_metric if you'd like to restore the old behavior.\n"
     ]
    },
    {
     "name": "stderr",
     "output_type": "stream",
     "text": [
      "/Users/zachpollatsek/opt/anaconda3/envs/capstone/lib/python3.10/site-packages/xgboost/sklearn.py:1224: UserWarning: The use of label encoder in XGBClassifier is deprecated and will be removed in a future release. To remove this warning, do the following: 1) Pass option use_label_encoder=False when constructing XGBClassifier object; and 2) Encode your labels (y) as integers starting with 0, i.e. 0, 1, 2, ..., [num_class - 1].\n",
      "  warnings.warn(label_encoder_deprecation_msg, UserWarning)\n"
     ]
    },
    {
     "name": "stdout",
     "output_type": "stream",
     "text": [
      "[CV 5/5] END xgb__learning_rate=0.05, xgb__max_depth=6;, score=0.279 total time=   0.6s\n",
      "[15:45:31] WARNING: /var/folders/sy/f16zz6x50xz3113nwtb9bvq00000gp/T/abs_44tbtwf8c1/croots/recipe/xgboost-split_1659548960882/work/src/learner.cc:1115: Starting in XGBoost 1.3.0, the default evaluation metric used with the objective 'binary:logistic' was changed from 'error' to 'logloss'. Explicitly set eval_metric if you'd like to restore the old behavior.\n"
     ]
    },
    {
     "name": "stderr",
     "output_type": "stream",
     "text": [
      "/Users/zachpollatsek/opt/anaconda3/envs/capstone/lib/python3.10/site-packages/xgboost/sklearn.py:1224: UserWarning: The use of label encoder in XGBClassifier is deprecated and will be removed in a future release. To remove this warning, do the following: 1) Pass option use_label_encoder=False when constructing XGBClassifier object; and 2) Encode your labels (y) as integers starting with 0, i.e. 0, 1, 2, ..., [num_class - 1].\n",
      "  warnings.warn(label_encoder_deprecation_msg, UserWarning)\n"
     ]
    },
    {
     "name": "stdout",
     "output_type": "stream",
     "text": [
      "[CV 1/5] END xgb__learning_rate=0.05, xgb__max_depth=8;, score=0.167 total time=   0.8s\n",
      "[15:45:32] WARNING: /var/folders/sy/f16zz6x50xz3113nwtb9bvq00000gp/T/abs_44tbtwf8c1/croots/recipe/xgboost-split_1659548960882/work/src/learner.cc:1115: Starting in XGBoost 1.3.0, the default evaluation metric used with the objective 'binary:logistic' was changed from 'error' to 'logloss'. Explicitly set eval_metric if you'd like to restore the old behavior.\n"
     ]
    },
    {
     "name": "stderr",
     "output_type": "stream",
     "text": [
      "/Users/zachpollatsek/opt/anaconda3/envs/capstone/lib/python3.10/site-packages/xgboost/sklearn.py:1224: UserWarning: The use of label encoder in XGBClassifier is deprecated and will be removed in a future release. To remove this warning, do the following: 1) Pass option use_label_encoder=False when constructing XGBClassifier object; and 2) Encode your labels (y) as integers starting with 0, i.e. 0, 1, 2, ..., [num_class - 1].\n",
      "  warnings.warn(label_encoder_deprecation_msg, UserWarning)\n"
     ]
    },
    {
     "name": "stdout",
     "output_type": "stream",
     "text": [
      "[CV 2/5] END xgb__learning_rate=0.05, xgb__max_depth=8;, score=0.219 total time=   0.8s\n",
      "[15:45:33] WARNING: /var/folders/sy/f16zz6x50xz3113nwtb9bvq00000gp/T/abs_44tbtwf8c1/croots/recipe/xgboost-split_1659548960882/work/src/learner.cc:1115: Starting in XGBoost 1.3.0, the default evaluation metric used with the objective 'binary:logistic' was changed from 'error' to 'logloss'. Explicitly set eval_metric if you'd like to restore the old behavior.\n"
     ]
    },
    {
     "name": "stderr",
     "output_type": "stream",
     "text": [
      "/Users/zachpollatsek/opt/anaconda3/envs/capstone/lib/python3.10/site-packages/xgboost/sklearn.py:1224: UserWarning: The use of label encoder in XGBClassifier is deprecated and will be removed in a future release. To remove this warning, do the following: 1) Pass option use_label_encoder=False when constructing XGBClassifier object; and 2) Encode your labels (y) as integers starting with 0, i.e. 0, 1, 2, ..., [num_class - 1].\n",
      "  warnings.warn(label_encoder_deprecation_msg, UserWarning)\n"
     ]
    },
    {
     "name": "stdout",
     "output_type": "stream",
     "text": [
      "[CV 3/5] END xgb__learning_rate=0.05, xgb__max_depth=8;, score=0.234 total time=   0.8s\n",
      "[15:45:34] WARNING: /var/folders/sy/f16zz6x50xz3113nwtb9bvq00000gp/T/abs_44tbtwf8c1/croots/recipe/xgboost-split_1659548960882/work/src/learner.cc:1115: Starting in XGBoost 1.3.0, the default evaluation metric used with the objective 'binary:logistic' was changed from 'error' to 'logloss'. Explicitly set eval_metric if you'd like to restore the old behavior.\n"
     ]
    },
    {
     "name": "stderr",
     "output_type": "stream",
     "text": [
      "/Users/zachpollatsek/opt/anaconda3/envs/capstone/lib/python3.10/site-packages/xgboost/sklearn.py:1224: UserWarning: The use of label encoder in XGBClassifier is deprecated and will be removed in a future release. To remove this warning, do the following: 1) Pass option use_label_encoder=False when constructing XGBClassifier object; and 2) Encode your labels (y) as integers starting with 0, i.e. 0, 1, 2, ..., [num_class - 1].\n",
      "  warnings.warn(label_encoder_deprecation_msg, UserWarning)\n"
     ]
    },
    {
     "name": "stdout",
     "output_type": "stream",
     "text": [
      "[CV 4/5] END xgb__learning_rate=0.05, xgb__max_depth=8;, score=0.234 total time=   0.8s\n",
      "[15:45:34] WARNING: /var/folders/sy/f16zz6x50xz3113nwtb9bvq00000gp/T/abs_44tbtwf8c1/croots/recipe/xgboost-split_1659548960882/work/src/learner.cc:1115: Starting in XGBoost 1.3.0, the default evaluation metric used with the objective 'binary:logistic' was changed from 'error' to 'logloss'. Explicitly set eval_metric if you'd like to restore the old behavior.\n"
     ]
    },
    {
     "name": "stderr",
     "output_type": "stream",
     "text": [
      "/Users/zachpollatsek/opt/anaconda3/envs/capstone/lib/python3.10/site-packages/xgboost/sklearn.py:1224: UserWarning: The use of label encoder in XGBClassifier is deprecated and will be removed in a future release. To remove this warning, do the following: 1) Pass option use_label_encoder=False when constructing XGBClassifier object; and 2) Encode your labels (y) as integers starting with 0, i.e. 0, 1, 2, ..., [num_class - 1].\n",
      "  warnings.warn(label_encoder_deprecation_msg, UserWarning)\n"
     ]
    },
    {
     "name": "stdout",
     "output_type": "stream",
     "text": [
      "[CV 5/5] END xgb__learning_rate=0.05, xgb__max_depth=8;, score=0.213 total time=   0.8s\n",
      "[15:45:35] WARNING: /var/folders/sy/f16zz6x50xz3113nwtb9bvq00000gp/T/abs_44tbtwf8c1/croots/recipe/xgboost-split_1659548960882/work/src/learner.cc:1115: Starting in XGBoost 1.3.0, the default evaluation metric used with the objective 'binary:logistic' was changed from 'error' to 'logloss'. Explicitly set eval_metric if you'd like to restore the old behavior.\n"
     ]
    },
    {
     "name": "stderr",
     "output_type": "stream",
     "text": [
      "/Users/zachpollatsek/opt/anaconda3/envs/capstone/lib/python3.10/site-packages/xgboost/sklearn.py:1224: UserWarning: The use of label encoder in XGBClassifier is deprecated and will be removed in a future release. To remove this warning, do the following: 1) Pass option use_label_encoder=False when constructing XGBClassifier object; and 2) Encode your labels (y) as integers starting with 0, i.e. 0, 1, 2, ..., [num_class - 1].\n",
      "  warnings.warn(label_encoder_deprecation_msg, UserWarning)\n"
     ]
    },
    {
     "name": "stdout",
     "output_type": "stream",
     "text": [
      "[CV 1/5] END xgb__learning_rate=0.1, xgb__max_depth=2;, score=0.158 total time=   0.2s\n",
      "[15:45:35] WARNING: /var/folders/sy/f16zz6x50xz3113nwtb9bvq00000gp/T/abs_44tbtwf8c1/croots/recipe/xgboost-split_1659548960882/work/src/learner.cc:1115: Starting in XGBoost 1.3.0, the default evaluation metric used with the objective 'binary:logistic' was changed from 'error' to 'logloss'. Explicitly set eval_metric if you'd like to restore the old behavior.\n",
      "[CV 2/5] END xgb__learning_rate=0.1, xgb__max_depth=2;, score=0.203 total time=   0.2s\n"
     ]
    },
    {
     "name": "stderr",
     "output_type": "stream",
     "text": [
      "/Users/zachpollatsek/opt/anaconda3/envs/capstone/lib/python3.10/site-packages/xgboost/sklearn.py:1224: UserWarning: The use of label encoder in XGBClassifier is deprecated and will be removed in a future release. To remove this warning, do the following: 1) Pass option use_label_encoder=False when constructing XGBClassifier object; and 2) Encode your labels (y) as integers starting with 0, i.e. 0, 1, 2, ..., [num_class - 1].\n",
      "  warnings.warn(label_encoder_deprecation_msg, UserWarning)\n",
      "/Users/zachpollatsek/opt/anaconda3/envs/capstone/lib/python3.10/site-packages/xgboost/sklearn.py:1224: UserWarning: The use of label encoder in XGBClassifier is deprecated and will be removed in a future release. To remove this warning, do the following: 1) Pass option use_label_encoder=False when constructing XGBClassifier object; and 2) Encode your labels (y) as integers starting with 0, i.e. 0, 1, 2, ..., [num_class - 1].\n",
      "  warnings.warn(label_encoder_deprecation_msg, UserWarning)\n"
     ]
    },
    {
     "name": "stdout",
     "output_type": "stream",
     "text": [
      "[15:45:36] WARNING: /var/folders/sy/f16zz6x50xz3113nwtb9bvq00000gp/T/abs_44tbtwf8c1/croots/recipe/xgboost-split_1659548960882/work/src/learner.cc:1115: Starting in XGBoost 1.3.0, the default evaluation metric used with the objective 'binary:logistic' was changed from 'error' to 'logloss'. Explicitly set eval_metric if you'd like to restore the old behavior.\n",
      "[CV 3/5] END xgb__learning_rate=0.1, xgb__max_depth=2;, score=0.248 total time=   0.2s\n",
      "[15:45:36] WARNING: /var/folders/sy/f16zz6x50xz3113nwtb9bvq00000gp/T/abs_44tbtwf8c1/croots/recipe/xgboost-split_1659548960882/work/src/learner.cc:1115: Starting in XGBoost 1.3.0, the default evaluation metric used with the objective 'binary:logistic' was changed from 'error' to 'logloss'. Explicitly set eval_metric if you'd like to restore the old behavior.\n"
     ]
    },
    {
     "name": "stderr",
     "output_type": "stream",
     "text": [
      "/Users/zachpollatsek/opt/anaconda3/envs/capstone/lib/python3.10/site-packages/xgboost/sklearn.py:1224: UserWarning: The use of label encoder in XGBClassifier is deprecated and will be removed in a future release. To remove this warning, do the following: 1) Pass option use_label_encoder=False when constructing XGBClassifier object; and 2) Encode your labels (y) as integers starting with 0, i.e. 0, 1, 2, ..., [num_class - 1].\n",
      "  warnings.warn(label_encoder_deprecation_msg, UserWarning)\n"
     ]
    },
    {
     "name": "stdout",
     "output_type": "stream",
     "text": [
      "[CV 4/5] END xgb__learning_rate=0.1, xgb__max_depth=2;, score=0.205 total time=   0.2s\n",
      "[15:45:36] WARNING: /var/folders/sy/f16zz6x50xz3113nwtb9bvq00000gp/T/abs_44tbtwf8c1/croots/recipe/xgboost-split_1659548960882/work/src/learner.cc:1115: Starting in XGBoost 1.3.0, the default evaluation metric used with the objective 'binary:logistic' was changed from 'error' to 'logloss'. Explicitly set eval_metric if you'd like to restore the old behavior.\n"
     ]
    },
    {
     "name": "stderr",
     "output_type": "stream",
     "text": [
      "/Users/zachpollatsek/opt/anaconda3/envs/capstone/lib/python3.10/site-packages/xgboost/sklearn.py:1224: UserWarning: The use of label encoder in XGBClassifier is deprecated and will be removed in a future release. To remove this warning, do the following: 1) Pass option use_label_encoder=False when constructing XGBClassifier object; and 2) Encode your labels (y) as integers starting with 0, i.e. 0, 1, 2, ..., [num_class - 1].\n",
      "  warnings.warn(label_encoder_deprecation_msg, UserWarning)\n"
     ]
    },
    {
     "name": "stdout",
     "output_type": "stream",
     "text": [
      "[CV 5/5] END xgb__learning_rate=0.1, xgb__max_depth=2;, score=0.284 total time=   0.2s\n",
      "[15:45:36] WARNING: /var/folders/sy/f16zz6x50xz3113nwtb9bvq00000gp/T/abs_44tbtwf8c1/croots/recipe/xgboost-split_1659548960882/work/src/learner.cc:1115: Starting in XGBoost 1.3.0, the default evaluation metric used with the objective 'binary:logistic' was changed from 'error' to 'logloss'. Explicitly set eval_metric if you'd like to restore the old behavior.\n"
     ]
    },
    {
     "name": "stderr",
     "output_type": "stream",
     "text": [
      "/Users/zachpollatsek/opt/anaconda3/envs/capstone/lib/python3.10/site-packages/xgboost/sklearn.py:1224: UserWarning: The use of label encoder in XGBClassifier is deprecated and will be removed in a future release. To remove this warning, do the following: 1) Pass option use_label_encoder=False when constructing XGBClassifier object; and 2) Encode your labels (y) as integers starting with 0, i.e. 0, 1, 2, ..., [num_class - 1].\n",
      "  warnings.warn(label_encoder_deprecation_msg, UserWarning)\n"
     ]
    },
    {
     "name": "stdout",
     "output_type": "stream",
     "text": [
      "[CV 1/5] END xgb__learning_rate=0.1, xgb__max_depth=4;, score=0.154 total time=   0.5s\n",
      "[15:45:37] WARNING: /var/folders/sy/f16zz6x50xz3113nwtb9bvq00000gp/T/abs_44tbtwf8c1/croots/recipe/xgboost-split_1659548960882/work/src/learner.cc:1115: Starting in XGBoost 1.3.0, the default evaluation metric used with the objective 'binary:logistic' was changed from 'error' to 'logloss'. Explicitly set eval_metric if you'd like to restore the old behavior.\n"
     ]
    },
    {
     "name": "stderr",
     "output_type": "stream",
     "text": [
      "/Users/zachpollatsek/opt/anaconda3/envs/capstone/lib/python3.10/site-packages/xgboost/sklearn.py:1224: UserWarning: The use of label encoder in XGBClassifier is deprecated and will be removed in a future release. To remove this warning, do the following: 1) Pass option use_label_encoder=False when constructing XGBClassifier object; and 2) Encode your labels (y) as integers starting with 0, i.e. 0, 1, 2, ..., [num_class - 1].\n",
      "  warnings.warn(label_encoder_deprecation_msg, UserWarning)\n"
     ]
    },
    {
     "name": "stdout",
     "output_type": "stream",
     "text": [
      "[CV 2/5] END xgb__learning_rate=0.1, xgb__max_depth=4;, score=0.237 total time=   0.4s\n",
      "[15:45:37] WARNING: /var/folders/sy/f16zz6x50xz3113nwtb9bvq00000gp/T/abs_44tbtwf8c1/croots/recipe/xgboost-split_1659548960882/work/src/learner.cc:1115: Starting in XGBoost 1.3.0, the default evaluation metric used with the objective 'binary:logistic' was changed from 'error' to 'logloss'. Explicitly set eval_metric if you'd like to restore the old behavior.\n"
     ]
    },
    {
     "name": "stderr",
     "output_type": "stream",
     "text": [
      "/Users/zachpollatsek/opt/anaconda3/envs/capstone/lib/python3.10/site-packages/xgboost/sklearn.py:1224: UserWarning: The use of label encoder in XGBClassifier is deprecated and will be removed in a future release. To remove this warning, do the following: 1) Pass option use_label_encoder=False when constructing XGBClassifier object; and 2) Encode your labels (y) as integers starting with 0, i.e. 0, 1, 2, ..., [num_class - 1].\n",
      "  warnings.warn(label_encoder_deprecation_msg, UserWarning)\n"
     ]
    },
    {
     "name": "stdout",
     "output_type": "stream",
     "text": [
      "[CV 3/5] END xgb__learning_rate=0.1, xgb__max_depth=4;, score=0.282 total time=   0.4s\n",
      "[15:45:38] WARNING: /var/folders/sy/f16zz6x50xz3113nwtb9bvq00000gp/T/abs_44tbtwf8c1/croots/recipe/xgboost-split_1659548960882/work/src/learner.cc:1115: Starting in XGBoost 1.3.0, the default evaluation metric used with the objective 'binary:logistic' was changed from 'error' to 'logloss'. Explicitly set eval_metric if you'd like to restore the old behavior.\n"
     ]
    },
    {
     "name": "stderr",
     "output_type": "stream",
     "text": [
      "/Users/zachpollatsek/opt/anaconda3/envs/capstone/lib/python3.10/site-packages/xgboost/sklearn.py:1224: UserWarning: The use of label encoder in XGBClassifier is deprecated and will be removed in a future release. To remove this warning, do the following: 1) Pass option use_label_encoder=False when constructing XGBClassifier object; and 2) Encode your labels (y) as integers starting with 0, i.e. 0, 1, 2, ..., [num_class - 1].\n",
      "  warnings.warn(label_encoder_deprecation_msg, UserWarning)\n"
     ]
    },
    {
     "name": "stdout",
     "output_type": "stream",
     "text": [
      "[CV 4/5] END xgb__learning_rate=0.1, xgb__max_depth=4;, score=0.200 total time=   0.4s\n",
      "[15:45:38] WARNING: /var/folders/sy/f16zz6x50xz3113nwtb9bvq00000gp/T/abs_44tbtwf8c1/croots/recipe/xgboost-split_1659548960882/work/src/learner.cc:1115: Starting in XGBoost 1.3.0, the default evaluation metric used with the objective 'binary:logistic' was changed from 'error' to 'logloss'. Explicitly set eval_metric if you'd like to restore the old behavior.\n"
     ]
    },
    {
     "name": "stderr",
     "output_type": "stream",
     "text": [
      "/Users/zachpollatsek/opt/anaconda3/envs/capstone/lib/python3.10/site-packages/xgboost/sklearn.py:1224: UserWarning: The use of label encoder in XGBClassifier is deprecated and will be removed in a future release. To remove this warning, do the following: 1) Pass option use_label_encoder=False when constructing XGBClassifier object; and 2) Encode your labels (y) as integers starting with 0, i.e. 0, 1, 2, ..., [num_class - 1].\n",
      "  warnings.warn(label_encoder_deprecation_msg, UserWarning)\n"
     ]
    },
    {
     "name": "stdout",
     "output_type": "stream",
     "text": [
      "[CV 5/5] END xgb__learning_rate=0.1, xgb__max_depth=4;, score=0.237 total time=   0.4s\n",
      "[15:45:38] WARNING: /var/folders/sy/f16zz6x50xz3113nwtb9bvq00000gp/T/abs_44tbtwf8c1/croots/recipe/xgboost-split_1659548960882/work/src/learner.cc:1115: Starting in XGBoost 1.3.0, the default evaluation metric used with the objective 'binary:logistic' was changed from 'error' to 'logloss'. Explicitly set eval_metric if you'd like to restore the old behavior.\n"
     ]
    },
    {
     "name": "stderr",
     "output_type": "stream",
     "text": [
      "/Users/zachpollatsek/opt/anaconda3/envs/capstone/lib/python3.10/site-packages/xgboost/sklearn.py:1224: UserWarning: The use of label encoder in XGBClassifier is deprecated and will be removed in a future release. To remove this warning, do the following: 1) Pass option use_label_encoder=False when constructing XGBClassifier object; and 2) Encode your labels (y) as integers starting with 0, i.e. 0, 1, 2, ..., [num_class - 1].\n",
      "  warnings.warn(label_encoder_deprecation_msg, UserWarning)\n"
     ]
    },
    {
     "name": "stdout",
     "output_type": "stream",
     "text": [
      "[CV 1/5] END xgb__learning_rate=0.1, xgb__max_depth=6;, score=0.154 total time=   0.5s\n",
      "[15:45:39] WARNING: /var/folders/sy/f16zz6x50xz3113nwtb9bvq00000gp/T/abs_44tbtwf8c1/croots/recipe/xgboost-split_1659548960882/work/src/learner.cc:1115: Starting in XGBoost 1.3.0, the default evaluation metric used with the objective 'binary:logistic' was changed from 'error' to 'logloss'. Explicitly set eval_metric if you'd like to restore the old behavior.\n"
     ]
    },
    {
     "name": "stderr",
     "output_type": "stream",
     "text": [
      "/Users/zachpollatsek/opt/anaconda3/envs/capstone/lib/python3.10/site-packages/xgboost/sklearn.py:1224: UserWarning: The use of label encoder in XGBClassifier is deprecated and will be removed in a future release. To remove this warning, do the following: 1) Pass option use_label_encoder=False when constructing XGBClassifier object; and 2) Encode your labels (y) as integers starting with 0, i.e. 0, 1, 2, ..., [num_class - 1].\n",
      "  warnings.warn(label_encoder_deprecation_msg, UserWarning)\n"
     ]
    },
    {
     "name": "stdout",
     "output_type": "stream",
     "text": [
      "[CV 2/5] END xgb__learning_rate=0.1, xgb__max_depth=6;, score=0.200 total time=   0.6s\n",
      "[15:45:39] WARNING: /var/folders/sy/f16zz6x50xz3113nwtb9bvq00000gp/T/abs_44tbtwf8c1/croots/recipe/xgboost-split_1659548960882/work/src/learner.cc:1115: Starting in XGBoost 1.3.0, the default evaluation metric used with the objective 'binary:logistic' was changed from 'error' to 'logloss'. Explicitly set eval_metric if you'd like to restore the old behavior.\n"
     ]
    },
    {
     "name": "stderr",
     "output_type": "stream",
     "text": [
      "/Users/zachpollatsek/opt/anaconda3/envs/capstone/lib/python3.10/site-packages/xgboost/sklearn.py:1224: UserWarning: The use of label encoder in XGBClassifier is deprecated and will be removed in a future release. To remove this warning, do the following: 1) Pass option use_label_encoder=False when constructing XGBClassifier object; and 2) Encode your labels (y) as integers starting with 0, i.e. 0, 1, 2, ..., [num_class - 1].\n",
      "  warnings.warn(label_encoder_deprecation_msg, UserWarning)\n"
     ]
    },
    {
     "name": "stdout",
     "output_type": "stream",
     "text": [
      "[CV 3/5] END xgb__learning_rate=0.1, xgb__max_depth=6;, score=0.189 total time=   0.6s\n",
      "[15:45:40] WARNING: /var/folders/sy/f16zz6x50xz3113nwtb9bvq00000gp/T/abs_44tbtwf8c1/croots/recipe/xgboost-split_1659548960882/work/src/learner.cc:1115: Starting in XGBoost 1.3.0, the default evaluation metric used with the objective 'binary:logistic' was changed from 'error' to 'logloss'. Explicitly set eval_metric if you'd like to restore the old behavior.\n"
     ]
    },
    {
     "name": "stderr",
     "output_type": "stream",
     "text": [
      "/Users/zachpollatsek/opt/anaconda3/envs/capstone/lib/python3.10/site-packages/xgboost/sklearn.py:1224: UserWarning: The use of label encoder in XGBClassifier is deprecated and will be removed in a future release. To remove this warning, do the following: 1) Pass option use_label_encoder=False when constructing XGBClassifier object; and 2) Encode your labels (y) as integers starting with 0, i.e. 0, 1, 2, ..., [num_class - 1].\n",
      "  warnings.warn(label_encoder_deprecation_msg, UserWarning)\n"
     ]
    },
    {
     "name": "stdout",
     "output_type": "stream",
     "text": [
      "[CV 4/5] END xgb__learning_rate=0.1, xgb__max_depth=6;, score=0.254 total time=   0.6s\n",
      "[15:45:41] WARNING: /var/folders/sy/f16zz6x50xz3113nwtb9bvq00000gp/T/abs_44tbtwf8c1/croots/recipe/xgboost-split_1659548960882/work/src/learner.cc:1115: Starting in XGBoost 1.3.0, the default evaluation metric used with the objective 'binary:logistic' was changed from 'error' to 'logloss'. Explicitly set eval_metric if you'd like to restore the old behavior.\n"
     ]
    },
    {
     "name": "stderr",
     "output_type": "stream",
     "text": [
      "/Users/zachpollatsek/opt/anaconda3/envs/capstone/lib/python3.10/site-packages/xgboost/sklearn.py:1224: UserWarning: The use of label encoder in XGBClassifier is deprecated and will be removed in a future release. To remove this warning, do the following: 1) Pass option use_label_encoder=False when constructing XGBClassifier object; and 2) Encode your labels (y) as integers starting with 0, i.e. 0, 1, 2, ..., [num_class - 1].\n",
      "  warnings.warn(label_encoder_deprecation_msg, UserWarning)\n"
     ]
    },
    {
     "name": "stdout",
     "output_type": "stream",
     "text": [
      "[CV 5/5] END xgb__learning_rate=0.1, xgb__max_depth=6;, score=0.190 total time=   0.5s\n",
      "[15:45:41] WARNING: /var/folders/sy/f16zz6x50xz3113nwtb9bvq00000gp/T/abs_44tbtwf8c1/croots/recipe/xgboost-split_1659548960882/work/src/learner.cc:1115: Starting in XGBoost 1.3.0, the default evaluation metric used with the objective 'binary:logistic' was changed from 'error' to 'logloss'. Explicitly set eval_metric if you'd like to restore the old behavior.\n"
     ]
    },
    {
     "name": "stderr",
     "output_type": "stream",
     "text": [
      "/Users/zachpollatsek/opt/anaconda3/envs/capstone/lib/python3.10/site-packages/xgboost/sklearn.py:1224: UserWarning: The use of label encoder in XGBClassifier is deprecated and will be removed in a future release. To remove this warning, do the following: 1) Pass option use_label_encoder=False when constructing XGBClassifier object; and 2) Encode your labels (y) as integers starting with 0, i.e. 0, 1, 2, ..., [num_class - 1].\n",
      "  warnings.warn(label_encoder_deprecation_msg, UserWarning)\n"
     ]
    },
    {
     "name": "stdout",
     "output_type": "stream",
     "text": [
      "[CV 1/5] END xgb__learning_rate=0.1, xgb__max_depth=8;, score=0.138 total time=   0.8s\n",
      "[15:45:42] WARNING: /var/folders/sy/f16zz6x50xz3113nwtb9bvq00000gp/T/abs_44tbtwf8c1/croots/recipe/xgboost-split_1659548960882/work/src/learner.cc:1115: Starting in XGBoost 1.3.0, the default evaluation metric used with the objective 'binary:logistic' was changed from 'error' to 'logloss'. Explicitly set eval_metric if you'd like to restore the old behavior.\n"
     ]
    },
    {
     "name": "stderr",
     "output_type": "stream",
     "text": [
      "/Users/zachpollatsek/opt/anaconda3/envs/capstone/lib/python3.10/site-packages/xgboost/sklearn.py:1224: UserWarning: The use of label encoder in XGBClassifier is deprecated and will be removed in a future release. To remove this warning, do the following: 1) Pass option use_label_encoder=False when constructing XGBClassifier object; and 2) Encode your labels (y) as integers starting with 0, i.e. 0, 1, 2, ..., [num_class - 1].\n",
      "  warnings.warn(label_encoder_deprecation_msg, UserWarning)\n"
     ]
    },
    {
     "name": "stdout",
     "output_type": "stream",
     "text": [
      "[CV 2/5] END xgb__learning_rate=0.1, xgb__max_depth=8;, score=0.157 total time=   0.8s\n",
      "[15:45:43] WARNING: /var/folders/sy/f16zz6x50xz3113nwtb9bvq00000gp/T/abs_44tbtwf8c1/croots/recipe/xgboost-split_1659548960882/work/src/learner.cc:1115: Starting in XGBoost 1.3.0, the default evaluation metric used with the objective 'binary:logistic' was changed from 'error' to 'logloss'. Explicitly set eval_metric if you'd like to restore the old behavior.\n"
     ]
    },
    {
     "name": "stderr",
     "output_type": "stream",
     "text": [
      "/Users/zachpollatsek/opt/anaconda3/envs/capstone/lib/python3.10/site-packages/xgboost/sklearn.py:1224: UserWarning: The use of label encoder in XGBClassifier is deprecated and will be removed in a future release. To remove this warning, do the following: 1) Pass option use_label_encoder=False when constructing XGBClassifier object; and 2) Encode your labels (y) as integers starting with 0, i.e. 0, 1, 2, ..., [num_class - 1].\n",
      "  warnings.warn(label_encoder_deprecation_msg, UserWarning)\n"
     ]
    },
    {
     "name": "stdout",
     "output_type": "stream",
     "text": [
      "[CV 3/5] END xgb__learning_rate=0.1, xgb__max_depth=8;, score=0.235 total time=   0.7s\n",
      "[15:45:43] WARNING: /var/folders/sy/f16zz6x50xz3113nwtb9bvq00000gp/T/abs_44tbtwf8c1/croots/recipe/xgboost-split_1659548960882/work/src/learner.cc:1115: Starting in XGBoost 1.3.0, the default evaluation metric used with the objective 'binary:logistic' was changed from 'error' to 'logloss'. Explicitly set eval_metric if you'd like to restore the old behavior.\n"
     ]
    },
    {
     "name": "stderr",
     "output_type": "stream",
     "text": [
      "/Users/zachpollatsek/opt/anaconda3/envs/capstone/lib/python3.10/site-packages/xgboost/sklearn.py:1224: UserWarning: The use of label encoder in XGBClassifier is deprecated and will be removed in a future release. To remove this warning, do the following: 1) Pass option use_label_encoder=False when constructing XGBClassifier object; and 2) Encode your labels (y) as integers starting with 0, i.e. 0, 1, 2, ..., [num_class - 1].\n",
      "  warnings.warn(label_encoder_deprecation_msg, UserWarning)\n"
     ]
    },
    {
     "name": "stdout",
     "output_type": "stream",
     "text": [
      "[CV 4/5] END xgb__learning_rate=0.1, xgb__max_depth=8;, score=0.215 total time=   0.8s\n",
      "[15:45:44] WARNING: /var/folders/sy/f16zz6x50xz3113nwtb9bvq00000gp/T/abs_44tbtwf8c1/croots/recipe/xgboost-split_1659548960882/work/src/learner.cc:1115: Starting in XGBoost 1.3.0, the default evaluation metric used with the objective 'binary:logistic' was changed from 'error' to 'logloss'. Explicitly set eval_metric if you'd like to restore the old behavior.\n"
     ]
    },
    {
     "name": "stderr",
     "output_type": "stream",
     "text": [
      "/Users/zachpollatsek/opt/anaconda3/envs/capstone/lib/python3.10/site-packages/xgboost/sklearn.py:1224: UserWarning: The use of label encoder in XGBClassifier is deprecated and will be removed in a future release. To remove this warning, do the following: 1) Pass option use_label_encoder=False when constructing XGBClassifier object; and 2) Encode your labels (y) as integers starting with 0, i.e. 0, 1, 2, ..., [num_class - 1].\n",
      "  warnings.warn(label_encoder_deprecation_msg, UserWarning)\n"
     ]
    },
    {
     "name": "stdout",
     "output_type": "stream",
     "text": [
      "[CV 5/5] END xgb__learning_rate=0.1, xgb__max_depth=8;, score=0.156 total time=   0.8s\n",
      "[15:45:45] WARNING: /var/folders/sy/f16zz6x50xz3113nwtb9bvq00000gp/T/abs_44tbtwf8c1/croots/recipe/xgboost-split_1659548960882/work/src/learner.cc:1115: Starting in XGBoost 1.3.0, the default evaluation metric used with the objective 'binary:logistic' was changed from 'error' to 'logloss'. Explicitly set eval_metric if you'd like to restore the old behavior.\n"
     ]
    },
    {
     "name": "stderr",
     "output_type": "stream",
     "text": [
      "/Users/zachpollatsek/opt/anaconda3/envs/capstone/lib/python3.10/site-packages/xgboost/sklearn.py:1224: UserWarning: The use of label encoder in XGBClassifier is deprecated and will be removed in a future release. To remove this warning, do the following: 1) Pass option use_label_encoder=False when constructing XGBClassifier object; and 2) Encode your labels (y) as integers starting with 0, i.e. 0, 1, 2, ..., [num_class - 1].\n",
      "  warnings.warn(label_encoder_deprecation_msg, UserWarning)\n"
     ]
    },
    {
     "name": "stdout",
     "output_type": "stream",
     "text": [
      "[CV 1/5] END xgb__learning_rate=0.3, xgb__max_depth=2;, score=0.169 total time=   0.2s\n",
      "[15:45:45] WARNING: /var/folders/sy/f16zz6x50xz3113nwtb9bvq00000gp/T/abs_44tbtwf8c1/croots/recipe/xgboost-split_1659548960882/work/src/learner.cc:1115: Starting in XGBoost 1.3.0, the default evaluation metric used with the objective 'binary:logistic' was changed from 'error' to 'logloss'. Explicitly set eval_metric if you'd like to restore the old behavior.\n"
     ]
    },
    {
     "name": "stderr",
     "output_type": "stream",
     "text": [
      "/Users/zachpollatsek/opt/anaconda3/envs/capstone/lib/python3.10/site-packages/xgboost/sklearn.py:1224: UserWarning: The use of label encoder in XGBClassifier is deprecated and will be removed in a future release. To remove this warning, do the following: 1) Pass option use_label_encoder=False when constructing XGBClassifier object; and 2) Encode your labels (y) as integers starting with 0, i.e. 0, 1, 2, ..., [num_class - 1].\n",
      "  warnings.warn(label_encoder_deprecation_msg, UserWarning)\n"
     ]
    },
    {
     "name": "stdout",
     "output_type": "stream",
     "text": [
      "[CV 2/5] END xgb__learning_rate=0.3, xgb__max_depth=2;, score=0.149 total time=   0.2s\n",
      "[15:45:45] WARNING: /var/folders/sy/f16zz6x50xz3113nwtb9bvq00000gp/T/abs_44tbtwf8c1/croots/recipe/xgboost-split_1659548960882/work/src/learner.cc:1115: Starting in XGBoost 1.3.0, the default evaluation metric used with the objective 'binary:logistic' was changed from 'error' to 'logloss'. Explicitly set eval_metric if you'd like to restore the old behavior.\n"
     ]
    },
    {
     "name": "stderr",
     "output_type": "stream",
     "text": [
      "/Users/zachpollatsek/opt/anaconda3/envs/capstone/lib/python3.10/site-packages/xgboost/sklearn.py:1224: UserWarning: The use of label encoder in XGBClassifier is deprecated and will be removed in a future release. To remove this warning, do the following: 1) Pass option use_label_encoder=False when constructing XGBClassifier object; and 2) Encode your labels (y) as integers starting with 0, i.e. 0, 1, 2, ..., [num_class - 1].\n",
      "  warnings.warn(label_encoder_deprecation_msg, UserWarning)\n"
     ]
    },
    {
     "name": "stdout",
     "output_type": "stream",
     "text": [
      "[CV 3/5] END xgb__learning_rate=0.3, xgb__max_depth=2;, score=0.229 total time=   0.2s\n",
      "[15:45:46] WARNING: /var/folders/sy/f16zz6x50xz3113nwtb9bvq00000gp/T/abs_44tbtwf8c1/croots/recipe/xgboost-split_1659548960882/work/src/learner.cc:1115: Starting in XGBoost 1.3.0, the default evaluation metric used with the objective 'binary:logistic' was changed from 'error' to 'logloss'. Explicitly set eval_metric if you'd like to restore the old behavior.\n"
     ]
    },
    {
     "name": "stderr",
     "output_type": "stream",
     "text": [
      "/Users/zachpollatsek/opt/anaconda3/envs/capstone/lib/python3.10/site-packages/xgboost/sklearn.py:1224: UserWarning: The use of label encoder in XGBClassifier is deprecated and will be removed in a future release. To remove this warning, do the following: 1) Pass option use_label_encoder=False when constructing XGBClassifier object; and 2) Encode your labels (y) as integers starting with 0, i.e. 0, 1, 2, ..., [num_class - 1].\n",
      "  warnings.warn(label_encoder_deprecation_msg, UserWarning)\n"
     ]
    },
    {
     "name": "stdout",
     "output_type": "stream",
     "text": [
      "[CV 4/5] END xgb__learning_rate=0.3, xgb__max_depth=2;, score=0.211 total time=   0.2s\n",
      "[15:45:46] WARNING: /var/folders/sy/f16zz6x50xz3113nwtb9bvq00000gp/T/abs_44tbtwf8c1/croots/recipe/xgboost-split_1659548960882/work/src/learner.cc:1115: Starting in XGBoost 1.3.0, the default evaluation metric used with the objective 'binary:logistic' was changed from 'error' to 'logloss'. Explicitly set eval_metric if you'd like to restore the old behavior.\n",
      "[CV 5/5] END xgb__learning_rate=0.3, xgb__max_depth=2;, score=0.243 total time=   0.2s\n"
     ]
    },
    {
     "name": "stderr",
     "output_type": "stream",
     "text": [
      "/Users/zachpollatsek/opt/anaconda3/envs/capstone/lib/python3.10/site-packages/xgboost/sklearn.py:1224: UserWarning: The use of label encoder in XGBClassifier is deprecated and will be removed in a future release. To remove this warning, do the following: 1) Pass option use_label_encoder=False when constructing XGBClassifier object; and 2) Encode your labels (y) as integers starting with 0, i.e. 0, 1, 2, ..., [num_class - 1].\n",
      "  warnings.warn(label_encoder_deprecation_msg, UserWarning)\n",
      "/Users/zachpollatsek/opt/anaconda3/envs/capstone/lib/python3.10/site-packages/xgboost/sklearn.py:1224: UserWarning: The use of label encoder in XGBClassifier is deprecated and will be removed in a future release. To remove this warning, do the following: 1) Pass option use_label_encoder=False when constructing XGBClassifier object; and 2) Encode your labels (y) as integers starting with 0, i.e. 0, 1, 2, ..., [num_class - 1].\n",
      "  warnings.warn(label_encoder_deprecation_msg, UserWarning)\n"
     ]
    },
    {
     "name": "stdout",
     "output_type": "stream",
     "text": [
      "[15:45:46] WARNING: /var/folders/sy/f16zz6x50xz3113nwtb9bvq00000gp/T/abs_44tbtwf8c1/croots/recipe/xgboost-split_1659548960882/work/src/learner.cc:1115: Starting in XGBoost 1.3.0, the default evaluation metric used with the objective 'binary:logistic' was changed from 'error' to 'logloss'. Explicitly set eval_metric if you'd like to restore the old behavior.\n",
      "[CV 1/5] END xgb__learning_rate=0.3, xgb__max_depth=4;, score=0.222 total time=   0.4s\n",
      "[15:45:46] WARNING: /var/folders/sy/f16zz6x50xz3113nwtb9bvq00000gp/T/abs_44tbtwf8c1/croots/recipe/xgboost-split_1659548960882/work/src/learner.cc:1115: Starting in XGBoost 1.3.0, the default evaluation metric used with the objective 'binary:logistic' was changed from 'error' to 'logloss'. Explicitly set eval_metric if you'd like to restore the old behavior.\n"
     ]
    },
    {
     "name": "stderr",
     "output_type": "stream",
     "text": [
      "/Users/zachpollatsek/opt/anaconda3/envs/capstone/lib/python3.10/site-packages/xgboost/sklearn.py:1224: UserWarning: The use of label encoder in XGBClassifier is deprecated and will be removed in a future release. To remove this warning, do the following: 1) Pass option use_label_encoder=False when constructing XGBClassifier object; and 2) Encode your labels (y) as integers starting with 0, i.e. 0, 1, 2, ..., [num_class - 1].\n",
      "  warnings.warn(label_encoder_deprecation_msg, UserWarning)\n"
     ]
    },
    {
     "name": "stdout",
     "output_type": "stream",
     "text": [
      "[CV 2/5] END xgb__learning_rate=0.3, xgb__max_depth=4;, score=0.185 total time=   0.4s\n",
      "[15:45:47] WARNING: /var/folders/sy/f16zz6x50xz3113nwtb9bvq00000gp/T/abs_44tbtwf8c1/croots/recipe/xgboost-split_1659548960882/work/src/learner.cc:1115: Starting in XGBoost 1.3.0, the default evaluation metric used with the objective 'binary:logistic' was changed from 'error' to 'logloss'. Explicitly set eval_metric if you'd like to restore the old behavior.\n"
     ]
    },
    {
     "name": "stderr",
     "output_type": "stream",
     "text": [
      "/Users/zachpollatsek/opt/anaconda3/envs/capstone/lib/python3.10/site-packages/xgboost/sklearn.py:1224: UserWarning: The use of label encoder in XGBClassifier is deprecated and will be removed in a future release. To remove this warning, do the following: 1) Pass option use_label_encoder=False when constructing XGBClassifier object; and 2) Encode your labels (y) as integers starting with 0, i.e. 0, 1, 2, ..., [num_class - 1].\n",
      "  warnings.warn(label_encoder_deprecation_msg, UserWarning)\n"
     ]
    },
    {
     "name": "stdout",
     "output_type": "stream",
     "text": [
      "[CV 3/5] END xgb__learning_rate=0.3, xgb__max_depth=4;, score=0.154 total time=   0.4s\n",
      "[15:45:47] WARNING: /var/folders/sy/f16zz6x50xz3113nwtb9bvq00000gp/T/abs_44tbtwf8c1/croots/recipe/xgboost-split_1659548960882/work/src/learner.cc:1115: Starting in XGBoost 1.3.0, the default evaluation metric used with the objective 'binary:logistic' was changed from 'error' to 'logloss'. Explicitly set eval_metric if you'd like to restore the old behavior.\n"
     ]
    },
    {
     "name": "stderr",
     "output_type": "stream",
     "text": [
      "/Users/zachpollatsek/opt/anaconda3/envs/capstone/lib/python3.10/site-packages/xgboost/sklearn.py:1224: UserWarning: The use of label encoder in XGBClassifier is deprecated and will be removed in a future release. To remove this warning, do the following: 1) Pass option use_label_encoder=False when constructing XGBClassifier object; and 2) Encode your labels (y) as integers starting with 0, i.e. 0, 1, 2, ..., [num_class - 1].\n",
      "  warnings.warn(label_encoder_deprecation_msg, UserWarning)\n"
     ]
    },
    {
     "name": "stdout",
     "output_type": "stream",
     "text": [
      "[CV 4/5] END xgb__learning_rate=0.3, xgb__max_depth=4;, score=0.242 total time=   0.6s\n",
      "[15:45:48] WARNING: /var/folders/sy/f16zz6x50xz3113nwtb9bvq00000gp/T/abs_44tbtwf8c1/croots/recipe/xgboost-split_1659548960882/work/src/learner.cc:1115: Starting in XGBoost 1.3.0, the default evaluation metric used with the objective 'binary:logistic' was changed from 'error' to 'logloss'. Explicitly set eval_metric if you'd like to restore the old behavior.\n"
     ]
    },
    {
     "name": "stderr",
     "output_type": "stream",
     "text": [
      "/Users/zachpollatsek/opt/anaconda3/envs/capstone/lib/python3.10/site-packages/xgboost/sklearn.py:1224: UserWarning: The use of label encoder in XGBClassifier is deprecated and will be removed in a future release. To remove this warning, do the following: 1) Pass option use_label_encoder=False when constructing XGBClassifier object; and 2) Encode your labels (y) as integers starting with 0, i.e. 0, 1, 2, ..., [num_class - 1].\n",
      "  warnings.warn(label_encoder_deprecation_msg, UserWarning)\n"
     ]
    },
    {
     "name": "stdout",
     "output_type": "stream",
     "text": [
      "[CV 5/5] END xgb__learning_rate=0.3, xgb__max_depth=4;, score=0.233 total time=   0.6s\n",
      "[15:45:48] WARNING: /var/folders/sy/f16zz6x50xz3113nwtb9bvq00000gp/T/abs_44tbtwf8c1/croots/recipe/xgboost-split_1659548960882/work/src/learner.cc:1115: Starting in XGBoost 1.3.0, the default evaluation metric used with the objective 'binary:logistic' was changed from 'error' to 'logloss'. Explicitly set eval_metric if you'd like to restore the old behavior.\n"
     ]
    },
    {
     "name": "stderr",
     "output_type": "stream",
     "text": [
      "/Users/zachpollatsek/opt/anaconda3/envs/capstone/lib/python3.10/site-packages/xgboost/sklearn.py:1224: UserWarning: The use of label encoder in XGBClassifier is deprecated and will be removed in a future release. To remove this warning, do the following: 1) Pass option use_label_encoder=False when constructing XGBClassifier object; and 2) Encode your labels (y) as integers starting with 0, i.e. 0, 1, 2, ..., [num_class - 1].\n",
      "  warnings.warn(label_encoder_deprecation_msg, UserWarning)\n"
     ]
    },
    {
     "name": "stdout",
     "output_type": "stream",
     "text": [
      "[CV 1/5] END xgb__learning_rate=0.3, xgb__max_depth=6;, score=0.200 total time=   0.7s\n",
      "[15:45:49] WARNING: /var/folders/sy/f16zz6x50xz3113nwtb9bvq00000gp/T/abs_44tbtwf8c1/croots/recipe/xgboost-split_1659548960882/work/src/learner.cc:1115: Starting in XGBoost 1.3.0, the default evaluation metric used with the objective 'binary:logistic' was changed from 'error' to 'logloss'. Explicitly set eval_metric if you'd like to restore the old behavior.\n"
     ]
    },
    {
     "name": "stderr",
     "output_type": "stream",
     "text": [
      "/Users/zachpollatsek/opt/anaconda3/envs/capstone/lib/python3.10/site-packages/xgboost/sklearn.py:1224: UserWarning: The use of label encoder in XGBClassifier is deprecated and will be removed in a future release. To remove this warning, do the following: 1) Pass option use_label_encoder=False when constructing XGBClassifier object; and 2) Encode your labels (y) as integers starting with 0, i.e. 0, 1, 2, ..., [num_class - 1].\n",
      "  warnings.warn(label_encoder_deprecation_msg, UserWarning)\n"
     ]
    },
    {
     "name": "stdout",
     "output_type": "stream",
     "text": [
      "[CV 2/5] END xgb__learning_rate=0.3, xgb__max_depth=6;, score=0.214 total time=   0.7s\n",
      "[15:45:50] WARNING: /var/folders/sy/f16zz6x50xz3113nwtb9bvq00000gp/T/abs_44tbtwf8c1/croots/recipe/xgboost-split_1659548960882/work/src/learner.cc:1115: Starting in XGBoost 1.3.0, the default evaluation metric used with the objective 'binary:logistic' was changed from 'error' to 'logloss'. Explicitly set eval_metric if you'd like to restore the old behavior.\n"
     ]
    },
    {
     "name": "stderr",
     "output_type": "stream",
     "text": [
      "/Users/zachpollatsek/opt/anaconda3/envs/capstone/lib/python3.10/site-packages/xgboost/sklearn.py:1224: UserWarning: The use of label encoder in XGBClassifier is deprecated and will be removed in a future release. To remove this warning, do the following: 1) Pass option use_label_encoder=False when constructing XGBClassifier object; and 2) Encode your labels (y) as integers starting with 0, i.e. 0, 1, 2, ..., [num_class - 1].\n",
      "  warnings.warn(label_encoder_deprecation_msg, UserWarning)\n"
     ]
    },
    {
     "name": "stdout",
     "output_type": "stream",
     "text": [
      "[CV 3/5] END xgb__learning_rate=0.3, xgb__max_depth=6;, score=0.239 total time=   0.6s\n",
      "[15:45:50] WARNING: /var/folders/sy/f16zz6x50xz3113nwtb9bvq00000gp/T/abs_44tbtwf8c1/croots/recipe/xgboost-split_1659548960882/work/src/learner.cc:1115: Starting in XGBoost 1.3.0, the default evaluation metric used with the objective 'binary:logistic' was changed from 'error' to 'logloss'. Explicitly set eval_metric if you'd like to restore the old behavior.\n"
     ]
    },
    {
     "name": "stderr",
     "output_type": "stream",
     "text": [
      "/Users/zachpollatsek/opt/anaconda3/envs/capstone/lib/python3.10/site-packages/xgboost/sklearn.py:1224: UserWarning: The use of label encoder in XGBClassifier is deprecated and will be removed in a future release. To remove this warning, do the following: 1) Pass option use_label_encoder=False when constructing XGBClassifier object; and 2) Encode your labels (y) as integers starting with 0, i.e. 0, 1, 2, ..., [num_class - 1].\n",
      "  warnings.warn(label_encoder_deprecation_msg, UserWarning)\n"
     ]
    },
    {
     "name": "stdout",
     "output_type": "stream",
     "text": [
      "[CV 4/5] END xgb__learning_rate=0.3, xgb__max_depth=6;, score=0.185 total time=   0.8s\n",
      "[15:45:51] WARNING: /var/folders/sy/f16zz6x50xz3113nwtb9bvq00000gp/T/abs_44tbtwf8c1/croots/recipe/xgboost-split_1659548960882/work/src/learner.cc:1115: Starting in XGBoost 1.3.0, the default evaluation metric used with the objective 'binary:logistic' was changed from 'error' to 'logloss'. Explicitly set eval_metric if you'd like to restore the old behavior.\n"
     ]
    },
    {
     "name": "stderr",
     "output_type": "stream",
     "text": [
      "/Users/zachpollatsek/opt/anaconda3/envs/capstone/lib/python3.10/site-packages/xgboost/sklearn.py:1224: UserWarning: The use of label encoder in XGBClassifier is deprecated and will be removed in a future release. To remove this warning, do the following: 1) Pass option use_label_encoder=False when constructing XGBClassifier object; and 2) Encode your labels (y) as integers starting with 0, i.e. 0, 1, 2, ..., [num_class - 1].\n",
      "  warnings.warn(label_encoder_deprecation_msg, UserWarning)\n"
     ]
    },
    {
     "name": "stdout",
     "output_type": "stream",
     "text": [
      "[CV 5/5] END xgb__learning_rate=0.3, xgb__max_depth=6;, score=0.145 total time=   0.7s\n",
      "[15:45:52] WARNING: /var/folders/sy/f16zz6x50xz3113nwtb9bvq00000gp/T/abs_44tbtwf8c1/croots/recipe/xgboost-split_1659548960882/work/src/learner.cc:1115: Starting in XGBoost 1.3.0, the default evaluation metric used with the objective 'binary:logistic' was changed from 'error' to 'logloss'. Explicitly set eval_metric if you'd like to restore the old behavior.\n"
     ]
    },
    {
     "name": "stderr",
     "output_type": "stream",
     "text": [
      "/Users/zachpollatsek/opt/anaconda3/envs/capstone/lib/python3.10/site-packages/xgboost/sklearn.py:1224: UserWarning: The use of label encoder in XGBClassifier is deprecated and will be removed in a future release. To remove this warning, do the following: 1) Pass option use_label_encoder=False when constructing XGBClassifier object; and 2) Encode your labels (y) as integers starting with 0, i.e. 0, 1, 2, ..., [num_class - 1].\n",
      "  warnings.warn(label_encoder_deprecation_msg, UserWarning)\n"
     ]
    },
    {
     "name": "stdout",
     "output_type": "stream",
     "text": [
      "[CV 1/5] END xgb__learning_rate=0.3, xgb__max_depth=8;, score=0.087 total time=   0.9s\n",
      "[15:45:53] WARNING: /var/folders/sy/f16zz6x50xz3113nwtb9bvq00000gp/T/abs_44tbtwf8c1/croots/recipe/xgboost-split_1659548960882/work/src/learner.cc:1115: Starting in XGBoost 1.3.0, the default evaluation metric used with the objective 'binary:logistic' was changed from 'error' to 'logloss'. Explicitly set eval_metric if you'd like to restore the old behavior.\n"
     ]
    },
    {
     "name": "stderr",
     "output_type": "stream",
     "text": [
      "/Users/zachpollatsek/opt/anaconda3/envs/capstone/lib/python3.10/site-packages/xgboost/sklearn.py:1224: UserWarning: The use of label encoder in XGBClassifier is deprecated and will be removed in a future release. To remove this warning, do the following: 1) Pass option use_label_encoder=False when constructing XGBClassifier object; and 2) Encode your labels (y) as integers starting with 0, i.e. 0, 1, 2, ..., [num_class - 1].\n",
      "  warnings.warn(label_encoder_deprecation_msg, UserWarning)\n"
     ]
    },
    {
     "name": "stdout",
     "output_type": "stream",
     "text": [
      "[CV 2/5] END xgb__learning_rate=0.3, xgb__max_depth=8;, score=0.160 total time=   0.9s\n",
      "[15:45:54] WARNING: /var/folders/sy/f16zz6x50xz3113nwtb9bvq00000gp/T/abs_44tbtwf8c1/croots/recipe/xgboost-split_1659548960882/work/src/learner.cc:1115: Starting in XGBoost 1.3.0, the default evaluation metric used with the objective 'binary:logistic' was changed from 'error' to 'logloss'. Explicitly set eval_metric if you'd like to restore the old behavior.\n"
     ]
    },
    {
     "name": "stderr",
     "output_type": "stream",
     "text": [
      "/Users/zachpollatsek/opt/anaconda3/envs/capstone/lib/python3.10/site-packages/xgboost/sklearn.py:1224: UserWarning: The use of label encoder in XGBClassifier is deprecated and will be removed in a future release. To remove this warning, do the following: 1) Pass option use_label_encoder=False when constructing XGBClassifier object; and 2) Encode your labels (y) as integers starting with 0, i.e. 0, 1, 2, ..., [num_class - 1].\n",
      "  warnings.warn(label_encoder_deprecation_msg, UserWarning)\n"
     ]
    },
    {
     "name": "stdout",
     "output_type": "stream",
     "text": [
      "[CV 3/5] END xgb__learning_rate=0.3, xgb__max_depth=8;, score=0.212 total time=   1.0s\n",
      "[15:45:55] WARNING: /var/folders/sy/f16zz6x50xz3113nwtb9bvq00000gp/T/abs_44tbtwf8c1/croots/recipe/xgboost-split_1659548960882/work/src/learner.cc:1115: Starting in XGBoost 1.3.0, the default evaluation metric used with the objective 'binary:logistic' was changed from 'error' to 'logloss'. Explicitly set eval_metric if you'd like to restore the old behavior.\n"
     ]
    },
    {
     "name": "stderr",
     "output_type": "stream",
     "text": [
      "/Users/zachpollatsek/opt/anaconda3/envs/capstone/lib/python3.10/site-packages/xgboost/sklearn.py:1224: UserWarning: The use of label encoder in XGBClassifier is deprecated and will be removed in a future release. To remove this warning, do the following: 1) Pass option use_label_encoder=False when constructing XGBClassifier object; and 2) Encode your labels (y) as integers starting with 0, i.e. 0, 1, 2, ..., [num_class - 1].\n",
      "  warnings.warn(label_encoder_deprecation_msg, UserWarning)\n"
     ]
    },
    {
     "name": "stdout",
     "output_type": "stream",
     "text": [
      "[CV 4/5] END xgb__learning_rate=0.3, xgb__max_depth=8;, score=0.222 total time=   1.1s\n",
      "[15:45:56] WARNING: /var/folders/sy/f16zz6x50xz3113nwtb9bvq00000gp/T/abs_44tbtwf8c1/croots/recipe/xgboost-split_1659548960882/work/src/learner.cc:1115: Starting in XGBoost 1.3.0, the default evaluation metric used with the objective 'binary:logistic' was changed from 'error' to 'logloss'. Explicitly set eval_metric if you'd like to restore the old behavior.\n"
     ]
    },
    {
     "name": "stderr",
     "output_type": "stream",
     "text": [
      "/Users/zachpollatsek/opt/anaconda3/envs/capstone/lib/python3.10/site-packages/xgboost/sklearn.py:1224: UserWarning: The use of label encoder in XGBClassifier is deprecated and will be removed in a future release. To remove this warning, do the following: 1) Pass option use_label_encoder=False when constructing XGBClassifier object; and 2) Encode your labels (y) as integers starting with 0, i.e. 0, 1, 2, ..., [num_class - 1].\n",
      "  warnings.warn(label_encoder_deprecation_msg, UserWarning)\n"
     ]
    },
    {
     "name": "stdout",
     "output_type": "stream",
     "text": [
      "[CV 5/5] END xgb__learning_rate=0.3, xgb__max_depth=8;, score=0.103 total time=   0.9s\n",
      "[15:45:57] WARNING: /var/folders/sy/f16zz6x50xz3113nwtb9bvq00000gp/T/abs_44tbtwf8c1/croots/recipe/xgboost-split_1659548960882/work/src/learner.cc:1115: Starting in XGBoost 1.3.0, the default evaluation metric used with the objective 'binary:logistic' was changed from 'error' to 'logloss'. Explicitly set eval_metric if you'd like to restore the old behavior.\n"
     ]
    },
    {
     "name": "stderr",
     "output_type": "stream",
     "text": [
      "/Users/zachpollatsek/opt/anaconda3/envs/capstone/lib/python3.10/site-packages/xgboost/sklearn.py:1224: UserWarning: The use of label encoder in XGBClassifier is deprecated and will be removed in a future release. To remove this warning, do the following: 1) Pass option use_label_encoder=False when constructing XGBClassifier object; and 2) Encode your labels (y) as integers starting with 0, i.e. 0, 1, 2, ..., [num_class - 1].\n",
      "  warnings.warn(label_encoder_deprecation_msg, UserWarning)\n"
     ]
    },
    {
     "data": {
      "text/html": [
       "<style>#sk-container-id-3 {color: black;background-color: white;}#sk-container-id-3 pre{padding: 0;}#sk-container-id-3 div.sk-toggleable {background-color: white;}#sk-container-id-3 label.sk-toggleable__label {cursor: pointer;display: block;width: 100%;margin-bottom: 0;padding: 0.3em;box-sizing: border-box;text-align: center;}#sk-container-id-3 label.sk-toggleable__label-arrow:before {content: \"▸\";float: left;margin-right: 0.25em;color: #696969;}#sk-container-id-3 label.sk-toggleable__label-arrow:hover:before {color: black;}#sk-container-id-3 div.sk-estimator:hover label.sk-toggleable__label-arrow:before {color: black;}#sk-container-id-3 div.sk-toggleable__content {max-height: 0;max-width: 0;overflow: hidden;text-align: left;background-color: #f0f8ff;}#sk-container-id-3 div.sk-toggleable__content pre {margin: 0.2em;color: black;border-radius: 0.25em;background-color: #f0f8ff;}#sk-container-id-3 input.sk-toggleable__control:checked~div.sk-toggleable__content {max-height: 200px;max-width: 100%;overflow: auto;}#sk-container-id-3 input.sk-toggleable__control:checked~label.sk-toggleable__label-arrow:before {content: \"▾\";}#sk-container-id-3 div.sk-estimator input.sk-toggleable__control:checked~label.sk-toggleable__label {background-color: #d4ebff;}#sk-container-id-3 div.sk-label input.sk-toggleable__control:checked~label.sk-toggleable__label {background-color: #d4ebff;}#sk-container-id-3 input.sk-hidden--visually {border: 0;clip: rect(1px 1px 1px 1px);clip: rect(1px, 1px, 1px, 1px);height: 1px;margin: -1px;overflow: hidden;padding: 0;position: absolute;width: 1px;}#sk-container-id-3 div.sk-estimator {font-family: monospace;background-color: #f0f8ff;border: 1px dotted black;border-radius: 0.25em;box-sizing: border-box;margin-bottom: 0.5em;}#sk-container-id-3 div.sk-estimator:hover {background-color: #d4ebff;}#sk-container-id-3 div.sk-parallel-item::after {content: \"\";width: 100%;border-bottom: 1px solid gray;flex-grow: 1;}#sk-container-id-3 div.sk-label:hover label.sk-toggleable__label {background-color: #d4ebff;}#sk-container-id-3 div.sk-serial::before {content: \"\";position: absolute;border-left: 1px solid gray;box-sizing: border-box;top: 0;bottom: 0;left: 50%;z-index: 0;}#sk-container-id-3 div.sk-serial {display: flex;flex-direction: column;align-items: center;background-color: white;padding-right: 0.2em;padding-left: 0.2em;position: relative;}#sk-container-id-3 div.sk-item {position: relative;z-index: 1;}#sk-container-id-3 div.sk-parallel {display: flex;align-items: stretch;justify-content: center;background-color: white;position: relative;}#sk-container-id-3 div.sk-item::before, #sk-container-id-3 div.sk-parallel-item::before {content: \"\";position: absolute;border-left: 1px solid gray;box-sizing: border-box;top: 0;bottom: 0;left: 50%;z-index: -1;}#sk-container-id-3 div.sk-parallel-item {display: flex;flex-direction: column;z-index: 1;position: relative;background-color: white;}#sk-container-id-3 div.sk-parallel-item:first-child::after {align-self: flex-end;width: 50%;}#sk-container-id-3 div.sk-parallel-item:last-child::after {align-self: flex-start;width: 50%;}#sk-container-id-3 div.sk-parallel-item:only-child::after {width: 0;}#sk-container-id-3 div.sk-dashed-wrapped {border: 1px dashed gray;margin: 0 0.4em 0.5em 0.4em;box-sizing: border-box;padding-bottom: 0.4em;background-color: white;}#sk-container-id-3 div.sk-label label {font-family: monospace;font-weight: bold;display: inline-block;line-height: 1.2em;}#sk-container-id-3 div.sk-label-container {text-align: center;}#sk-container-id-3 div.sk-container {/* jupyter's `normalize.less` sets `[hidden] { display: none; }` but bootstrap.min.css set `[hidden] { display: none !important; }` so we also need the `!important` here to be able to override the default hidden behavior on the sphinx rendered scikit-learn.org. See: https://github.com/scikit-learn/scikit-learn/issues/21755 */display: inline-block !important;position: relative;}#sk-container-id-3 div.sk-text-repr-fallback {display: none;}</style><div id=\"sk-container-id-3\" class=\"sk-top-container\"><div class=\"sk-text-repr-fallback\"><pre>GridSearchCV(estimator=Pipeline(steps=[(&#x27;CT&#x27;,\n",
       "                                        ColumnTransformer(transformers=[(&#x27;subpipe_num&#x27;,\n",
       "                                                                         Pipeline(steps=[(&#x27;ss&#x27;,\n",
       "                                                                                          StandardScaler())]),\n",
       "                                                                         [1, 7,\n",
       "                                                                          8]),\n",
       "                                                                        (&#x27;subpipe_cat&#x27;,\n",
       "                                                                         Pipeline(steps=[(&#x27;ohe&#x27;,\n",
       "                                                                                          OneHotEncoder(handle_unknown=&#x27;ignore&#x27;,\n",
       "                                                                                                        sparse=False))]),\n",
       "                                                                         [0, 2,\n",
       "                                                                          3, 4,\n",
       "                                                                          5, 6,\n",
       "                                                                          9])])),\n",
       "                                       (&#x27;SM&#x27;,\n",
       "                                        SMOTE(random_state=42,\n",
       "                                              sampling_strategy=&#x27;minority&#x27;)),\n",
       "                                       (&#x27;xgb&#x27;,\n",
       "                                        XGBClassifier(base_score=Non...\n",
       "                                                      min_child_weight=None,\n",
       "                                                      missing=nan,\n",
       "                                                      monotone_constraints=None,\n",
       "                                                      n_estimators=100,\n",
       "                                                      n_jobs=None,\n",
       "                                                      num_parallel_tree=None,\n",
       "                                                      predictor=None,\n",
       "                                                      random_state=42,\n",
       "                                                      reg_alpha=None,\n",
       "                                                      reg_lambda=None,\n",
       "                                                      scale_pos_weight=None,\n",
       "                                                      subsample=None,\n",
       "                                                      tree_method=None,\n",
       "                                                      validate_parameters=None,\n",
       "                                                      verbosity=None))]),\n",
       "             param_grid={&#x27;xgb__learning_rate&#x27;: [0.05, 0.1, 0.3],\n",
       "                         &#x27;xgb__max_depth&#x27;: [2, 4, 6, 8]},\n",
       "             scoring=&#x27;f1&#x27;, verbose=3)</pre><b>In a Jupyter environment, please rerun this cell to show the HTML representation or trust the notebook. <br />On GitHub, the HTML representation is unable to render, please try loading this page with nbviewer.org.</b></div><div class=\"sk-container\" hidden><div class=\"sk-item sk-dashed-wrapped\"><div class=\"sk-label-container\"><div class=\"sk-label sk-toggleable\"><input class=\"sk-toggleable__control sk-hidden--visually\" id=\"sk-estimator-id-11\" type=\"checkbox\" ><label for=\"sk-estimator-id-11\" class=\"sk-toggleable__label sk-toggleable__label-arrow\">GridSearchCV</label><div class=\"sk-toggleable__content\"><pre>GridSearchCV(estimator=Pipeline(steps=[(&#x27;CT&#x27;,\n",
       "                                        ColumnTransformer(transformers=[(&#x27;subpipe_num&#x27;,\n",
       "                                                                         Pipeline(steps=[(&#x27;ss&#x27;,\n",
       "                                                                                          StandardScaler())]),\n",
       "                                                                         [1, 7,\n",
       "                                                                          8]),\n",
       "                                                                        (&#x27;subpipe_cat&#x27;,\n",
       "                                                                         Pipeline(steps=[(&#x27;ohe&#x27;,\n",
       "                                                                                          OneHotEncoder(handle_unknown=&#x27;ignore&#x27;,\n",
       "                                                                                                        sparse=False))]),\n",
       "                                                                         [0, 2,\n",
       "                                                                          3, 4,\n",
       "                                                                          5, 6,\n",
       "                                                                          9])])),\n",
       "                                       (&#x27;SM&#x27;,\n",
       "                                        SMOTE(random_state=42,\n",
       "                                              sampling_strategy=&#x27;minority&#x27;)),\n",
       "                                       (&#x27;xgb&#x27;,\n",
       "                                        XGBClassifier(base_score=Non...\n",
       "                                                      min_child_weight=None,\n",
       "                                                      missing=nan,\n",
       "                                                      monotone_constraints=None,\n",
       "                                                      n_estimators=100,\n",
       "                                                      n_jobs=None,\n",
       "                                                      num_parallel_tree=None,\n",
       "                                                      predictor=None,\n",
       "                                                      random_state=42,\n",
       "                                                      reg_alpha=None,\n",
       "                                                      reg_lambda=None,\n",
       "                                                      scale_pos_weight=None,\n",
       "                                                      subsample=None,\n",
       "                                                      tree_method=None,\n",
       "                                                      validate_parameters=None,\n",
       "                                                      verbosity=None))]),\n",
       "             param_grid={&#x27;xgb__learning_rate&#x27;: [0.05, 0.1, 0.3],\n",
       "                         &#x27;xgb__max_depth&#x27;: [2, 4, 6, 8]},\n",
       "             scoring=&#x27;f1&#x27;, verbose=3)</pre></div></div></div><div class=\"sk-parallel\"><div class=\"sk-parallel-item\"><div class=\"sk-item\"><div class=\"sk-label-container\"><div class=\"sk-label sk-toggleable\"><input class=\"sk-toggleable__control sk-hidden--visually\" id=\"sk-estimator-id-12\" type=\"checkbox\" ><label for=\"sk-estimator-id-12\" class=\"sk-toggleable__label sk-toggleable__label-arrow\">estimator: Pipeline</label><div class=\"sk-toggleable__content\"><pre>Pipeline(steps=[(&#x27;CT&#x27;,\n",
       "                 ColumnTransformer(transformers=[(&#x27;subpipe_num&#x27;,\n",
       "                                                  Pipeline(steps=[(&#x27;ss&#x27;,\n",
       "                                                                   StandardScaler())]),\n",
       "                                                  [1, 7, 8]),\n",
       "                                                 (&#x27;subpipe_cat&#x27;,\n",
       "                                                  Pipeline(steps=[(&#x27;ohe&#x27;,\n",
       "                                                                   OneHotEncoder(handle_unknown=&#x27;ignore&#x27;,\n",
       "                                                                                 sparse=False))]),\n",
       "                                                  [0, 2, 3, 4, 5, 6, 9])])),\n",
       "                (&#x27;SM&#x27;, SMOTE(random_state=42, sampling_strategy=&#x27;minority&#x27;)),\n",
       "                (&#x27;xgb&#x27;,\n",
       "                 XGBClassifier(base_score=None, booster=None,\n",
       "                               colsampl...\n",
       "                               interaction_constraints=None, learning_rate=None,\n",
       "                               max_delta_step=None, max_depth=None,\n",
       "                               min_child_weight=None, missing=nan,\n",
       "                               monotone_constraints=None, n_estimators=100,\n",
       "                               n_jobs=None, num_parallel_tree=None,\n",
       "                               predictor=None, random_state=42, reg_alpha=None,\n",
       "                               reg_lambda=None, scale_pos_weight=None,\n",
       "                               subsample=None, tree_method=None,\n",
       "                               validate_parameters=None, verbosity=None))])</pre></div></div></div><div class=\"sk-serial\"><div class=\"sk-item\"><div class=\"sk-serial\"><div class=\"sk-item sk-dashed-wrapped\"><div class=\"sk-label-container\"><div class=\"sk-label sk-toggleable\"><input class=\"sk-toggleable__control sk-hidden--visually\" id=\"sk-estimator-id-13\" type=\"checkbox\" ><label for=\"sk-estimator-id-13\" class=\"sk-toggleable__label sk-toggleable__label-arrow\">CT: ColumnTransformer</label><div class=\"sk-toggleable__content\"><pre>ColumnTransformer(transformers=[(&#x27;subpipe_num&#x27;,\n",
       "                                 Pipeline(steps=[(&#x27;ss&#x27;, StandardScaler())]),\n",
       "                                 [1, 7, 8]),\n",
       "                                (&#x27;subpipe_cat&#x27;,\n",
       "                                 Pipeline(steps=[(&#x27;ohe&#x27;,\n",
       "                                                  OneHotEncoder(handle_unknown=&#x27;ignore&#x27;,\n",
       "                                                                sparse=False))]),\n",
       "                                 [0, 2, 3, 4, 5, 6, 9])])</pre></div></div></div><div class=\"sk-parallel\"><div class=\"sk-parallel-item\"><div class=\"sk-item\"><div class=\"sk-label-container\"><div class=\"sk-label sk-toggleable\"><input class=\"sk-toggleable__control sk-hidden--visually\" id=\"sk-estimator-id-14\" type=\"checkbox\" ><label for=\"sk-estimator-id-14\" class=\"sk-toggleable__label sk-toggleable__label-arrow\">subpipe_num</label><div class=\"sk-toggleable__content\"><pre>[1, 7, 8]</pre></div></div></div><div class=\"sk-serial\"><div class=\"sk-item\"><div class=\"sk-serial\"><div class=\"sk-item\"><div class=\"sk-estimator sk-toggleable\"><input class=\"sk-toggleable__control sk-hidden--visually\" id=\"sk-estimator-id-15\" type=\"checkbox\" ><label for=\"sk-estimator-id-15\" class=\"sk-toggleable__label sk-toggleable__label-arrow\">StandardScaler</label><div class=\"sk-toggleable__content\"><pre>StandardScaler()</pre></div></div></div></div></div></div></div></div><div class=\"sk-parallel-item\"><div class=\"sk-item\"><div class=\"sk-label-container\"><div class=\"sk-label sk-toggleable\"><input class=\"sk-toggleable__control sk-hidden--visually\" id=\"sk-estimator-id-16\" type=\"checkbox\" ><label for=\"sk-estimator-id-16\" class=\"sk-toggleable__label sk-toggleable__label-arrow\">subpipe_cat</label><div class=\"sk-toggleable__content\"><pre>[0, 2, 3, 4, 5, 6, 9]</pre></div></div></div><div class=\"sk-serial\"><div class=\"sk-item\"><div class=\"sk-serial\"><div class=\"sk-item\"><div class=\"sk-estimator sk-toggleable\"><input class=\"sk-toggleable__control sk-hidden--visually\" id=\"sk-estimator-id-17\" type=\"checkbox\" ><label for=\"sk-estimator-id-17\" class=\"sk-toggleable__label sk-toggleable__label-arrow\">OneHotEncoder</label><div class=\"sk-toggleable__content\"><pre>OneHotEncoder(handle_unknown=&#x27;ignore&#x27;, sparse=False)</pre></div></div></div></div></div></div></div></div></div></div><div class=\"sk-item\"><div class=\"sk-estimator sk-toggleable\"><input class=\"sk-toggleable__control sk-hidden--visually\" id=\"sk-estimator-id-18\" type=\"checkbox\" ><label for=\"sk-estimator-id-18\" class=\"sk-toggleable__label sk-toggleable__label-arrow\">SMOTE</label><div class=\"sk-toggleable__content\"><pre>SMOTE(random_state=42, sampling_strategy=&#x27;minority&#x27;)</pre></div></div></div><div class=\"sk-item\"><div class=\"sk-estimator sk-toggleable\"><input class=\"sk-toggleable__control sk-hidden--visually\" id=\"sk-estimator-id-19\" type=\"checkbox\" ><label for=\"sk-estimator-id-19\" class=\"sk-toggleable__label sk-toggleable__label-arrow\">XGBClassifier</label><div class=\"sk-toggleable__content\"><pre>XGBClassifier(base_score=None, booster=None, colsample_bylevel=None,\n",
       "              colsample_bynode=None, colsample_bytree=None,\n",
       "              enable_categorical=False, gamma=None, gpu_id=None,\n",
       "              importance_type=None, interaction_constraints=None,\n",
       "              learning_rate=None, max_delta_step=None, max_depth=None,\n",
       "              min_child_weight=None, missing=nan, monotone_constraints=None,\n",
       "              n_estimators=100, n_jobs=None, num_parallel_tree=None,\n",
       "              predictor=None, random_state=42, reg_alpha=None, reg_lambda=None,\n",
       "              scale_pos_weight=None, subsample=None, tree_method=None,\n",
       "              validate_parameters=None, verbosity=None)</pre></div></div></div></div></div></div></div></div></div></div></div></div>"
      ],
      "text/plain": [
       "GridSearchCV(estimator=Pipeline(steps=[('CT',\n",
       "                                        ColumnTransformer(transformers=[('subpipe_num',\n",
       "                                                                         Pipeline(steps=[('ss',\n",
       "                                                                                          StandardScaler())]),\n",
       "                                                                         [1, 7,\n",
       "                                                                          8]),\n",
       "                                                                        ('subpipe_cat',\n",
       "                                                                         Pipeline(steps=[('ohe',\n",
       "                                                                                          OneHotEncoder(handle_unknown='ignore',\n",
       "                                                                                                        sparse=False))]),\n",
       "                                                                         [0, 2,\n",
       "                                                                          3, 4,\n",
       "                                                                          5, 6,\n",
       "                                                                          9])])),\n",
       "                                       ('SM',\n",
       "                                        SMOTE(random_state=42,\n",
       "                                              sampling_strategy='minority')),\n",
       "                                       ('xgb',\n",
       "                                        XGBClassifier(base_score=Non...\n",
       "                                                      min_child_weight=None,\n",
       "                                                      missing=nan,\n",
       "                                                      monotone_constraints=None,\n",
       "                                                      n_estimators=100,\n",
       "                                                      n_jobs=None,\n",
       "                                                      num_parallel_tree=None,\n",
       "                                                      predictor=None,\n",
       "                                                      random_state=42,\n",
       "                                                      reg_alpha=None,\n",
       "                                                      reg_lambda=None,\n",
       "                                                      scale_pos_weight=None,\n",
       "                                                      subsample=None,\n",
       "                                                      tree_method=None,\n",
       "                                                      validate_parameters=None,\n",
       "                                                      verbosity=None))]),\n",
       "             param_grid={'xgb__learning_rate': [0.05, 0.1, 0.3],\n",
       "                         'xgb__max_depth': [2, 4, 6, 8]},\n",
       "             scoring='f1', verbose=3)"
      ]
     },
     "execution_count": 26,
     "metadata": {},
     "output_type": "execute_result"
    }
   ],
   "source": [
    "xgb_smote_grid.fit(X_train_fin, y_train_fin)"
   ]
  },
  {
   "cell_type": "code",
   "execution_count": 27,
   "id": "48dcd5f2",
   "metadata": {},
   "outputs": [
    {
     "data": {
      "text/plain": [
       "{'xgb__learning_rate': 0.05, 'xgb__max_depth': 6}"
      ]
     },
     "execution_count": 27,
     "metadata": {},
     "output_type": "execute_result"
    }
   ],
   "source": [
    "xgb_smote_grid.best_params_"
   ]
  },
  {
   "cell_type": "code",
   "execution_count": 28,
   "id": "b75222a3",
   "metadata": {},
   "outputs": [],
   "source": [
    "best_xgb_smote = ImPipeline(steps=[('CT', CT),\n",
    "                                   ('SM', subpipe_smote),\n",
    "                                   ('xgb', XGBClassifier(max_depth=6, learning_rate=0.05))])"
   ]
  },
  {
   "cell_type": "code",
   "execution_count": 29,
   "id": "8160ff96",
   "metadata": {},
   "outputs": [
    {
     "name": "stderr",
     "output_type": "stream",
     "text": [
      "/Users/zachpollatsek/opt/anaconda3/envs/capstone/lib/python3.10/site-packages/xgboost/sklearn.py:1224: UserWarning: The use of label encoder in XGBClassifier is deprecated and will be removed in a future release. To remove this warning, do the following: 1) Pass option use_label_encoder=False when constructing XGBClassifier object; and 2) Encode your labels (y) as integers starting with 0, i.e. 0, 1, 2, ..., [num_class - 1].\n",
      "  warnings.warn(label_encoder_deprecation_msg, UserWarning)\n"
     ]
    },
    {
     "name": "stdout",
     "output_type": "stream",
     "text": [
      "[15:48:41] WARNING: /var/folders/sy/f16zz6x50xz3113nwtb9bvq00000gp/T/abs_44tbtwf8c1/croots/recipe/xgboost-split_1659548960882/work/src/learner.cc:1115: Starting in XGBoost 1.3.0, the default evaluation metric used with the objective 'binary:logistic' was changed from 'error' to 'logloss'. Explicitly set eval_metric if you'd like to restore the old behavior.\n"
     ]
    },
    {
     "data": {
      "text/html": [
       "<style>#sk-container-id-4 {color: black;background-color: white;}#sk-container-id-4 pre{padding: 0;}#sk-container-id-4 div.sk-toggleable {background-color: white;}#sk-container-id-4 label.sk-toggleable__label {cursor: pointer;display: block;width: 100%;margin-bottom: 0;padding: 0.3em;box-sizing: border-box;text-align: center;}#sk-container-id-4 label.sk-toggleable__label-arrow:before {content: \"▸\";float: left;margin-right: 0.25em;color: #696969;}#sk-container-id-4 label.sk-toggleable__label-arrow:hover:before {color: black;}#sk-container-id-4 div.sk-estimator:hover label.sk-toggleable__label-arrow:before {color: black;}#sk-container-id-4 div.sk-toggleable__content {max-height: 0;max-width: 0;overflow: hidden;text-align: left;background-color: #f0f8ff;}#sk-container-id-4 div.sk-toggleable__content pre {margin: 0.2em;color: black;border-radius: 0.25em;background-color: #f0f8ff;}#sk-container-id-4 input.sk-toggleable__control:checked~div.sk-toggleable__content {max-height: 200px;max-width: 100%;overflow: auto;}#sk-container-id-4 input.sk-toggleable__control:checked~label.sk-toggleable__label-arrow:before {content: \"▾\";}#sk-container-id-4 div.sk-estimator input.sk-toggleable__control:checked~label.sk-toggleable__label {background-color: #d4ebff;}#sk-container-id-4 div.sk-label input.sk-toggleable__control:checked~label.sk-toggleable__label {background-color: #d4ebff;}#sk-container-id-4 input.sk-hidden--visually {border: 0;clip: rect(1px 1px 1px 1px);clip: rect(1px, 1px, 1px, 1px);height: 1px;margin: -1px;overflow: hidden;padding: 0;position: absolute;width: 1px;}#sk-container-id-4 div.sk-estimator {font-family: monospace;background-color: #f0f8ff;border: 1px dotted black;border-radius: 0.25em;box-sizing: border-box;margin-bottom: 0.5em;}#sk-container-id-4 div.sk-estimator:hover {background-color: #d4ebff;}#sk-container-id-4 div.sk-parallel-item::after {content: \"\";width: 100%;border-bottom: 1px solid gray;flex-grow: 1;}#sk-container-id-4 div.sk-label:hover label.sk-toggleable__label {background-color: #d4ebff;}#sk-container-id-4 div.sk-serial::before {content: \"\";position: absolute;border-left: 1px solid gray;box-sizing: border-box;top: 0;bottom: 0;left: 50%;z-index: 0;}#sk-container-id-4 div.sk-serial {display: flex;flex-direction: column;align-items: center;background-color: white;padding-right: 0.2em;padding-left: 0.2em;position: relative;}#sk-container-id-4 div.sk-item {position: relative;z-index: 1;}#sk-container-id-4 div.sk-parallel {display: flex;align-items: stretch;justify-content: center;background-color: white;position: relative;}#sk-container-id-4 div.sk-item::before, #sk-container-id-4 div.sk-parallel-item::before {content: \"\";position: absolute;border-left: 1px solid gray;box-sizing: border-box;top: 0;bottom: 0;left: 50%;z-index: -1;}#sk-container-id-4 div.sk-parallel-item {display: flex;flex-direction: column;z-index: 1;position: relative;background-color: white;}#sk-container-id-4 div.sk-parallel-item:first-child::after {align-self: flex-end;width: 50%;}#sk-container-id-4 div.sk-parallel-item:last-child::after {align-self: flex-start;width: 50%;}#sk-container-id-4 div.sk-parallel-item:only-child::after {width: 0;}#sk-container-id-4 div.sk-dashed-wrapped {border: 1px dashed gray;margin: 0 0.4em 0.5em 0.4em;box-sizing: border-box;padding-bottom: 0.4em;background-color: white;}#sk-container-id-4 div.sk-label label {font-family: monospace;font-weight: bold;display: inline-block;line-height: 1.2em;}#sk-container-id-4 div.sk-label-container {text-align: center;}#sk-container-id-4 div.sk-container {/* jupyter's `normalize.less` sets `[hidden] { display: none; }` but bootstrap.min.css set `[hidden] { display: none !important; }` so we also need the `!important` here to be able to override the default hidden behavior on the sphinx rendered scikit-learn.org. See: https://github.com/scikit-learn/scikit-learn/issues/21755 */display: inline-block !important;position: relative;}#sk-container-id-4 div.sk-text-repr-fallback {display: none;}</style><div id=\"sk-container-id-4\" class=\"sk-top-container\"><div class=\"sk-text-repr-fallback\"><pre>Pipeline(steps=[(&#x27;CT&#x27;,\n",
       "                 ColumnTransformer(transformers=[(&#x27;subpipe_num&#x27;,\n",
       "                                                  Pipeline(steps=[(&#x27;ss&#x27;,\n",
       "                                                                   StandardScaler())]),\n",
       "                                                  [1, 7, 8]),\n",
       "                                                 (&#x27;subpipe_cat&#x27;,\n",
       "                                                  Pipeline(steps=[(&#x27;ohe&#x27;,\n",
       "                                                                   OneHotEncoder(handle_unknown=&#x27;ignore&#x27;,\n",
       "                                                                                 sparse=False))]),\n",
       "                                                  [0, 2, 3, 4, 5, 6, 9])])),\n",
       "                (&#x27;SM&#x27;, SMOTE(random_state=42, sampling_strategy=&#x27;minority&#x27;)),\n",
       "                (&#x27;xgb&#x27;,\n",
       "                 XGBClassifier(base_score=0.5, booster=&#x27;gbtree&#x27;,\n",
       "                               colsa...\n",
       "                               gamma=0, gpu_id=-1, importance_type=None,\n",
       "                               interaction_constraints=&#x27;&#x27;, learning_rate=0.05,\n",
       "                               max_delta_step=0, max_depth=6,\n",
       "                               min_child_weight=1, missing=nan,\n",
       "                               monotone_constraints=&#x27;()&#x27;, n_estimators=100,\n",
       "                               n_jobs=8, num_parallel_tree=1, predictor=&#x27;auto&#x27;,\n",
       "                               random_state=0, reg_alpha=0, reg_lambda=1,\n",
       "                               scale_pos_weight=1, subsample=1,\n",
       "                               tree_method=&#x27;exact&#x27;, validate_parameters=1,\n",
       "                               verbosity=None))])</pre><b>In a Jupyter environment, please rerun this cell to show the HTML representation or trust the notebook. <br />On GitHub, the HTML representation is unable to render, please try loading this page with nbviewer.org.</b></div><div class=\"sk-container\" hidden><div class=\"sk-item sk-dashed-wrapped\"><div class=\"sk-label-container\"><div class=\"sk-label sk-toggleable\"><input class=\"sk-toggleable__control sk-hidden--visually\" id=\"sk-estimator-id-20\" type=\"checkbox\" ><label for=\"sk-estimator-id-20\" class=\"sk-toggleable__label sk-toggleable__label-arrow\">Pipeline</label><div class=\"sk-toggleable__content\"><pre>Pipeline(steps=[(&#x27;CT&#x27;,\n",
       "                 ColumnTransformer(transformers=[(&#x27;subpipe_num&#x27;,\n",
       "                                                  Pipeline(steps=[(&#x27;ss&#x27;,\n",
       "                                                                   StandardScaler())]),\n",
       "                                                  [1, 7, 8]),\n",
       "                                                 (&#x27;subpipe_cat&#x27;,\n",
       "                                                  Pipeline(steps=[(&#x27;ohe&#x27;,\n",
       "                                                                   OneHotEncoder(handle_unknown=&#x27;ignore&#x27;,\n",
       "                                                                                 sparse=False))]),\n",
       "                                                  [0, 2, 3, 4, 5, 6, 9])])),\n",
       "                (&#x27;SM&#x27;, SMOTE(random_state=42, sampling_strategy=&#x27;minority&#x27;)),\n",
       "                (&#x27;xgb&#x27;,\n",
       "                 XGBClassifier(base_score=0.5, booster=&#x27;gbtree&#x27;,\n",
       "                               colsa...\n",
       "                               gamma=0, gpu_id=-1, importance_type=None,\n",
       "                               interaction_constraints=&#x27;&#x27;, learning_rate=0.05,\n",
       "                               max_delta_step=0, max_depth=6,\n",
       "                               min_child_weight=1, missing=nan,\n",
       "                               monotone_constraints=&#x27;()&#x27;, n_estimators=100,\n",
       "                               n_jobs=8, num_parallel_tree=1, predictor=&#x27;auto&#x27;,\n",
       "                               random_state=0, reg_alpha=0, reg_lambda=1,\n",
       "                               scale_pos_weight=1, subsample=1,\n",
       "                               tree_method=&#x27;exact&#x27;, validate_parameters=1,\n",
       "                               verbosity=None))])</pre></div></div></div><div class=\"sk-serial\"><div class=\"sk-item sk-dashed-wrapped\"><div class=\"sk-label-container\"><div class=\"sk-label sk-toggleable\"><input class=\"sk-toggleable__control sk-hidden--visually\" id=\"sk-estimator-id-21\" type=\"checkbox\" ><label for=\"sk-estimator-id-21\" class=\"sk-toggleable__label sk-toggleable__label-arrow\">CT: ColumnTransformer</label><div class=\"sk-toggleable__content\"><pre>ColumnTransformer(transformers=[(&#x27;subpipe_num&#x27;,\n",
       "                                 Pipeline(steps=[(&#x27;ss&#x27;, StandardScaler())]),\n",
       "                                 [1, 7, 8]),\n",
       "                                (&#x27;subpipe_cat&#x27;,\n",
       "                                 Pipeline(steps=[(&#x27;ohe&#x27;,\n",
       "                                                  OneHotEncoder(handle_unknown=&#x27;ignore&#x27;,\n",
       "                                                                sparse=False))]),\n",
       "                                 [0, 2, 3, 4, 5, 6, 9])])</pre></div></div></div><div class=\"sk-parallel\"><div class=\"sk-parallel-item\"><div class=\"sk-item\"><div class=\"sk-label-container\"><div class=\"sk-label sk-toggleable\"><input class=\"sk-toggleable__control sk-hidden--visually\" id=\"sk-estimator-id-22\" type=\"checkbox\" ><label for=\"sk-estimator-id-22\" class=\"sk-toggleable__label sk-toggleable__label-arrow\">subpipe_num</label><div class=\"sk-toggleable__content\"><pre>[1, 7, 8]</pre></div></div></div><div class=\"sk-serial\"><div class=\"sk-item\"><div class=\"sk-serial\"><div class=\"sk-item\"><div class=\"sk-estimator sk-toggleable\"><input class=\"sk-toggleable__control sk-hidden--visually\" id=\"sk-estimator-id-23\" type=\"checkbox\" ><label for=\"sk-estimator-id-23\" class=\"sk-toggleable__label sk-toggleable__label-arrow\">StandardScaler</label><div class=\"sk-toggleable__content\"><pre>StandardScaler()</pre></div></div></div></div></div></div></div></div><div class=\"sk-parallel-item\"><div class=\"sk-item\"><div class=\"sk-label-container\"><div class=\"sk-label sk-toggleable\"><input class=\"sk-toggleable__control sk-hidden--visually\" id=\"sk-estimator-id-24\" type=\"checkbox\" ><label for=\"sk-estimator-id-24\" class=\"sk-toggleable__label sk-toggleable__label-arrow\">subpipe_cat</label><div class=\"sk-toggleable__content\"><pre>[0, 2, 3, 4, 5, 6, 9]</pre></div></div></div><div class=\"sk-serial\"><div class=\"sk-item\"><div class=\"sk-serial\"><div class=\"sk-item\"><div class=\"sk-estimator sk-toggleable\"><input class=\"sk-toggleable__control sk-hidden--visually\" id=\"sk-estimator-id-25\" type=\"checkbox\" ><label for=\"sk-estimator-id-25\" class=\"sk-toggleable__label sk-toggleable__label-arrow\">OneHotEncoder</label><div class=\"sk-toggleable__content\"><pre>OneHotEncoder(handle_unknown=&#x27;ignore&#x27;, sparse=False)</pre></div></div></div></div></div></div></div></div></div></div><div class=\"sk-item\"><div class=\"sk-estimator sk-toggleable\"><input class=\"sk-toggleable__control sk-hidden--visually\" id=\"sk-estimator-id-26\" type=\"checkbox\" ><label for=\"sk-estimator-id-26\" class=\"sk-toggleable__label sk-toggleable__label-arrow\">SMOTE</label><div class=\"sk-toggleable__content\"><pre>SMOTE(random_state=42, sampling_strategy=&#x27;minority&#x27;)</pre></div></div></div><div class=\"sk-item\"><div class=\"sk-estimator sk-toggleable\"><input class=\"sk-toggleable__control sk-hidden--visually\" id=\"sk-estimator-id-27\" type=\"checkbox\" ><label for=\"sk-estimator-id-27\" class=\"sk-toggleable__label sk-toggleable__label-arrow\">XGBClassifier</label><div class=\"sk-toggleable__content\"><pre>XGBClassifier(base_score=0.5, booster=&#x27;gbtree&#x27;, colsample_bylevel=1,\n",
       "              colsample_bynode=1, colsample_bytree=1, enable_categorical=False,\n",
       "              gamma=0, gpu_id=-1, importance_type=None,\n",
       "              interaction_constraints=&#x27;&#x27;, learning_rate=0.05, max_delta_step=0,\n",
       "              max_depth=6, min_child_weight=1, missing=nan,\n",
       "              monotone_constraints=&#x27;()&#x27;, n_estimators=100, n_jobs=8,\n",
       "              num_parallel_tree=1, predictor=&#x27;auto&#x27;, random_state=0,\n",
       "              reg_alpha=0, reg_lambda=1, scale_pos_weight=1, subsample=1,\n",
       "              tree_method=&#x27;exact&#x27;, validate_parameters=1, verbosity=None)</pre></div></div></div></div></div></div></div>"
      ],
      "text/plain": [
       "Pipeline(steps=[('CT',\n",
       "                 ColumnTransformer(transformers=[('subpipe_num',\n",
       "                                                  Pipeline(steps=[('ss',\n",
       "                                                                   StandardScaler())]),\n",
       "                                                  [1, 7, 8]),\n",
       "                                                 ('subpipe_cat',\n",
       "                                                  Pipeline(steps=[('ohe',\n",
       "                                                                   OneHotEncoder(handle_unknown='ignore',\n",
       "                                                                                 sparse=False))]),\n",
       "                                                  [0, 2, 3, 4, 5, 6, 9])])),\n",
       "                ('SM', SMOTE(random_state=42, sampling_strategy='minority')),\n",
       "                ('xgb',\n",
       "                 XGBClassifier(base_score=0.5, booster='gbtree',\n",
       "                               colsa...\n",
       "                               gamma=0, gpu_id=-1, importance_type=None,\n",
       "                               interaction_constraints='', learning_rate=0.05,\n",
       "                               max_delta_step=0, max_depth=6,\n",
       "                               min_child_weight=1, missing=nan,\n",
       "                               monotone_constraints='()', n_estimators=100,\n",
       "                               n_jobs=8, num_parallel_tree=1, predictor='auto',\n",
       "                               random_state=0, reg_alpha=0, reg_lambda=1,\n",
       "                               scale_pos_weight=1, subsample=1,\n",
       "                               tree_method='exact', validate_parameters=1,\n",
       "                               verbosity=None))])"
      ]
     },
     "execution_count": 29,
     "metadata": {},
     "output_type": "execute_result"
    }
   ],
   "source": [
    "best_xgb_smote.fit(X_train_fin, y_train_fin)"
   ]
  },
  {
   "cell_type": "code",
   "execution_count": 31,
   "id": "38becac7",
   "metadata": {},
   "outputs": [
    {
     "data": {
      "text/plain": [
       "0.1372549019607843"
      ]
     },
     "execution_count": 31,
     "metadata": {},
     "output_type": "execute_result"
    }
   ],
   "source": [
    "best_xgb_f1_val = f1_score(y_val, best_xgb_smote.predict(X_val))\n",
    "best_xgb_f1_val"
   ]
  },
  {
   "cell_type": "code",
   "execution_count": 32,
   "id": "e6a74ff3",
   "metadata": {},
   "outputs": [
    {
     "name": "stderr",
     "output_type": "stream",
     "text": [
      "/Users/zachpollatsek/opt/anaconda3/envs/capstone/lib/python3.10/site-packages/sklearn/utils/deprecation.py:87: FutureWarning: Function plot_confusion_matrix is deprecated; Function `plot_confusion_matrix` is deprecated in 1.0 and will be removed in 1.2. Use one of the class methods: ConfusionMatrixDisplay.from_predictions or ConfusionMatrixDisplay.from_estimator.\n",
      "  warnings.warn(msg, category=FutureWarning)\n"
     ]
    },
    {
     "data": {
      "text/plain": [
       "<sklearn.metrics._plot.confusion_matrix.ConfusionMatrixDisplay at 0x7f843268efb0>"
      ]
     },
     "execution_count": 32,
     "metadata": {},
     "output_type": "execute_result"
    },
    {
     "data": {
      "image/png": "[encoded data removed]",
      "text/plain": [
       "<Figure size 432x288 with 2 Axes>"
      ]
     },
     "metadata": {
      "needs_background": "light"
     },
     "output_type": "display_data"
    }
   ],
   "source": [
    "plot_confusion_matrix(best_xgb_smote, X_val, y_val)"
   ]
  },
  {
   "cell_type": "code",
   "execution_count": null,
   "id": "2e11c23d",
   "metadata": {},
   "outputs": [],
   "source": []
  }
 ],
 "metadata": {
  "kernelspec": {
   "display_name": "Python 3 (ipykernel)",
   "language": "python",
   "name": "python3"
  },
  "language_info": {
   "codemirror_mode": {
    "name": "ipython",
    "version": 3
   },
   "file_extension": ".py",
   "mimetype": "text/x-python",
   "name": "python",
   "nbconvert_exporter": "python",
   "pygments_lexer": "ipython3",
   "version": "3.10.4"
  }
 },
 "nbformat": 4,
 "nbformat_minor": 5
}
